{
 "cells": [
  {
   "cell_type": "markdown",
   "metadata": {},
   "source": [
    "\n",
    "\n",
    "\n",
    "# Анализ списка разрешений на строительство.\n",
    "\n",
    "\n"
   ]
  },
  {
   "cell_type": "code",
   "execution_count": 1,
   "metadata": {},
   "outputs": [],
   "source": [
    "import numpy as np\n",
    "import matplotlib.pyplot as plt\n",
    "import pandas as pd\n",
    "%matplotlib inline"
   ]
  },
  {
   "cell_type": "markdown",
   "metadata": {},
   "source": [
    "**Загружаем данные из файла, взятого с** https://www.kaggle.com/aparnashastry/building-permit-applications-data/version/1 \n",
    "\n",
    "Data set представляет собой набор данных о разрешениях на строительство с 1 января 2013 года по 25 февраля 2018 года. Данные содержат сведения о номерах разрешений, надзорных округах и текущем статусе заявок. \n",
    "\n",
    "Чем интересен этот набор, так это тем, что однозначно не поставить задачу для получения информации, которую нужно извлечь из таблицы. Этот набор полезен, к примеру, для строителей, подрядчиков, агентов по недвижимости, каждый из которых будет искать ответ на свой вопрос из определенных категорий и объема данных. \n",
    "\n",
    "Мне стало интересно узнать из этого набора данных, какова стоимость построек в зависимости от их расположения, применения. \n",
    "\n",
    "\n",
    "\n",
    "\n",
    "\n",
    "\n",
    "\n"
   ]
  },
  {
   "cell_type": "code",
   "execution_count": 2,
   "metadata": {},
   "outputs": [],
   "source": [
    "data = pd.read_csv('c:/Users/Novozhilova Nastya/AnacondaProjects/Machine_learning/Building.csv', sep = ',', engine = 'python')"
   ]
  },
  {
   "cell_type": "code",
   "execution_count": 3,
   "metadata": {},
   "outputs": [
    {
     "data": {
      "text/plain": [
       "pandas.core.frame.DataFrame"
      ]
     },
     "execution_count": 3,
     "metadata": {},
     "output_type": "execute_result"
    }
   ],
   "source": [
    "type(data)"
   ]
  },
  {
   "cell_type": "markdown",
   "metadata": {},
   "source": [
    "Данных достаточно много, поэтому покажем малую часть.\n",
    "\n",
    "\n",
    "\n",
    "\n",
    "\n",
    "\n"
   ]
  },
  {
   "cell_type": "code",
   "execution_count": 4,
   "metadata": {},
   "outputs": [
    {
     "data": {
      "text/html": [
       "<div>\n",
       "<style scoped>\n",
       "    .dataframe tbody tr th:only-of-type {\n",
       "        vertical-align: middle;\n",
       "    }\n",
       "\n",
       "    .dataframe tbody tr th {\n",
       "        vertical-align: top;\n",
       "    }\n",
       "\n",
       "    .dataframe thead th {\n",
       "        text-align: right;\n",
       "    }\n",
       "</style>\n",
       "<table border=\"1\" class=\"dataframe\">\n",
       "  <thead>\n",
       "    <tr style=\"text-align: right;\">\n",
       "      <th></th>\n",
       "      <th>Permit Number</th>\n",
       "      <th>Permit Type</th>\n",
       "      <th>Permit Type Definition</th>\n",
       "      <th>Permit Creation Date</th>\n",
       "      <th>Block</th>\n",
       "      <th>Lot</th>\n",
       "      <th>Street Number</th>\n",
       "      <th>Street Number Suffix</th>\n",
       "      <th>Street Name</th>\n",
       "      <th>Street Suffix</th>\n",
       "      <th>...</th>\n",
       "      <th>Existing Construction Type</th>\n",
       "      <th>Existing Construction Type Description</th>\n",
       "      <th>Proposed Construction Type</th>\n",
       "      <th>Proposed Construction Type Description</th>\n",
       "      <th>Site Permit</th>\n",
       "      <th>Supervisor District</th>\n",
       "      <th>Neighborhoods - Analysis Boundaries</th>\n",
       "      <th>Zipcode</th>\n",
       "      <th>Location</th>\n",
       "      <th>Record ID</th>\n",
       "    </tr>\n",
       "  </thead>\n",
       "  <tbody>\n",
       "    <tr>\n",
       "      <th>0</th>\n",
       "      <td>201505065519</td>\n",
       "      <td>4</td>\n",
       "      <td>sign - erect</td>\n",
       "      <td>05/06/2015</td>\n",
       "      <td>0326</td>\n",
       "      <td>023</td>\n",
       "      <td>140.0</td>\n",
       "      <td>NaN</td>\n",
       "      <td>Ellis</td>\n",
       "      <td>St</td>\n",
       "      <td>...</td>\n",
       "      <td>3.0</td>\n",
       "      <td>constr type 3</td>\n",
       "      <td>NaN</td>\n",
       "      <td>NaN</td>\n",
       "      <td>NaN</td>\n",
       "      <td>3.0</td>\n",
       "      <td>Tenderloin</td>\n",
       "      <td>94102.0</td>\n",
       "      <td>(37.785719256680785, -122.40852313194863)</td>\n",
       "      <td>1.380611e+12</td>\n",
       "    </tr>\n",
       "    <tr>\n",
       "      <th>1</th>\n",
       "      <td>201604195146</td>\n",
       "      <td>4</td>\n",
       "      <td>sign - erect</td>\n",
       "      <td>04/19/2016</td>\n",
       "      <td>0306</td>\n",
       "      <td>007</td>\n",
       "      <td>440.0</td>\n",
       "      <td>NaN</td>\n",
       "      <td>Geary</td>\n",
       "      <td>St</td>\n",
       "      <td>...</td>\n",
       "      <td>3.0</td>\n",
       "      <td>constr type 3</td>\n",
       "      <td>NaN</td>\n",
       "      <td>NaN</td>\n",
       "      <td>NaN</td>\n",
       "      <td>3.0</td>\n",
       "      <td>Tenderloin</td>\n",
       "      <td>94102.0</td>\n",
       "      <td>(37.78733980600732, -122.41063199757738)</td>\n",
       "      <td>1.420164e+12</td>\n",
       "    </tr>\n",
       "    <tr>\n",
       "      <th>2</th>\n",
       "      <td>201605278609</td>\n",
       "      <td>3</td>\n",
       "      <td>additions alterations or repairs</td>\n",
       "      <td>05/27/2016</td>\n",
       "      <td>0595</td>\n",
       "      <td>203</td>\n",
       "      <td>1647.0</td>\n",
       "      <td>NaN</td>\n",
       "      <td>Pacific</td>\n",
       "      <td>Av</td>\n",
       "      <td>...</td>\n",
       "      <td>1.0</td>\n",
       "      <td>constr type 1</td>\n",
       "      <td>1.0</td>\n",
       "      <td>constr type 1</td>\n",
       "      <td>NaN</td>\n",
       "      <td>3.0</td>\n",
       "      <td>Russian Hill</td>\n",
       "      <td>94109.0</td>\n",
       "      <td>(37.7946573324287, -122.42232562979227)</td>\n",
       "      <td>1.424857e+12</td>\n",
       "    </tr>\n",
       "    <tr>\n",
       "      <th>3</th>\n",
       "      <td>201611072166</td>\n",
       "      <td>8</td>\n",
       "      <td>otc alterations permit</td>\n",
       "      <td>11/07/2016</td>\n",
       "      <td>0156</td>\n",
       "      <td>011</td>\n",
       "      <td>1230.0</td>\n",
       "      <td>NaN</td>\n",
       "      <td>Pacific</td>\n",
       "      <td>Av</td>\n",
       "      <td>...</td>\n",
       "      <td>5.0</td>\n",
       "      <td>wood frame (5)</td>\n",
       "      <td>5.0</td>\n",
       "      <td>wood frame (5)</td>\n",
       "      <td>NaN</td>\n",
       "      <td>3.0</td>\n",
       "      <td>Nob Hill</td>\n",
       "      <td>94109.0</td>\n",
       "      <td>(37.79595867909168, -122.41557405519474)</td>\n",
       "      <td>1.443574e+12</td>\n",
       "    </tr>\n",
       "    <tr>\n",
       "      <th>4</th>\n",
       "      <td>201611283529</td>\n",
       "      <td>6</td>\n",
       "      <td>demolitions</td>\n",
       "      <td>11/28/2016</td>\n",
       "      <td>0342</td>\n",
       "      <td>001</td>\n",
       "      <td>950.0</td>\n",
       "      <td>NaN</td>\n",
       "      <td>Market</td>\n",
       "      <td>St</td>\n",
       "      <td>...</td>\n",
       "      <td>3.0</td>\n",
       "      <td>constr type 3</td>\n",
       "      <td>NaN</td>\n",
       "      <td>NaN</td>\n",
       "      <td>NaN</td>\n",
       "      <td>6.0</td>\n",
       "      <td>Tenderloin</td>\n",
       "      <td>94102.0</td>\n",
       "      <td>(37.78315261897309, -122.40950883997789)</td>\n",
       "      <td>1.445482e+11</td>\n",
       "    </tr>\n",
       "    <tr>\n",
       "      <th>5</th>\n",
       "      <td>201706149344</td>\n",
       "      <td>8</td>\n",
       "      <td>otc alterations permit</td>\n",
       "      <td>06/14/2017</td>\n",
       "      <td>4105</td>\n",
       "      <td>009</td>\n",
       "      <td>800.0</td>\n",
       "      <td>NaN</td>\n",
       "      <td>Indiana</td>\n",
       "      <td>St</td>\n",
       "      <td>...</td>\n",
       "      <td>1.0</td>\n",
       "      <td>constr type 1</td>\n",
       "      <td>1.0</td>\n",
       "      <td>constr type 1</td>\n",
       "      <td>NaN</td>\n",
       "      <td>10.0</td>\n",
       "      <td>Potrero Hill</td>\n",
       "      <td>94107.0</td>\n",
       "      <td>(37.75922331346539, -122.39170402628598)</td>\n",
       "      <td>1.466911e+12</td>\n",
       "    </tr>\n",
       "    <tr>\n",
       "      <th>6</th>\n",
       "      <td>201706300814</td>\n",
       "      <td>8</td>\n",
       "      <td>otc alterations permit</td>\n",
       "      <td>06/30/2017</td>\n",
       "      <td>1739</td>\n",
       "      <td>020</td>\n",
       "      <td>1291.0</td>\n",
       "      <td>NaN</td>\n",
       "      <td>11th</td>\n",
       "      <td>Av</td>\n",
       "      <td>...</td>\n",
       "      <td>5.0</td>\n",
       "      <td>wood frame (5)</td>\n",
       "      <td>5.0</td>\n",
       "      <td>wood frame (5)</td>\n",
       "      <td>NaN</td>\n",
       "      <td>5.0</td>\n",
       "      <td>Inner Sunset</td>\n",
       "      <td>94122.0</td>\n",
       "      <td>(37.764145640138565, -122.46875112470363)</td>\n",
       "      <td>1.468970e+12</td>\n",
       "    </tr>\n",
       "    <tr>\n",
       "      <th>7</th>\n",
       "      <td>M803667</td>\n",
       "      <td>8</td>\n",
       "      <td>otc alterations permit</td>\n",
       "      <td>06/30/2017</td>\n",
       "      <td>4789</td>\n",
       "      <td>014</td>\n",
       "      <td>1465.0</td>\n",
       "      <td>NaN</td>\n",
       "      <td>Revere</td>\n",
       "      <td>Av</td>\n",
       "      <td>...</td>\n",
       "      <td>NaN</td>\n",
       "      <td>NaN</td>\n",
       "      <td>NaN</td>\n",
       "      <td>NaN</td>\n",
       "      <td>NaN</td>\n",
       "      <td>10.0</td>\n",
       "      <td>Bayview Hunters Point</td>\n",
       "      <td>94124.0</td>\n",
       "      <td>(37.73005099023611, -122.38784938916618)</td>\n",
       "      <td>1.469035e+12</td>\n",
       "    </tr>\n",
       "    <tr>\n",
       "      <th>8</th>\n",
       "      <td>M804227</td>\n",
       "      <td>8</td>\n",
       "      <td>otc alterations permit</td>\n",
       "      <td>07/05/2017</td>\n",
       "      <td>1212</td>\n",
       "      <td>054</td>\n",
       "      <td>2094.0</td>\n",
       "      <td>NaN</td>\n",
       "      <td>Fell</td>\n",
       "      <td>St</td>\n",
       "      <td>...</td>\n",
       "      <td>NaN</td>\n",
       "      <td>NaN</td>\n",
       "      <td>NaN</td>\n",
       "      <td>NaN</td>\n",
       "      <td>NaN</td>\n",
       "      <td>5.0</td>\n",
       "      <td>Lone Mountain/USF</td>\n",
       "      <td>94117.0</td>\n",
       "      <td>(37.772393498502595, -122.45231466824669)</td>\n",
       "      <td>1.469198e+12</td>\n",
       "    </tr>\n",
       "    <tr>\n",
       "      <th>9</th>\n",
       "      <td>M804767</td>\n",
       "      <td>8</td>\n",
       "      <td>otc alterations permit</td>\n",
       "      <td>07/06/2017</td>\n",
       "      <td>1259</td>\n",
       "      <td>016</td>\n",
       "      <td>89.0</td>\n",
       "      <td>NaN</td>\n",
       "      <td>Alpine</td>\n",
       "      <td>Tr</td>\n",
       "      <td>...</td>\n",
       "      <td>NaN</td>\n",
       "      <td>NaN</td>\n",
       "      <td>NaN</td>\n",
       "      <td>NaN</td>\n",
       "      <td>NaN</td>\n",
       "      <td>8.0</td>\n",
       "      <td>Haight Ashbury</td>\n",
       "      <td>94117.0</td>\n",
       "      <td>(37.7691724293766, -122.43734859051908)</td>\n",
       "      <td>1.469324e+11</td>\n",
       "    </tr>\n",
       "  </tbody>\n",
       "</table>\n",
       "<p>10 rows × 43 columns</p>\n",
       "</div>"
      ],
      "text/plain": [
       "  Permit Number  Permit Type            Permit Type Definition  \\\n",
       "0  201505065519            4                      sign - erect   \n",
       "1  201604195146            4                      sign - erect   \n",
       "2  201605278609            3  additions alterations or repairs   \n",
       "3  201611072166            8            otc alterations permit   \n",
       "4  201611283529            6                       demolitions   \n",
       "5  201706149344            8            otc alterations permit   \n",
       "6  201706300814            8            otc alterations permit   \n",
       "7       M803667            8            otc alterations permit   \n",
       "8       M804227            8            otc alterations permit   \n",
       "9       M804767            8            otc alterations permit   \n",
       "\n",
       "  Permit Creation Date Block  Lot  Street Number Street Number Suffix  \\\n",
       "0           05/06/2015  0326  023          140.0                  NaN   \n",
       "1           04/19/2016  0306  007          440.0                  NaN   \n",
       "2           05/27/2016  0595  203         1647.0                  NaN   \n",
       "3           11/07/2016  0156  011         1230.0                  NaN   \n",
       "4           11/28/2016  0342  001          950.0                  NaN   \n",
       "5           06/14/2017  4105  009          800.0                  NaN   \n",
       "6           06/30/2017  1739  020         1291.0                  NaN   \n",
       "7           06/30/2017  4789  014         1465.0                  NaN   \n",
       "8           07/05/2017  1212  054         2094.0                  NaN   \n",
       "9           07/06/2017  1259  016           89.0                  NaN   \n",
       "\n",
       "  Street Name Street Suffix           ...            \\\n",
       "0       Ellis            St           ...             \n",
       "1       Geary            St           ...             \n",
       "2     Pacific            Av           ...             \n",
       "3     Pacific            Av           ...             \n",
       "4      Market            St           ...             \n",
       "5     Indiana            St           ...             \n",
       "6        11th            Av           ...             \n",
       "7      Revere            Av           ...             \n",
       "8        Fell            St           ...             \n",
       "9      Alpine            Tr           ...             \n",
       "\n",
       "  Existing Construction Type Existing Construction Type Description  \\\n",
       "0                        3.0                          constr type 3   \n",
       "1                        3.0                          constr type 3   \n",
       "2                        1.0                          constr type 1   \n",
       "3                        5.0                         wood frame (5)   \n",
       "4                        3.0                          constr type 3   \n",
       "5                        1.0                          constr type 1   \n",
       "6                        5.0                         wood frame (5)   \n",
       "7                        NaN                                    NaN   \n",
       "8                        NaN                                    NaN   \n",
       "9                        NaN                                    NaN   \n",
       "\n",
       "  Proposed Construction Type Proposed Construction Type Description  \\\n",
       "0                        NaN                                    NaN   \n",
       "1                        NaN                                    NaN   \n",
       "2                        1.0                          constr type 1   \n",
       "3                        5.0                         wood frame (5)   \n",
       "4                        NaN                                    NaN   \n",
       "5                        1.0                          constr type 1   \n",
       "6                        5.0                         wood frame (5)   \n",
       "7                        NaN                                    NaN   \n",
       "8                        NaN                                    NaN   \n",
       "9                        NaN                                    NaN   \n",
       "\n",
       "  Site Permit Supervisor District Neighborhoods - Analysis Boundaries  \\\n",
       "0         NaN                 3.0                          Tenderloin   \n",
       "1         NaN                 3.0                          Tenderloin   \n",
       "2         NaN                 3.0                        Russian Hill   \n",
       "3         NaN                 3.0                            Nob Hill   \n",
       "4         NaN                 6.0                          Tenderloin   \n",
       "5         NaN                10.0                        Potrero Hill   \n",
       "6         NaN                 5.0                        Inner Sunset   \n",
       "7         NaN                10.0               Bayview Hunters Point   \n",
       "8         NaN                 5.0                   Lone Mountain/USF   \n",
       "9         NaN                 8.0                      Haight Ashbury   \n",
       "\n",
       "   Zipcode                                   Location Record ID\\t\\t\\t\\t\\t\\t\\t  \n",
       "0  94102.0  (37.785719256680785, -122.40852313194863)            1.380611e+12  \n",
       "1  94102.0   (37.78733980600732, -122.41063199757738)            1.420164e+12  \n",
       "2  94109.0    (37.7946573324287, -122.42232562979227)            1.424857e+12  \n",
       "3  94109.0   (37.79595867909168, -122.41557405519474)            1.443574e+12  \n",
       "4  94102.0   (37.78315261897309, -122.40950883997789)            1.445482e+11  \n",
       "5  94107.0   (37.75922331346539, -122.39170402628598)            1.466911e+12  \n",
       "6  94122.0  (37.764145640138565, -122.46875112470363)            1.468970e+12  \n",
       "7  94124.0   (37.73005099023611, -122.38784938916618)            1.469035e+12  \n",
       "8  94117.0  (37.772393498502595, -122.45231466824669)            1.469198e+12  \n",
       "9  94117.0    (37.7691724293766, -122.43734859051908)            1.469324e+11  \n",
       "\n",
       "[10 rows x 43 columns]"
      ]
     },
     "execution_count": 4,
     "metadata": {},
     "output_type": "execute_result"
    }
   ],
   "source": [
    "data[:10]"
   ]
  },
  {
   "cell_type": "code",
   "execution_count": 5,
   "metadata": {},
   "outputs": [
    {
     "name": "stdout",
     "output_type": "stream",
     "text": [
      "  Permit Number  Permit Type            Permit Type Definition  \\\n",
      "0  201505065519            4                      sign - erect   \n",
      "1  201604195146            4                      sign - erect   \n",
      "2  201605278609            3  additions alterations or repairs   \n",
      "3  201611072166            8            otc alterations permit   \n",
      "4  201611283529            6                       demolitions   \n",
      "5  201706149344            8            otc alterations permit   \n",
      "6  201706300814            8            otc alterations permit   \n",
      "7       M803667            8            otc alterations permit   \n",
      "8       M804227            8            otc alterations permit   \n",
      "9       M804767            8            otc alterations permit   \n",
      "\n",
      "  Permit Creation Date Block  Lot  Street Number Street Number Suffix  \\\n",
      "0           05/06/2015  0326  023          140.0                  NaN   \n",
      "1           04/19/2016  0306  007          440.0                  NaN   \n",
      "2           05/27/2016  0595  203         1647.0                  NaN   \n",
      "3           11/07/2016  0156  011         1230.0                  NaN   \n",
      "4           11/28/2016  0342  001          950.0                  NaN   \n",
      "5           06/14/2017  4105  009          800.0                  NaN   \n",
      "6           06/30/2017  1739  020         1291.0                  NaN   \n",
      "7           06/30/2017  4789  014         1465.0                  NaN   \n",
      "8           07/05/2017  1212  054         2094.0                  NaN   \n",
      "9           07/06/2017  1259  016           89.0                  NaN   \n",
      "\n",
      "  Street Name Street Suffix           ...            \\\n",
      "0       Ellis            St           ...             \n",
      "1       Geary            St           ...             \n",
      "2     Pacific            Av           ...             \n",
      "3     Pacific            Av           ...             \n",
      "4      Market            St           ...             \n",
      "5     Indiana            St           ...             \n",
      "6        11th            Av           ...             \n",
      "7      Revere            Av           ...             \n",
      "8        Fell            St           ...             \n",
      "9      Alpine            Tr           ...             \n",
      "\n",
      "  Existing Construction Type Existing Construction Type Description  \\\n",
      "0                        3.0                          constr type 3   \n",
      "1                        3.0                          constr type 3   \n",
      "2                        1.0                          constr type 1   \n",
      "3                        5.0                         wood frame (5)   \n",
      "4                        3.0                          constr type 3   \n",
      "5                        1.0                          constr type 1   \n",
      "6                        5.0                         wood frame (5)   \n",
      "7                        NaN                                    NaN   \n",
      "8                        NaN                                    NaN   \n",
      "9                        NaN                                    NaN   \n",
      "\n",
      "  Proposed Construction Type Proposed Construction Type Description  \\\n",
      "0                        NaN                                    NaN   \n",
      "1                        NaN                                    NaN   \n",
      "2                        1.0                          constr type 1   \n",
      "3                        5.0                         wood frame (5)   \n",
      "4                        NaN                                    NaN   \n",
      "5                        1.0                          constr type 1   \n",
      "6                        5.0                         wood frame (5)   \n",
      "7                        NaN                                    NaN   \n",
      "8                        NaN                                    NaN   \n",
      "9                        NaN                                    NaN   \n",
      "\n",
      "  Site Permit Supervisor District Neighborhoods - Analysis Boundaries  \\\n",
      "0         NaN                 3.0                          Tenderloin   \n",
      "1         NaN                 3.0                          Tenderloin   \n",
      "2         NaN                 3.0                        Russian Hill   \n",
      "3         NaN                 3.0                            Nob Hill   \n",
      "4         NaN                 6.0                          Tenderloin   \n",
      "5         NaN                10.0                        Potrero Hill   \n",
      "6         NaN                 5.0                        Inner Sunset   \n",
      "7         NaN                10.0               Bayview Hunters Point   \n",
      "8         NaN                 5.0                   Lone Mountain/USF   \n",
      "9         NaN                 8.0                      Haight Ashbury   \n",
      "\n",
      "   Zipcode                                   Location Record ID\\t\\t\\t\\t\\t\\t\\t  \n",
      "0  94102.0  (37.785719256680785, -122.40852313194863)            1.380611e+12  \n",
      "1  94102.0   (37.78733980600732, -122.41063199757738)            1.420164e+12  \n",
      "2  94109.0    (37.7946573324287, -122.42232562979227)            1.424857e+12  \n",
      "3  94109.0   (37.79595867909168, -122.41557405519474)            1.443574e+12  \n",
      "4  94102.0   (37.78315261897309, -122.40950883997789)            1.445482e+11  \n",
      "5  94107.0   (37.75922331346539, -122.39170402628598)            1.466911e+12  \n",
      "6  94122.0  (37.764145640138565, -122.46875112470363)            1.468970e+12  \n",
      "7  94124.0   (37.73005099023611, -122.38784938916618)            1.469035e+12  \n",
      "8  94117.0  (37.772393498502595, -122.45231466824669)            1.469198e+12  \n",
      "9  94117.0    (37.7691724293766, -122.43734859051908)            1.469324e+11  \n",
      "\n",
      "[10 rows x 43 columns]\n"
     ]
    }
   ],
   "source": [
    "print(data[:10])"
   ]
  },
  {
   "cell_type": "markdown",
   "metadata": {},
   "source": [
    "Видим,что данные содержат 43 колонки - 43 различных признака. \n",
    "Некоторые признаки не будем принимать во внимание, удалим их из набора.\n",
    "\n",
    "\n",
    "\n",
    "\n",
    "\n",
    "\n"
   ]
  },
  {
   "cell_type": "code",
   "execution_count": 6,
   "metadata": {},
   "outputs": [],
   "source": [
    "data = data.drop(['Block', 'Lot', 'Street Number Suffix', 'Unit', 'Unit Suffix', 'Structural Notification','Number of Existing Stories', 'Number of Proposed Stories','Voluntary Soft-Story Retrofit', 'Fire Only Permit', 'Permit Expiration Date', 'Revised Cost', 'Existing Units','Proposed Use', 'Proposed Units', 'Plansets', 'TIDF Compliance', 'Proposed Construction Type', 'Proposed Construction Type Description', 'Site Permit', 'Supervisor District', 'Zipcode', 'Location', 'Issued Date','First Construction Document Date', 'Permit Creation Date', 'Current Status Date', 'Filed Date', 'Permit Type Definition', 'Permit Type','Street Number','Description', 'Completed Date', 'Current Status', 'Record ID\\t\\t\\t\\t\\t\\t\\t'],axis = 1)"
   ]
  },
  {
   "cell_type": "markdown",
   "metadata": {},
   "source": [
    "Вновь отобразим данные, теперь с меньшим количеством признаков.\n",
    "\n",
    "\n",
    "\n",
    "\n",
    "\n",
    "\n"
   ]
  },
  {
   "cell_type": "code",
   "execution_count": 7,
   "metadata": {},
   "outputs": [
    {
     "data": {
      "text/html": [
       "<div>\n",
       "<style scoped>\n",
       "    .dataframe tbody tr th:only-of-type {\n",
       "        vertical-align: middle;\n",
       "    }\n",
       "\n",
       "    .dataframe tbody tr th {\n",
       "        vertical-align: top;\n",
       "    }\n",
       "\n",
       "    .dataframe thead th {\n",
       "        text-align: right;\n",
       "    }\n",
       "</style>\n",
       "<table border=\"1\" class=\"dataframe\">\n",
       "  <thead>\n",
       "    <tr style=\"text-align: right;\">\n",
       "      <th></th>\n",
       "      <th>Permit Number</th>\n",
       "      <th>Street Name</th>\n",
       "      <th>Street Suffix</th>\n",
       "      <th>Estimated Cost</th>\n",
       "      <th>Existing Use</th>\n",
       "      <th>Existing Construction Type</th>\n",
       "      <th>Existing Construction Type Description</th>\n",
       "      <th>Neighborhoods - Analysis Boundaries</th>\n",
       "    </tr>\n",
       "  </thead>\n",
       "  <tbody>\n",
       "    <tr>\n",
       "      <th>0</th>\n",
       "      <td>201505065519</td>\n",
       "      <td>Ellis</td>\n",
       "      <td>St</td>\n",
       "      <td>4000.0</td>\n",
       "      <td>tourist hotel/motel</td>\n",
       "      <td>3.0</td>\n",
       "      <td>constr type 3</td>\n",
       "      <td>Tenderloin</td>\n",
       "    </tr>\n",
       "    <tr>\n",
       "      <th>1</th>\n",
       "      <td>201604195146</td>\n",
       "      <td>Geary</td>\n",
       "      <td>St</td>\n",
       "      <td>1.0</td>\n",
       "      <td>tourist hotel/motel</td>\n",
       "      <td>3.0</td>\n",
       "      <td>constr type 3</td>\n",
       "      <td>Tenderloin</td>\n",
       "    </tr>\n",
       "    <tr>\n",
       "      <th>2</th>\n",
       "      <td>201605278609</td>\n",
       "      <td>Pacific</td>\n",
       "      <td>Av</td>\n",
       "      <td>20000.0</td>\n",
       "      <td>retail sales</td>\n",
       "      <td>1.0</td>\n",
       "      <td>constr type 1</td>\n",
       "      <td>Russian Hill</td>\n",
       "    </tr>\n",
       "    <tr>\n",
       "      <th>3</th>\n",
       "      <td>201611072166</td>\n",
       "      <td>Pacific</td>\n",
       "      <td>Av</td>\n",
       "      <td>2000.0</td>\n",
       "      <td>1 family dwelling</td>\n",
       "      <td>5.0</td>\n",
       "      <td>wood frame (5)</td>\n",
       "      <td>Nob Hill</td>\n",
       "    </tr>\n",
       "    <tr>\n",
       "      <th>4</th>\n",
       "      <td>201611283529</td>\n",
       "      <td>Market</td>\n",
       "      <td>St</td>\n",
       "      <td>100000.0</td>\n",
       "      <td>retail sales</td>\n",
       "      <td>3.0</td>\n",
       "      <td>constr type 3</td>\n",
       "      <td>Tenderloin</td>\n",
       "    </tr>\n",
       "    <tr>\n",
       "      <th>5</th>\n",
       "      <td>201706149344</td>\n",
       "      <td>Indiana</td>\n",
       "      <td>St</td>\n",
       "      <td>4000.0</td>\n",
       "      <td>apartments</td>\n",
       "      <td>1.0</td>\n",
       "      <td>constr type 1</td>\n",
       "      <td>Potrero Hill</td>\n",
       "    </tr>\n",
       "    <tr>\n",
       "      <th>6</th>\n",
       "      <td>201706300814</td>\n",
       "      <td>11th</td>\n",
       "      <td>Av</td>\n",
       "      <td>12000.0</td>\n",
       "      <td>apartments</td>\n",
       "      <td>5.0</td>\n",
       "      <td>wood frame (5)</td>\n",
       "      <td>Inner Sunset</td>\n",
       "    </tr>\n",
       "    <tr>\n",
       "      <th>7</th>\n",
       "      <td>M803667</td>\n",
       "      <td>Revere</td>\n",
       "      <td>Av</td>\n",
       "      <td>NaN</td>\n",
       "      <td>NaN</td>\n",
       "      <td>NaN</td>\n",
       "      <td>NaN</td>\n",
       "      <td>Bayview Hunters Point</td>\n",
       "    </tr>\n",
       "    <tr>\n",
       "      <th>8</th>\n",
       "      <td>M804227</td>\n",
       "      <td>Fell</td>\n",
       "      <td>St</td>\n",
       "      <td>NaN</td>\n",
       "      <td>NaN</td>\n",
       "      <td>NaN</td>\n",
       "      <td>NaN</td>\n",
       "      <td>Lone Mountain/USF</td>\n",
       "    </tr>\n",
       "    <tr>\n",
       "      <th>9</th>\n",
       "      <td>M804767</td>\n",
       "      <td>Alpine</td>\n",
       "      <td>Tr</td>\n",
       "      <td>NaN</td>\n",
       "      <td>NaN</td>\n",
       "      <td>NaN</td>\n",
       "      <td>NaN</td>\n",
       "      <td>Haight Ashbury</td>\n",
       "    </tr>\n",
       "  </tbody>\n",
       "</table>\n",
       "</div>"
      ],
      "text/plain": [
       "  Permit Number Street Name Street Suffix  Estimated Cost  \\\n",
       "0  201505065519       Ellis            St          4000.0   \n",
       "1  201604195146       Geary            St             1.0   \n",
       "2  201605278609     Pacific            Av         20000.0   \n",
       "3  201611072166     Pacific            Av          2000.0   \n",
       "4  201611283529      Market            St        100000.0   \n",
       "5  201706149344     Indiana            St          4000.0   \n",
       "6  201706300814        11th            Av         12000.0   \n",
       "7       M803667      Revere            Av             NaN   \n",
       "8       M804227        Fell            St             NaN   \n",
       "9       M804767      Alpine            Tr             NaN   \n",
       "\n",
       "          Existing Use  Existing Construction Type  \\\n",
       "0  tourist hotel/motel                         3.0   \n",
       "1  tourist hotel/motel                         3.0   \n",
       "2         retail sales                         1.0   \n",
       "3    1 family dwelling                         5.0   \n",
       "4         retail sales                         3.0   \n",
       "5           apartments                         1.0   \n",
       "6           apartments                         5.0   \n",
       "7                  NaN                         NaN   \n",
       "8                  NaN                         NaN   \n",
       "9                  NaN                         NaN   \n",
       "\n",
       "  Existing Construction Type Description Neighborhoods - Analysis Boundaries  \n",
       "0                          constr type 3                          Tenderloin  \n",
       "1                          constr type 3                          Tenderloin  \n",
       "2                          constr type 1                        Russian Hill  \n",
       "3                         wood frame (5)                            Nob Hill  \n",
       "4                          constr type 3                          Tenderloin  \n",
       "5                          constr type 1                        Potrero Hill  \n",
       "6                         wood frame (5)                        Inner Sunset  \n",
       "7                                    NaN               Bayview Hunters Point  \n",
       "8                                    NaN                   Lone Mountain/USF  \n",
       "9                                    NaN                      Haight Ashbury  "
      ]
     },
     "execution_count": 7,
     "metadata": {},
     "output_type": "execute_result"
    }
   ],
   "source": [
    "data[:10] "
   ]
  },
  {
   "cell_type": "code",
   "execution_count": 8,
   "metadata": {},
   "outputs": [],
   "source": [
    "data = data.drop(['Permit Number', 'Neighborhoods - Analysis Boundaries'], axis = 1)"
   ]
  },
  {
   "cell_type": "code",
   "execution_count": 9,
   "metadata": {},
   "outputs": [
    {
     "data": {
      "text/html": [
       "<div>\n",
       "<style scoped>\n",
       "    .dataframe tbody tr th:only-of-type {\n",
       "        vertical-align: middle;\n",
       "    }\n",
       "\n",
       "    .dataframe tbody tr th {\n",
       "        vertical-align: top;\n",
       "    }\n",
       "\n",
       "    .dataframe thead th {\n",
       "        text-align: right;\n",
       "    }\n",
       "</style>\n",
       "<table border=\"1\" class=\"dataframe\">\n",
       "  <thead>\n",
       "    <tr style=\"text-align: right;\">\n",
       "      <th></th>\n",
       "      <th>Street Name</th>\n",
       "      <th>Street Suffix</th>\n",
       "      <th>Estimated Cost</th>\n",
       "      <th>Existing Use</th>\n",
       "      <th>Existing Construction Type</th>\n",
       "      <th>Existing Construction Type Description</th>\n",
       "    </tr>\n",
       "  </thead>\n",
       "  <tbody>\n",
       "    <tr>\n",
       "      <th>0</th>\n",
       "      <td>Ellis</td>\n",
       "      <td>St</td>\n",
       "      <td>4000.0</td>\n",
       "      <td>tourist hotel/motel</td>\n",
       "      <td>3.0</td>\n",
       "      <td>constr type 3</td>\n",
       "    </tr>\n",
       "    <tr>\n",
       "      <th>1</th>\n",
       "      <td>Geary</td>\n",
       "      <td>St</td>\n",
       "      <td>1.0</td>\n",
       "      <td>tourist hotel/motel</td>\n",
       "      <td>3.0</td>\n",
       "      <td>constr type 3</td>\n",
       "    </tr>\n",
       "    <tr>\n",
       "      <th>2</th>\n",
       "      <td>Pacific</td>\n",
       "      <td>Av</td>\n",
       "      <td>20000.0</td>\n",
       "      <td>retail sales</td>\n",
       "      <td>1.0</td>\n",
       "      <td>constr type 1</td>\n",
       "    </tr>\n",
       "    <tr>\n",
       "      <th>3</th>\n",
       "      <td>Pacific</td>\n",
       "      <td>Av</td>\n",
       "      <td>2000.0</td>\n",
       "      <td>1 family dwelling</td>\n",
       "      <td>5.0</td>\n",
       "      <td>wood frame (5)</td>\n",
       "    </tr>\n",
       "    <tr>\n",
       "      <th>4</th>\n",
       "      <td>Market</td>\n",
       "      <td>St</td>\n",
       "      <td>100000.0</td>\n",
       "      <td>retail sales</td>\n",
       "      <td>3.0</td>\n",
       "      <td>constr type 3</td>\n",
       "    </tr>\n",
       "    <tr>\n",
       "      <th>5</th>\n",
       "      <td>Indiana</td>\n",
       "      <td>St</td>\n",
       "      <td>4000.0</td>\n",
       "      <td>apartments</td>\n",
       "      <td>1.0</td>\n",
       "      <td>constr type 1</td>\n",
       "    </tr>\n",
       "    <tr>\n",
       "      <th>6</th>\n",
       "      <td>11th</td>\n",
       "      <td>Av</td>\n",
       "      <td>12000.0</td>\n",
       "      <td>apartments</td>\n",
       "      <td>5.0</td>\n",
       "      <td>wood frame (5)</td>\n",
       "    </tr>\n",
       "    <tr>\n",
       "      <th>7</th>\n",
       "      <td>Revere</td>\n",
       "      <td>Av</td>\n",
       "      <td>NaN</td>\n",
       "      <td>NaN</td>\n",
       "      <td>NaN</td>\n",
       "      <td>NaN</td>\n",
       "    </tr>\n",
       "    <tr>\n",
       "      <th>8</th>\n",
       "      <td>Fell</td>\n",
       "      <td>St</td>\n",
       "      <td>NaN</td>\n",
       "      <td>NaN</td>\n",
       "      <td>NaN</td>\n",
       "      <td>NaN</td>\n",
       "    </tr>\n",
       "    <tr>\n",
       "      <th>9</th>\n",
       "      <td>Alpine</td>\n",
       "      <td>Tr</td>\n",
       "      <td>NaN</td>\n",
       "      <td>NaN</td>\n",
       "      <td>NaN</td>\n",
       "      <td>NaN</td>\n",
       "    </tr>\n",
       "  </tbody>\n",
       "</table>\n",
       "</div>"
      ],
      "text/plain": [
       "  Street Name Street Suffix  Estimated Cost         Existing Use  \\\n",
       "0       Ellis            St          4000.0  tourist hotel/motel   \n",
       "1       Geary            St             1.0  tourist hotel/motel   \n",
       "2     Pacific            Av         20000.0         retail sales   \n",
       "3     Pacific            Av          2000.0    1 family dwelling   \n",
       "4      Market            St        100000.0         retail sales   \n",
       "5     Indiana            St          4000.0           apartments   \n",
       "6        11th            Av         12000.0           apartments   \n",
       "7      Revere            Av             NaN                  NaN   \n",
       "8        Fell            St             NaN                  NaN   \n",
       "9      Alpine            Tr             NaN                  NaN   \n",
       "\n",
       "   Existing Construction Type Existing Construction Type Description  \n",
       "0                         3.0                          constr type 3  \n",
       "1                         3.0                          constr type 3  \n",
       "2                         1.0                          constr type 1  \n",
       "3                         5.0                         wood frame (5)  \n",
       "4                         3.0                          constr type 3  \n",
       "5                         1.0                          constr type 1  \n",
       "6                         5.0                         wood frame (5)  \n",
       "7                         NaN                                    NaN  \n",
       "8                         NaN                                    NaN  \n",
       "9                         NaN                                    NaN  "
      ]
     },
     "execution_count": 9,
     "metadata": {},
     "output_type": "execute_result"
    }
   ],
   "source": [
    "data[:10]"
   ]
  },
  {
   "cell_type": "markdown",
   "metadata": {},
   "source": [
    "Оставили ниже представленные признаки:\n",
    "\n",
    "- `Permit Number`- номер разрешения\n",
    "- `Permit Type` - тип разрешения\n",
    "- `Permit Type Definition`- описание типа разрешения\n",
    "- `Permit Creation Date`- дата создания разрешения\n",
    "- `Street Number` - номер улицы\n",
    "- `Street Name` - название улицы\n",
    "- `Street Suffix` - уличный суффикс (проспект, улица)\n",
    "- `Description` - описание\n",
    "- `Current Status` - текущий статус\n",
    "- `Current Status Date` - дата текущего статуса\n",
    "- `Filed Date` - дата подачи\n",
    "- `Issued Date` - дата выпуска\n",
    "- `Completed Date` - дата завершения\n",
    "- `First Construction Document Date` -  дата первой строительной документации\n",
    "- `Estimated Cost` - оценочная стоимость\n",
    "- `Existing Use` - использование\n",
    "- `Existing Construction Type` - тип конструкции\n",
    "- `Existing Construction Type Description` - описание типа конструкции\n",
    "\n",
    "\n",
    "\n",
    "\n"
   ]
  },
  {
   "cell_type": "code",
   "execution_count": 10,
   "metadata": {},
   "outputs": [
    {
     "data": {
      "text/html": [
       "<div>\n",
       "<style scoped>\n",
       "    .dataframe tbody tr th:only-of-type {\n",
       "        vertical-align: middle;\n",
       "    }\n",
       "\n",
       "    .dataframe tbody tr th {\n",
       "        vertical-align: top;\n",
       "    }\n",
       "\n",
       "    .dataframe thead th {\n",
       "        text-align: right;\n",
       "    }\n",
       "</style>\n",
       "<table border=\"1\" class=\"dataframe\">\n",
       "  <thead>\n",
       "    <tr style=\"text-align: right;\">\n",
       "      <th></th>\n",
       "      <th>Street Name</th>\n",
       "      <th>Street Suffix</th>\n",
       "      <th>Estimated Cost</th>\n",
       "      <th>Existing Use</th>\n",
       "      <th>Existing Construction Type</th>\n",
       "      <th>Existing Construction Type Description</th>\n",
       "    </tr>\n",
       "  </thead>\n",
       "  <tbody>\n",
       "    <tr>\n",
       "      <th>0</th>\n",
       "      <td>Ellis</td>\n",
       "      <td>St</td>\n",
       "      <td>4000.0</td>\n",
       "      <td>tourist hotel/motel</td>\n",
       "      <td>3.0</td>\n",
       "      <td>constr type 3</td>\n",
       "    </tr>\n",
       "    <tr>\n",
       "      <th>1</th>\n",
       "      <td>Geary</td>\n",
       "      <td>St</td>\n",
       "      <td>1.0</td>\n",
       "      <td>tourist hotel/motel</td>\n",
       "      <td>3.0</td>\n",
       "      <td>constr type 3</td>\n",
       "    </tr>\n",
       "    <tr>\n",
       "      <th>2</th>\n",
       "      <td>Pacific</td>\n",
       "      <td>Av</td>\n",
       "      <td>20000.0</td>\n",
       "      <td>retail sales</td>\n",
       "      <td>1.0</td>\n",
       "      <td>constr type 1</td>\n",
       "    </tr>\n",
       "    <tr>\n",
       "      <th>3</th>\n",
       "      <td>Pacific</td>\n",
       "      <td>Av</td>\n",
       "      <td>2000.0</td>\n",
       "      <td>1 family dwelling</td>\n",
       "      <td>5.0</td>\n",
       "      <td>wood frame (5)</td>\n",
       "    </tr>\n",
       "    <tr>\n",
       "      <th>4</th>\n",
       "      <td>Market</td>\n",
       "      <td>St</td>\n",
       "      <td>100000.0</td>\n",
       "      <td>retail sales</td>\n",
       "      <td>3.0</td>\n",
       "      <td>constr type 3</td>\n",
       "    </tr>\n",
       "  </tbody>\n",
       "</table>\n",
       "</div>"
      ],
      "text/plain": [
       "  Street Name Street Suffix  Estimated Cost         Existing Use  \\\n",
       "0       Ellis            St          4000.0  tourist hotel/motel   \n",
       "1       Geary            St             1.0  tourist hotel/motel   \n",
       "2     Pacific            Av         20000.0         retail sales   \n",
       "3     Pacific            Av          2000.0    1 family dwelling   \n",
       "4      Market            St        100000.0         retail sales   \n",
       "\n",
       "   Existing Construction Type Existing Construction Type Description  \n",
       "0                         3.0                          constr type 3  \n",
       "1                         3.0                          constr type 3  \n",
       "2                         1.0                          constr type 1  \n",
       "3                         5.0                         wood frame (5)  \n",
       "4                         3.0                          constr type 3  "
      ]
     },
     "execution_count": 10,
     "metadata": {},
     "output_type": "execute_result"
    }
   ],
   "source": [
    "data.head()"
   ]
  },
  {
   "cell_type": "code",
   "execution_count": 11,
   "metadata": {},
   "outputs": [
    {
     "data": {
      "text/html": [
       "<div>\n",
       "<style scoped>\n",
       "    .dataframe tbody tr th:only-of-type {\n",
       "        vertical-align: middle;\n",
       "    }\n",
       "\n",
       "    .dataframe tbody tr th {\n",
       "        vertical-align: top;\n",
       "    }\n",
       "\n",
       "    .dataframe thead th {\n",
       "        text-align: right;\n",
       "    }\n",
       "</style>\n",
       "<table border=\"1\" class=\"dataframe\">\n",
       "  <thead>\n",
       "    <tr style=\"text-align: right;\">\n",
       "      <th></th>\n",
       "      <th>Street Name</th>\n",
       "      <th>Street Suffix</th>\n",
       "      <th>Estimated Cost</th>\n",
       "      <th>Existing Use</th>\n",
       "      <th>Existing Construction Type</th>\n",
       "      <th>Existing Construction Type Description</th>\n",
       "    </tr>\n",
       "  </thead>\n",
       "  <tbody>\n",
       "    <tr>\n",
       "      <th>9878</th>\n",
       "      <td>22nd</td>\n",
       "      <td>Av</td>\n",
       "      <td>11000.0</td>\n",
       "      <td>1 family dwelling</td>\n",
       "      <td>5.0</td>\n",
       "      <td>wood frame (5)</td>\n",
       "    </tr>\n",
       "    <tr>\n",
       "      <th>9879</th>\n",
       "      <td>Temescal</td>\n",
       "      <td>Tr</td>\n",
       "      <td>1000.0</td>\n",
       "      <td>1 family dwelling</td>\n",
       "      <td>5.0</td>\n",
       "      <td>wood frame (5)</td>\n",
       "    </tr>\n",
       "    <tr>\n",
       "      <th>9880</th>\n",
       "      <td>Vienna</td>\n",
       "      <td>St</td>\n",
       "      <td>8700.0</td>\n",
       "      <td>1 family dwelling</td>\n",
       "      <td>5.0</td>\n",
       "      <td>wood frame (5)</td>\n",
       "    </tr>\n",
       "    <tr>\n",
       "      <th>9881</th>\n",
       "      <td>05th</td>\n",
       "      <td>Av</td>\n",
       "      <td>15000.0</td>\n",
       "      <td>2 family dwelling</td>\n",
       "      <td>5.0</td>\n",
       "      <td>wood frame (5)</td>\n",
       "    </tr>\n",
       "    <tr>\n",
       "      <th>9882</th>\n",
       "      <td>38th</td>\n",
       "      <td>Av</td>\n",
       "      <td>40000.0</td>\n",
       "      <td>1 family dwelling</td>\n",
       "      <td>5.0</td>\n",
       "      <td>wood frame (5)</td>\n",
       "    </tr>\n",
       "  </tbody>\n",
       "</table>\n",
       "</div>"
      ],
      "text/plain": [
       "     Street Name Street Suffix  Estimated Cost       Existing Use  \\\n",
       "9878        22nd            Av         11000.0  1 family dwelling   \n",
       "9879    Temescal            Tr          1000.0  1 family dwelling   \n",
       "9880      Vienna            St          8700.0  1 family dwelling   \n",
       "9881        05th            Av         15000.0  2 family dwelling   \n",
       "9882        38th            Av         40000.0  1 family dwelling   \n",
       "\n",
       "      Existing Construction Type Existing Construction Type Description  \n",
       "9878                         5.0                         wood frame (5)  \n",
       "9879                         5.0                         wood frame (5)  \n",
       "9880                         5.0                         wood frame (5)  \n",
       "9881                         5.0                         wood frame (5)  \n",
       "9882                         5.0                         wood frame (5)  "
      ]
     },
     "execution_count": 11,
     "metadata": {},
     "output_type": "execute_result"
    }
   ],
   "source": [
    "data.tail()"
   ]
  },
  {
   "cell_type": "code",
   "execution_count": 12,
   "metadata": {},
   "outputs": [
    {
     "name": "stdout",
     "output_type": "stream",
     "text": [
      "(9883, 6)\n",
      "Index(['Street Name', 'Street Suffix', 'Estimated Cost', 'Existing Use',\n",
      "       'Existing Construction Type', 'Existing Construction Type Description'],\n",
      "      dtype='object')\n"
     ]
    }
   ],
   "source": [
    "print(data.shape)\n",
    "print(data.columns)"
   ]
  },
  {
   "cell_type": "code",
   "execution_count": 13,
   "metadata": {},
   "outputs": [
    {
     "data": {
      "text/plain": [
       "RangeIndex(start=0, stop=9883, step=1)"
      ]
     },
     "execution_count": 13,
     "metadata": {},
     "output_type": "execute_result"
    }
   ],
   "source": [
    "data.index"
   ]
  },
  {
   "cell_type": "markdown",
   "metadata": {},
   "source": [
    "Посмотрим на некоторые выбранные данные\n",
    "\n",
    "\n",
    "\n",
    "\n",
    "\n",
    "\n"
   ]
  },
  {
   "cell_type": "code",
   "execution_count": 14,
   "metadata": {},
   "outputs": [
    {
     "data": {
      "text/plain": [
       "'Fell'"
      ]
     },
     "execution_count": 14,
     "metadata": {},
     "output_type": "execute_result"
    }
   ],
   "source": [
    "data.at[8, 'Street Name']"
   ]
  },
  {
   "cell_type": "code",
   "execution_count": 15,
   "metadata": {},
   "outputs": [
    {
     "data": {
      "text/plain": [
       "0      Ellis\n",
       "1      Geary\n",
       "2    Pacific\n",
       "3    Pacific\n",
       "4     Market\n",
       "5    Indiana\n",
       "6       11th\n",
       "7     Revere\n",
       "8       Fell\n",
       "9     Alpine\n",
       "Name: Street Name, dtype: object"
      ]
     },
     "execution_count": 15,
     "metadata": {},
     "output_type": "execute_result"
    }
   ],
   "source": [
    "data['Street Name'][:10]"
   ]
  },
  {
   "cell_type": "code",
   "execution_count": 16,
   "metadata": {},
   "outputs": [
    {
     "data": {
      "text/plain": [
       "'25th'"
      ]
     },
     "execution_count": 16,
     "metadata": {},
     "output_type": "execute_result"
    }
   ],
   "source": [
    "data['Street Name'][12]"
   ]
  },
  {
   "cell_type": "code",
   "execution_count": 17,
   "metadata": {},
   "outputs": [
    {
     "data": {
      "text/plain": [
       "'float64'"
      ]
     },
     "execution_count": 17,
     "metadata": {},
     "output_type": "execute_result"
    }
   ],
   "source": [
    "data['Estimated Cost'].dtype.name"
   ]
  },
  {
   "cell_type": "code",
   "execution_count": 18,
   "metadata": {},
   "outputs": [
    {
     "data": {
      "text/plain": [
       "str"
      ]
     },
     "execution_count": 18,
     "metadata": {},
     "output_type": "execute_result"
    }
   ],
   "source": [
    "type(data['Street Name'][3])"
   ]
  },
  {
   "cell_type": "code",
   "execution_count": 19,
   "metadata": {},
   "outputs": [
    {
     "data": {
      "text/plain": [
       "pandas.core.series.Series"
      ]
     },
     "execution_count": 19,
     "metadata": {},
     "output_type": "execute_result"
    }
   ],
   "source": [
    "type(data['Street Name'])"
   ]
  },
  {
   "cell_type": "code",
   "execution_count": 20,
   "metadata": {},
   "outputs": [
    {
     "data": {
      "text/html": [
       "<div>\n",
       "<style scoped>\n",
       "    .dataframe tbody tr th:only-of-type {\n",
       "        vertical-align: middle;\n",
       "    }\n",
       "\n",
       "    .dataframe tbody tr th {\n",
       "        vertical-align: top;\n",
       "    }\n",
       "\n",
       "    .dataframe thead th {\n",
       "        text-align: right;\n",
       "    }\n",
       "</style>\n",
       "<table border=\"1\" class=\"dataframe\">\n",
       "  <thead>\n",
       "    <tr style=\"text-align: right;\">\n",
       "      <th></th>\n",
       "      <th>Estimated Cost</th>\n",
       "      <th>Street Name</th>\n",
       "    </tr>\n",
       "  </thead>\n",
       "  <tbody>\n",
       "    <tr>\n",
       "      <th>0</th>\n",
       "      <td>4000.0</td>\n",
       "      <td>Ellis</td>\n",
       "    </tr>\n",
       "    <tr>\n",
       "      <th>1</th>\n",
       "      <td>1.0</td>\n",
       "      <td>Geary</td>\n",
       "    </tr>\n",
       "    <tr>\n",
       "      <th>2</th>\n",
       "      <td>20000.0</td>\n",
       "      <td>Pacific</td>\n",
       "    </tr>\n",
       "    <tr>\n",
       "      <th>3</th>\n",
       "      <td>2000.0</td>\n",
       "      <td>Pacific</td>\n",
       "    </tr>\n",
       "    <tr>\n",
       "      <th>4</th>\n",
       "      <td>100000.0</td>\n",
       "      <td>Market</td>\n",
       "    </tr>\n",
       "  </tbody>\n",
       "</table>\n",
       "</div>"
      ],
      "text/plain": [
       "   Estimated Cost Street Name\n",
       "0          4000.0       Ellis\n",
       "1             1.0       Geary\n",
       "2         20000.0     Pacific\n",
       "3          2000.0     Pacific\n",
       "4        100000.0      Market"
      ]
     },
     "execution_count": 20,
     "metadata": {},
     "output_type": "execute_result"
    }
   ],
   "source": [
    "data[['Estimated Cost', 'Street Name']].head()"
   ]
  },
  {
   "cell_type": "markdown",
   "metadata": {},
   "source": [
    "Выведем таблицу, содержащую статистическую информацию.\n",
    "\n",
    "\n",
    "\n",
    "\n",
    "\n",
    "\n"
   ]
  },
  {
   "cell_type": "code",
   "execution_count": 21,
   "metadata": {},
   "outputs": [
    {
     "data": {
      "text/html": [
       "<div>\n",
       "<style scoped>\n",
       "    .dataframe tbody tr th:only-of-type {\n",
       "        vertical-align: middle;\n",
       "    }\n",
       "\n",
       "    .dataframe tbody tr th {\n",
       "        vertical-align: top;\n",
       "    }\n",
       "\n",
       "    .dataframe thead th {\n",
       "        text-align: right;\n",
       "    }\n",
       "</style>\n",
       "<table border=\"1\" class=\"dataframe\">\n",
       "  <thead>\n",
       "    <tr style=\"text-align: right;\">\n",
       "      <th></th>\n",
       "      <th>Estimated Cost</th>\n",
       "      <th>Existing Construction Type</th>\n",
       "    </tr>\n",
       "  </thead>\n",
       "  <tbody>\n",
       "    <tr>\n",
       "      <th>count</th>\n",
       "      <td>7.955000e+03</td>\n",
       "      <td>7721.000000</td>\n",
       "    </tr>\n",
       "    <tr>\n",
       "      <th>mean</th>\n",
       "      <td>1.319661e+05</td>\n",
       "      <td>4.077322</td>\n",
       "    </tr>\n",
       "    <tr>\n",
       "      <th>std</th>\n",
       "      <td>3.425610e+06</td>\n",
       "      <td>1.571724</td>\n",
       "    </tr>\n",
       "    <tr>\n",
       "      <th>min</th>\n",
       "      <td>1.000000e+00</td>\n",
       "      <td>1.000000</td>\n",
       "    </tr>\n",
       "    <tr>\n",
       "      <th>25%</th>\n",
       "      <td>2.500000e+03</td>\n",
       "      <td>3.000000</td>\n",
       "    </tr>\n",
       "    <tr>\n",
       "      <th>50%</th>\n",
       "      <td>9.000000e+03</td>\n",
       "      <td>5.000000</td>\n",
       "    </tr>\n",
       "    <tr>\n",
       "      <th>75%</th>\n",
       "      <td>2.500000e+04</td>\n",
       "      <td>5.000000</td>\n",
       "    </tr>\n",
       "    <tr>\n",
       "      <th>max</th>\n",
       "      <td>2.720000e+08</td>\n",
       "      <td>5.000000</td>\n",
       "    </tr>\n",
       "  </tbody>\n",
       "</table>\n",
       "</div>"
      ],
      "text/plain": [
       "       Estimated Cost  Existing Construction Type\n",
       "count    7.955000e+03                 7721.000000\n",
       "mean     1.319661e+05                    4.077322\n",
       "std      3.425610e+06                    1.571724\n",
       "min      1.000000e+00                    1.000000\n",
       "25%      2.500000e+03                    3.000000\n",
       "50%      9.000000e+03                    5.000000\n",
       "75%      2.500000e+04                    5.000000\n",
       "max      2.720000e+08                    5.000000"
      ]
     },
     "execution_count": 21,
     "metadata": {},
     "output_type": "execute_result"
    }
   ],
   "source": [
    "data.describe()"
   ]
  },
  {
   "cell_type": "markdown",
   "metadata": {},
   "source": [
    "Диаграмма матрицы рассеивания примет следующий вид:\n",
    "\n",
    "\n",
    "\n",
    "\n",
    "\n",
    "\n"
   ]
  },
  {
   "cell_type": "code",
   "execution_count": 22,
   "metadata": {},
   "outputs": [
    {
     "data": {
      "image/png": "[encoded data removed]",
      "text/plain": [
       "<Figure size 720x720 with 4 Axes>"
      ]
     },
     "metadata": {
      "needs_background": "light"
     },
     "output_type": "display_data"
    }
   ],
   "source": [
    "from pandas.plotting import scatter_matrix\n",
    "scatter_matrix(data, alpha = .5, figsize = (10, 10))\n",
    "pass"
   ]
  },
  {
   "cell_type": "markdown",
   "metadata": {},
   "source": [
    "Корреляция признаков в таблице:\n",
    "\n",
    "\n",
    "\n",
    "\n",
    "\n",
    "\n"
   ]
  },
  {
   "cell_type": "code",
   "execution_count": 23,
   "metadata": {},
   "outputs": [
    {
     "data": {
      "text/html": [
       "<div>\n",
       "<style scoped>\n",
       "    .dataframe tbody tr th:only-of-type {\n",
       "        vertical-align: middle;\n",
       "    }\n",
       "\n",
       "    .dataframe tbody tr th {\n",
       "        vertical-align: top;\n",
       "    }\n",
       "\n",
       "    .dataframe thead th {\n",
       "        text-align: right;\n",
       "    }\n",
       "</style>\n",
       "<table border=\"1\" class=\"dataframe\">\n",
       "  <thead>\n",
       "    <tr style=\"text-align: right;\">\n",
       "      <th></th>\n",
       "      <th>Estimated Cost</th>\n",
       "      <th>Existing Construction Type</th>\n",
       "    </tr>\n",
       "  </thead>\n",
       "  <tbody>\n",
       "    <tr>\n",
       "      <th>Estimated Cost</th>\n",
       "      <td>1.000000</td>\n",
       "      <td>-0.181723</td>\n",
       "    </tr>\n",
       "    <tr>\n",
       "      <th>Existing Construction Type</th>\n",
       "      <td>-0.181723</td>\n",
       "      <td>1.000000</td>\n",
       "    </tr>\n",
       "  </tbody>\n",
       "</table>\n",
       "</div>"
      ],
      "text/plain": [
       "                            Estimated Cost  Existing Construction Type\n",
       "Estimated Cost                    1.000000                   -0.181723\n",
       "Existing Construction Type       -0.181723                    1.000000"
      ]
     },
     "execution_count": 23,
     "metadata": {},
     "output_type": "execute_result"
    }
   ],
   "source": [
    "data.corr()"
   ]
  },
  {
   "cell_type": "markdown",
   "metadata": {},
   "source": [
    "Зависимость типа конструкции от стоимости:\n",
    "\n",
    "\n",
    "\n",
    "\n",
    "\n",
    "\n"
   ]
  },
  {
   "cell_type": "code",
   "execution_count": 24,
   "metadata": {},
   "outputs": [
    {
     "data": {
      "image/png": "[encoded data removed]",
      "text/plain": [
       "<Figure size 432x288 with 1 Axes>"
      ]
     },
     "metadata": {
      "needs_background": "light"
     },
     "output_type": "display_data"
    }
   ],
   "source": [
    "plt.plot(data['Existing Construction Type'], data['Estimated Cost'],  'o', alpha = 0.5)\n",
    "plt.xlabel('Existing Construction Type')\n",
    "plt.ylabel('Estimated Cost')\n",
    "plt.title('Existing Construction Type vs Estimated Cost')\n",
    "pass"
   ]
  },
  {
   "cell_type": "markdown",
   "metadata": {},
   "source": [
    "Какие из улиц имеют суффикс 'Av' - проспект?\n",
    "\n",
    "\n",
    "\n",
    "\n",
    "\n",
    "\n"
   ]
  },
  {
   "cell_type": "code",
   "execution_count": 25,
   "metadata": {},
   "outputs": [
    {
     "data": {
      "text/plain": [
       "0     False\n",
       "1     False\n",
       "2      True\n",
       "3      True\n",
       "4     False\n",
       "5     False\n",
       "6      True\n",
       "7      True\n",
       "8     False\n",
       "9     False\n",
       "10    False\n",
       "11    False\n",
       "12    False\n",
       "13    False\n",
       "14    False\n",
       "Name: Street Suffix, dtype: bool"
      ]
     },
     "execution_count": 25,
     "metadata": {},
     "output_type": "execute_result"
    }
   ],
   "source": [
    "data['Street Suffix'][:15] == 'Av'"
   ]
  },
  {
   "cell_type": "code",
   "execution_count": 26,
   "metadata": {},
   "outputs": [
    {
     "data": {
      "text/html": [
       "<div>\n",
       "<style scoped>\n",
       "    .dataframe tbody tr th:only-of-type {\n",
       "        vertical-align: middle;\n",
       "    }\n",
       "\n",
       "    .dataframe tbody tr th {\n",
       "        vertical-align: top;\n",
       "    }\n",
       "\n",
       "    .dataframe thead th {\n",
       "        text-align: right;\n",
       "    }\n",
       "</style>\n",
       "<table border=\"1\" class=\"dataframe\">\n",
       "  <thead>\n",
       "    <tr style=\"text-align: right;\">\n",
       "      <th></th>\n",
       "      <th>Street Name</th>\n",
       "      <th>Street Suffix</th>\n",
       "      <th>Existing Use</th>\n",
       "      <th>Existing Construction Type Description</th>\n",
       "    </tr>\n",
       "  </thead>\n",
       "  <tbody>\n",
       "    <tr>\n",
       "      <th>count</th>\n",
       "      <td>9883</td>\n",
       "      <td>9760</td>\n",
       "      <td>7824</td>\n",
       "      <td>7721</td>\n",
       "    </tr>\n",
       "    <tr>\n",
       "      <th>unique</th>\n",
       "      <td>1006</td>\n",
       "      <td>16</td>\n",
       "      <td>59</td>\n",
       "      <td>6</td>\n",
       "    </tr>\n",
       "    <tr>\n",
       "      <th>top</th>\n",
       "      <td>Market</td>\n",
       "      <td>St</td>\n",
       "      <td>1 family dwelling</td>\n",
       "      <td>wood frame (5)</td>\n",
       "    </tr>\n",
       "    <tr>\n",
       "      <th>freq</th>\n",
       "      <td>343</td>\n",
       "      <td>7052</td>\n",
       "      <td>2489</td>\n",
       "      <td>5604</td>\n",
       "    </tr>\n",
       "  </tbody>\n",
       "</table>\n",
       "</div>"
      ],
      "text/plain": [
       "       Street Name Street Suffix       Existing Use  \\\n",
       "count         9883          9760               7824   \n",
       "unique        1006            16                 59   \n",
       "top         Market            St  1 family dwelling   \n",
       "freq           343          7052               2489   \n",
       "\n",
       "       Existing Construction Type Description  \n",
       "count                                    7721  \n",
       "unique                                      6  \n",
       "top                            wood frame (5)  \n",
       "freq                                     5604  "
      ]
     },
     "execution_count": 26,
     "metadata": {},
     "output_type": "execute_result"
    }
   ],
   "source": [
    "data.describe(include = ['object'])"
   ]
  },
  {
   "cell_type": "code",
   "execution_count": 27,
   "metadata": {},
   "outputs": [
    {
     "data": {
      "text/html": [
       "<div>\n",
       "<style scoped>\n",
       "    .dataframe tbody tr th:only-of-type {\n",
       "        vertical-align: middle;\n",
       "    }\n",
       "\n",
       "    .dataframe tbody tr th {\n",
       "        vertical-align: top;\n",
       "    }\n",
       "\n",
       "    .dataframe thead th {\n",
       "        text-align: right;\n",
       "    }\n",
       "</style>\n",
       "<table border=\"1\" class=\"dataframe\">\n",
       "  <thead>\n",
       "    <tr style=\"text-align: right;\">\n",
       "      <th></th>\n",
       "      <th>Street Name</th>\n",
       "      <th>Street Suffix</th>\n",
       "      <th>Estimated Cost</th>\n",
       "      <th>Existing Use</th>\n",
       "      <th>Existing Construction Type</th>\n",
       "      <th>Existing Construction Type Description</th>\n",
       "    </tr>\n",
       "  </thead>\n",
       "  <tbody>\n",
       "    <tr>\n",
       "      <th>count</th>\n",
       "      <td>9883</td>\n",
       "      <td>9760</td>\n",
       "      <td>7.955000e+03</td>\n",
       "      <td>7824</td>\n",
       "      <td>7721.000000</td>\n",
       "      <td>7721</td>\n",
       "    </tr>\n",
       "    <tr>\n",
       "      <th>unique</th>\n",
       "      <td>1006</td>\n",
       "      <td>16</td>\n",
       "      <td>NaN</td>\n",
       "      <td>59</td>\n",
       "      <td>NaN</td>\n",
       "      <td>6</td>\n",
       "    </tr>\n",
       "    <tr>\n",
       "      <th>top</th>\n",
       "      <td>Market</td>\n",
       "      <td>St</td>\n",
       "      <td>NaN</td>\n",
       "      <td>1 family dwelling</td>\n",
       "      <td>NaN</td>\n",
       "      <td>wood frame (5)</td>\n",
       "    </tr>\n",
       "    <tr>\n",
       "      <th>freq</th>\n",
       "      <td>343</td>\n",
       "      <td>7052</td>\n",
       "      <td>NaN</td>\n",
       "      <td>2489</td>\n",
       "      <td>NaN</td>\n",
       "      <td>5604</td>\n",
       "    </tr>\n",
       "    <tr>\n",
       "      <th>mean</th>\n",
       "      <td>NaN</td>\n",
       "      <td>NaN</td>\n",
       "      <td>1.319661e+05</td>\n",
       "      <td>NaN</td>\n",
       "      <td>4.077322</td>\n",
       "      <td>NaN</td>\n",
       "    </tr>\n",
       "    <tr>\n",
       "      <th>std</th>\n",
       "      <td>NaN</td>\n",
       "      <td>NaN</td>\n",
       "      <td>3.425610e+06</td>\n",
       "      <td>NaN</td>\n",
       "      <td>1.571724</td>\n",
       "      <td>NaN</td>\n",
       "    </tr>\n",
       "    <tr>\n",
       "      <th>min</th>\n",
       "      <td>NaN</td>\n",
       "      <td>NaN</td>\n",
       "      <td>1.000000e+00</td>\n",
       "      <td>NaN</td>\n",
       "      <td>1.000000</td>\n",
       "      <td>NaN</td>\n",
       "    </tr>\n",
       "    <tr>\n",
       "      <th>25%</th>\n",
       "      <td>NaN</td>\n",
       "      <td>NaN</td>\n",
       "      <td>2.500000e+03</td>\n",
       "      <td>NaN</td>\n",
       "      <td>3.000000</td>\n",
       "      <td>NaN</td>\n",
       "    </tr>\n",
       "    <tr>\n",
       "      <th>50%</th>\n",
       "      <td>NaN</td>\n",
       "      <td>NaN</td>\n",
       "      <td>9.000000e+03</td>\n",
       "      <td>NaN</td>\n",
       "      <td>5.000000</td>\n",
       "      <td>NaN</td>\n",
       "    </tr>\n",
       "    <tr>\n",
       "      <th>75%</th>\n",
       "      <td>NaN</td>\n",
       "      <td>NaN</td>\n",
       "      <td>2.500000e+04</td>\n",
       "      <td>NaN</td>\n",
       "      <td>5.000000</td>\n",
       "      <td>NaN</td>\n",
       "    </tr>\n",
       "    <tr>\n",
       "      <th>max</th>\n",
       "      <td>NaN</td>\n",
       "      <td>NaN</td>\n",
       "      <td>2.720000e+08</td>\n",
       "      <td>NaN</td>\n",
       "      <td>5.000000</td>\n",
       "      <td>NaN</td>\n",
       "    </tr>\n",
       "  </tbody>\n",
       "</table>\n",
       "</div>"
      ],
      "text/plain": [
       "       Street Name Street Suffix  Estimated Cost       Existing Use  \\\n",
       "count         9883          9760    7.955000e+03               7824   \n",
       "unique        1006            16             NaN                 59   \n",
       "top         Market            St             NaN  1 family dwelling   \n",
       "freq           343          7052             NaN               2489   \n",
       "mean           NaN           NaN    1.319661e+05                NaN   \n",
       "std            NaN           NaN    3.425610e+06                NaN   \n",
       "min            NaN           NaN    1.000000e+00                NaN   \n",
       "25%            NaN           NaN    2.500000e+03                NaN   \n",
       "50%            NaN           NaN    9.000000e+03                NaN   \n",
       "75%            NaN           NaN    2.500000e+04                NaN   \n",
       "max            NaN           NaN    2.720000e+08                NaN   \n",
       "\n",
       "        Existing Construction Type Existing Construction Type Description  \n",
       "count                  7721.000000                                   7721  \n",
       "unique                         NaN                                      6  \n",
       "top                            NaN                         wood frame (5)  \n",
       "freq                           NaN                                   5604  \n",
       "mean                      4.077322                                    NaN  \n",
       "std                       1.571724                                    NaN  \n",
       "min                       1.000000                                    NaN  \n",
       "25%                       3.000000                                    NaN  \n",
       "50%                       5.000000                                    NaN  \n",
       "75%                       5.000000                                    NaN  \n",
       "max                       5.000000                                    NaN  "
      ]
     },
     "execution_count": 27,
     "metadata": {},
     "output_type": "execute_result"
    }
   ],
   "source": [
    "data.describe(include = 'all')"
   ]
  },
  {
   "cell_type": "code",
   "execution_count": 28,
   "metadata": {},
   "outputs": [
    {
     "data": {
      "text/plain": [
       "array(['tourist hotel/motel', 'retail sales', '1 family dwelling',\n",
       "       'apartments', nan, '2 family dwelling', 'church', 'storage shed',\n",
       "       'office', 'vacant lot', 'food/beverage hndlng',\n",
       "       'residential hotel', 'filling/service stn', 'workshop commercial',\n",
       "       'clinics-medic/dental', 'misc group residns.', 'hospital', 'club',\n",
       "       'barber/beauty salon', 'warehouse,no frnitur', 'school',\n",
       "       'artist live/work', 'manufacturing', 'garment shops',\n",
       "       'public assmbly other', 'auto repairs', 'lending institution',\n",
       "       'museum', 'warehouse, furniture', 'prkng garage/private',\n",
       "       'antenna', 'health studios & gym', 'massage parlor',\n",
       "       'printing plant', 'parking lot', 'workshop residential',\n",
       "       'power plant', 'tower', 'mortuary', 'animal sale or care',\n",
       "       'laundry/laundromat', 'nite club', 'paint store',\n",
       "       'recreation bldg', 'theater', 'prkng garage/public', 'sign',\n",
       "       'phone xchnge/equip', 'dance hall', 'sfpd or sffd station',\n",
       "       'storage tanks', 'muni carbarn', 'stadium', 'automobile sales',\n",
       "       'fence/retaining wall', None, 'radio & tv stations',\n",
       "       'social care facility', 'amusement center', 'day care home gt 12',\n",
       "       'dry cleaners'], dtype=object)"
      ]
     },
     "execution_count": 28,
     "metadata": {},
     "output_type": "execute_result"
    }
   ],
   "source": [
    "data['Existing Use'].unique()"
   ]
  },
  {
   "cell_type": "code",
   "execution_count": 29,
   "metadata": {},
   "outputs": [
    {
     "data": {
      "text/plain": [
       "array(['Ellis', 'Geary', 'Pacific', ..., 'Maple', 'Colby', 'Robblee'],\n",
       "      dtype=object)"
      ]
     },
     "execution_count": 29,
     "metadata": {},
     "output_type": "execute_result"
    }
   ],
   "source": [
    "data['Street Name'].unique()"
   ]
  },
  {
   "cell_type": "markdown",
   "metadata": {},
   "source": [
    "\n",
    "\n",
    "Пару столбцов можем удалить, так как они идентичны с одной категорией и большой роли не играют.\n"
   ]
  },
  {
   "cell_type": "code",
   "execution_count": 30,
   "metadata": {},
   "outputs": [
    {
     "data": {
      "text/html": [
       "<div>\n",
       "<style scoped>\n",
       "    .dataframe tbody tr th:only-of-type {\n",
       "        vertical-align: middle;\n",
       "    }\n",
       "\n",
       "    .dataframe tbody tr th {\n",
       "        vertical-align: top;\n",
       "    }\n",
       "\n",
       "    .dataframe thead th {\n",
       "        text-align: right;\n",
       "    }\n",
       "</style>\n",
       "<table border=\"1\" class=\"dataframe\">\n",
       "  <thead>\n",
       "    <tr style=\"text-align: right;\">\n",
       "      <th></th>\n",
       "      <th>Street Name</th>\n",
       "      <th>Street Suffix</th>\n",
       "      <th>Estimated Cost</th>\n",
       "      <th>Existing Use</th>\n",
       "      <th>Existing Construction Type Description</th>\n",
       "    </tr>\n",
       "  </thead>\n",
       "  <tbody>\n",
       "    <tr>\n",
       "      <th>0</th>\n",
       "      <td>Ellis</td>\n",
       "      <td>St</td>\n",
       "      <td>4000.0</td>\n",
       "      <td>tourist hotel/motel</td>\n",
       "      <td>constr type 3</td>\n",
       "    </tr>\n",
       "    <tr>\n",
       "      <th>1</th>\n",
       "      <td>Geary</td>\n",
       "      <td>St</td>\n",
       "      <td>1.0</td>\n",
       "      <td>tourist hotel/motel</td>\n",
       "      <td>constr type 3</td>\n",
       "    </tr>\n",
       "    <tr>\n",
       "      <th>2</th>\n",
       "      <td>Pacific</td>\n",
       "      <td>Av</td>\n",
       "      <td>20000.0</td>\n",
       "      <td>retail sales</td>\n",
       "      <td>constr type 1</td>\n",
       "    </tr>\n",
       "    <tr>\n",
       "      <th>3</th>\n",
       "      <td>Pacific</td>\n",
       "      <td>Av</td>\n",
       "      <td>2000.0</td>\n",
       "      <td>1 family dwelling</td>\n",
       "      <td>wood frame (5)</td>\n",
       "    </tr>\n",
       "    <tr>\n",
       "      <th>4</th>\n",
       "      <td>Market</td>\n",
       "      <td>St</td>\n",
       "      <td>100000.0</td>\n",
       "      <td>retail sales</td>\n",
       "      <td>constr type 3</td>\n",
       "    </tr>\n",
       "    <tr>\n",
       "      <th>5</th>\n",
       "      <td>Indiana</td>\n",
       "      <td>St</td>\n",
       "      <td>4000.0</td>\n",
       "      <td>apartments</td>\n",
       "      <td>constr type 1</td>\n",
       "    </tr>\n",
       "    <tr>\n",
       "      <th>6</th>\n",
       "      <td>11th</td>\n",
       "      <td>Av</td>\n",
       "      <td>12000.0</td>\n",
       "      <td>apartments</td>\n",
       "      <td>wood frame (5)</td>\n",
       "    </tr>\n",
       "    <tr>\n",
       "      <th>7</th>\n",
       "      <td>Revere</td>\n",
       "      <td>Av</td>\n",
       "      <td>NaN</td>\n",
       "      <td>NaN</td>\n",
       "      <td>NaN</td>\n",
       "    </tr>\n",
       "    <tr>\n",
       "      <th>8</th>\n",
       "      <td>Fell</td>\n",
       "      <td>St</td>\n",
       "      <td>NaN</td>\n",
       "      <td>NaN</td>\n",
       "      <td>NaN</td>\n",
       "    </tr>\n",
       "    <tr>\n",
       "      <th>9</th>\n",
       "      <td>Alpine</td>\n",
       "      <td>Tr</td>\n",
       "      <td>NaN</td>\n",
       "      <td>NaN</td>\n",
       "      <td>NaN</td>\n",
       "    </tr>\n",
       "    <tr>\n",
       "      <th>10</th>\n",
       "      <td>Sanchez</td>\n",
       "      <td>St</td>\n",
       "      <td>NaN</td>\n",
       "      <td>NaN</td>\n",
       "      <td>NaN</td>\n",
       "    </tr>\n",
       "    <tr>\n",
       "      <th>11</th>\n",
       "      <td>Fell</td>\n",
       "      <td>St</td>\n",
       "      <td>NaN</td>\n",
       "      <td>NaN</td>\n",
       "      <td>NaN</td>\n",
       "    </tr>\n",
       "    <tr>\n",
       "      <th>12</th>\n",
       "      <td>25th</td>\n",
       "      <td>St</td>\n",
       "      <td>NaN</td>\n",
       "      <td>NaN</td>\n",
       "      <td>NaN</td>\n",
       "    </tr>\n",
       "    <tr>\n",
       "      <th>13</th>\n",
       "      <td>27th</td>\n",
       "      <td>St</td>\n",
       "      <td>30000.0</td>\n",
       "      <td>1 family dwelling</td>\n",
       "      <td>wood frame (5)</td>\n",
       "    </tr>\n",
       "    <tr>\n",
       "      <th>14</th>\n",
       "      <td>Pine</td>\n",
       "      <td>St</td>\n",
       "      <td>NaN</td>\n",
       "      <td>NaN</td>\n",
       "      <td>NaN</td>\n",
       "    </tr>\n",
       "    <tr>\n",
       "      <th>15</th>\n",
       "      <td>Powell</td>\n",
       "      <td>St</td>\n",
       "      <td>NaN</td>\n",
       "      <td>NaN</td>\n",
       "      <td>NaN</td>\n",
       "    </tr>\n",
       "    <tr>\n",
       "      <th>16</th>\n",
       "      <td>Montgomery</td>\n",
       "      <td>St</td>\n",
       "      <td>NaN</td>\n",
       "      <td>NaN</td>\n",
       "      <td>NaN</td>\n",
       "    </tr>\n",
       "    <tr>\n",
       "      <th>17</th>\n",
       "      <td>21st</td>\n",
       "      <td>St</td>\n",
       "      <td>NaN</td>\n",
       "      <td>NaN</td>\n",
       "      <td>NaN</td>\n",
       "    </tr>\n",
       "    <tr>\n",
       "      <th>18</th>\n",
       "      <td>Bay</td>\n",
       "      <td>St</td>\n",
       "      <td>75000.0</td>\n",
       "      <td>apartments</td>\n",
       "      <td>wood frame (5)</td>\n",
       "    </tr>\n",
       "    <tr>\n",
       "      <th>19</th>\n",
       "      <td>Corbett</td>\n",
       "      <td>Av</td>\n",
       "      <td>NaN</td>\n",
       "      <td>NaN</td>\n",
       "      <td>NaN</td>\n",
       "    </tr>\n",
       "    <tr>\n",
       "      <th>20</th>\n",
       "      <td>Fulton</td>\n",
       "      <td>St</td>\n",
       "      <td>NaN</td>\n",
       "      <td>NaN</td>\n",
       "      <td>NaN</td>\n",
       "    </tr>\n",
       "    <tr>\n",
       "      <th>21</th>\n",
       "      <td>26th</td>\n",
       "      <td>St</td>\n",
       "      <td>100000.0</td>\n",
       "      <td>2 family dwelling</td>\n",
       "      <td>wood frame (5)</td>\n",
       "    </tr>\n",
       "    <tr>\n",
       "      <th>22</th>\n",
       "      <td>Taylor</td>\n",
       "      <td>St</td>\n",
       "      <td>100000.0</td>\n",
       "      <td>apartments</td>\n",
       "      <td>wood frame (5)</td>\n",
       "    </tr>\n",
       "    <tr>\n",
       "      <th>23</th>\n",
       "      <td>Filbert</td>\n",
       "      <td>St</td>\n",
       "      <td>NaN</td>\n",
       "      <td>NaN</td>\n",
       "      <td>NaN</td>\n",
       "    </tr>\n",
       "    <tr>\n",
       "      <th>24</th>\n",
       "      <td>Charlton</td>\n",
       "      <td>Ct</td>\n",
       "      <td>64650.0</td>\n",
       "      <td>apartments</td>\n",
       "      <td>wood frame (5)</td>\n",
       "    </tr>\n",
       "    <tr>\n",
       "      <th>25</th>\n",
       "      <td>29th</td>\n",
       "      <td>Av</td>\n",
       "      <td>7000.0</td>\n",
       "      <td>1 family dwelling</td>\n",
       "      <td>wood frame (5)</td>\n",
       "    </tr>\n",
       "    <tr>\n",
       "      <th>26</th>\n",
       "      <td>17th</td>\n",
       "      <td>Av</td>\n",
       "      <td>NaN</td>\n",
       "      <td>NaN</td>\n",
       "      <td>NaN</td>\n",
       "    </tr>\n",
       "    <tr>\n",
       "      <th>27</th>\n",
       "      <td>Shrader</td>\n",
       "      <td>St</td>\n",
       "      <td>NaN</td>\n",
       "      <td>NaN</td>\n",
       "      <td>NaN</td>\n",
       "    </tr>\n",
       "    <tr>\n",
       "      <th>28</th>\n",
       "      <td>06th</td>\n",
       "      <td>Av</td>\n",
       "      <td>NaN</td>\n",
       "      <td>NaN</td>\n",
       "      <td>NaN</td>\n",
       "    </tr>\n",
       "    <tr>\n",
       "      <th>29</th>\n",
       "      <td>Powell</td>\n",
       "      <td>St</td>\n",
       "      <td>NaN</td>\n",
       "      <td>NaN</td>\n",
       "      <td>NaN</td>\n",
       "    </tr>\n",
       "    <tr>\n",
       "      <th>...</th>\n",
       "      <td>...</td>\n",
       "      <td>...</td>\n",
       "      <td>...</td>\n",
       "      <td>...</td>\n",
       "      <td>...</td>\n",
       "    </tr>\n",
       "    <tr>\n",
       "      <th>9853</th>\n",
       "      <td>10th</td>\n",
       "      <td>St</td>\n",
       "      <td>9000.0</td>\n",
       "      <td>artist live/work</td>\n",
       "      <td>constr type 3</td>\n",
       "    </tr>\n",
       "    <tr>\n",
       "      <th>9854</th>\n",
       "      <td>Geary</td>\n",
       "      <td>St</td>\n",
       "      <td>110000.0</td>\n",
       "      <td>office</td>\n",
       "      <td>constr type 3</td>\n",
       "    </tr>\n",
       "    <tr>\n",
       "      <th>9855</th>\n",
       "      <td>Geary</td>\n",
       "      <td>St</td>\n",
       "      <td>110000.0</td>\n",
       "      <td>office</td>\n",
       "      <td>constr type 3</td>\n",
       "    </tr>\n",
       "    <tr>\n",
       "      <th>9856</th>\n",
       "      <td>25th</td>\n",
       "      <td>St</td>\n",
       "      <td>1000.0</td>\n",
       "      <td>1 family dwelling</td>\n",
       "      <td>wood frame (5)</td>\n",
       "    </tr>\n",
       "    <tr>\n",
       "      <th>9857</th>\n",
       "      <td>Clement</td>\n",
       "      <td>St</td>\n",
       "      <td>5000.0</td>\n",
       "      <td>2 family dwelling</td>\n",
       "      <td>wood frame (5)</td>\n",
       "    </tr>\n",
       "    <tr>\n",
       "      <th>9858</th>\n",
       "      <td>Mission</td>\n",
       "      <td>St</td>\n",
       "      <td>NaN</td>\n",
       "      <td>NaN</td>\n",
       "      <td>NaN</td>\n",
       "    </tr>\n",
       "    <tr>\n",
       "      <th>9859</th>\n",
       "      <td>06th</td>\n",
       "      <td>Av</td>\n",
       "      <td>6000.0</td>\n",
       "      <td>apartments</td>\n",
       "      <td>wood frame (5)</td>\n",
       "    </tr>\n",
       "    <tr>\n",
       "      <th>9860</th>\n",
       "      <td>Jackson</td>\n",
       "      <td>St</td>\n",
       "      <td>36500.0</td>\n",
       "      <td>apartments</td>\n",
       "      <td>wood frame (5)</td>\n",
       "    </tr>\n",
       "    <tr>\n",
       "      <th>9861</th>\n",
       "      <td>Mission</td>\n",
       "      <td>St</td>\n",
       "      <td>5000.0</td>\n",
       "      <td>office</td>\n",
       "      <td>wood frame (5)</td>\n",
       "    </tr>\n",
       "    <tr>\n",
       "      <th>9862</th>\n",
       "      <td>16th</td>\n",
       "      <td>St</td>\n",
       "      <td>15000.0</td>\n",
       "      <td>residential hotel</td>\n",
       "      <td>wood frame (5)</td>\n",
       "    </tr>\n",
       "    <tr>\n",
       "      <th>9863</th>\n",
       "      <td>Larkin</td>\n",
       "      <td>St</td>\n",
       "      <td>1.0</td>\n",
       "      <td>apartments</td>\n",
       "      <td>wood frame (5)</td>\n",
       "    </tr>\n",
       "    <tr>\n",
       "      <th>9864</th>\n",
       "      <td>Greenwich</td>\n",
       "      <td>St</td>\n",
       "      <td>NaN</td>\n",
       "      <td>NaN</td>\n",
       "      <td>NaN</td>\n",
       "    </tr>\n",
       "    <tr>\n",
       "      <th>9865</th>\n",
       "      <td>Spear</td>\n",
       "      <td>St</td>\n",
       "      <td>NaN</td>\n",
       "      <td>NaN</td>\n",
       "      <td>NaN</td>\n",
       "    </tr>\n",
       "    <tr>\n",
       "      <th>9866</th>\n",
       "      <td>Sacramento</td>\n",
       "      <td>St</td>\n",
       "      <td>1.0</td>\n",
       "      <td>apartments</td>\n",
       "      <td>wood frame (5)</td>\n",
       "    </tr>\n",
       "    <tr>\n",
       "      <th>9867</th>\n",
       "      <td>Palou</td>\n",
       "      <td>Av</td>\n",
       "      <td>5000.0</td>\n",
       "      <td>1 family dwelling</td>\n",
       "      <td>wood frame (5)</td>\n",
       "    </tr>\n",
       "    <tr>\n",
       "      <th>9868</th>\n",
       "      <td>Willard</td>\n",
       "      <td>St</td>\n",
       "      <td>25000.0</td>\n",
       "      <td>apartments</td>\n",
       "      <td>wood frame (5)</td>\n",
       "    </tr>\n",
       "    <tr>\n",
       "      <th>9869</th>\n",
       "      <td>Duncan</td>\n",
       "      <td>St</td>\n",
       "      <td>18000.0</td>\n",
       "      <td>2 family dwelling</td>\n",
       "      <td>wood frame (5)</td>\n",
       "    </tr>\n",
       "    <tr>\n",
       "      <th>9870</th>\n",
       "      <td>Broadway</td>\n",
       "      <td>NaN</td>\n",
       "      <td>4000.0</td>\n",
       "      <td>residential hotel</td>\n",
       "      <td>wood frame (5)</td>\n",
       "    </tr>\n",
       "    <tr>\n",
       "      <th>9871</th>\n",
       "      <td>Mission</td>\n",
       "      <td>St</td>\n",
       "      <td>27000.0</td>\n",
       "      <td>office</td>\n",
       "      <td>constr type 1</td>\n",
       "    </tr>\n",
       "    <tr>\n",
       "      <th>9872</th>\n",
       "      <td>Mission</td>\n",
       "      <td>St</td>\n",
       "      <td>38500.0</td>\n",
       "      <td>office</td>\n",
       "      <td>constr type 1</td>\n",
       "    </tr>\n",
       "    <tr>\n",
       "      <th>9873</th>\n",
       "      <td>Powell</td>\n",
       "      <td>St</td>\n",
       "      <td>10500.0</td>\n",
       "      <td>retail sales</td>\n",
       "      <td>constr type 1</td>\n",
       "    </tr>\n",
       "    <tr>\n",
       "      <th>9874</th>\n",
       "      <td>Owens</td>\n",
       "      <td>St</td>\n",
       "      <td>5950.0</td>\n",
       "      <td>office</td>\n",
       "      <td>constr type 1</td>\n",
       "    </tr>\n",
       "    <tr>\n",
       "      <th>9875</th>\n",
       "      <td>Jamestown</td>\n",
       "      <td>Av</td>\n",
       "      <td>25000.0</td>\n",
       "      <td>apartments</td>\n",
       "      <td>wood frame (5)</td>\n",
       "    </tr>\n",
       "    <tr>\n",
       "      <th>9876</th>\n",
       "      <td>12th</td>\n",
       "      <td>Av</td>\n",
       "      <td>NaN</td>\n",
       "      <td>NaN</td>\n",
       "      <td>NaN</td>\n",
       "    </tr>\n",
       "    <tr>\n",
       "      <th>9877</th>\n",
       "      <td>Divisadero</td>\n",
       "      <td>St</td>\n",
       "      <td>20000.0</td>\n",
       "      <td>apartments</td>\n",
       "      <td>wood frame (5)</td>\n",
       "    </tr>\n",
       "    <tr>\n",
       "      <th>9878</th>\n",
       "      <td>22nd</td>\n",
       "      <td>Av</td>\n",
       "      <td>11000.0</td>\n",
       "      <td>1 family dwelling</td>\n",
       "      <td>wood frame (5)</td>\n",
       "    </tr>\n",
       "    <tr>\n",
       "      <th>9879</th>\n",
       "      <td>Temescal</td>\n",
       "      <td>Tr</td>\n",
       "      <td>1000.0</td>\n",
       "      <td>1 family dwelling</td>\n",
       "      <td>wood frame (5)</td>\n",
       "    </tr>\n",
       "    <tr>\n",
       "      <th>9880</th>\n",
       "      <td>Vienna</td>\n",
       "      <td>St</td>\n",
       "      <td>8700.0</td>\n",
       "      <td>1 family dwelling</td>\n",
       "      <td>wood frame (5)</td>\n",
       "    </tr>\n",
       "    <tr>\n",
       "      <th>9881</th>\n",
       "      <td>05th</td>\n",
       "      <td>Av</td>\n",
       "      <td>15000.0</td>\n",
       "      <td>2 family dwelling</td>\n",
       "      <td>wood frame (5)</td>\n",
       "    </tr>\n",
       "    <tr>\n",
       "      <th>9882</th>\n",
       "      <td>38th</td>\n",
       "      <td>Av</td>\n",
       "      <td>40000.0</td>\n",
       "      <td>1 family dwelling</td>\n",
       "      <td>wood frame (5)</td>\n",
       "    </tr>\n",
       "  </tbody>\n",
       "</table>\n",
       "<p>9883 rows × 5 columns</p>\n",
       "</div>"
      ],
      "text/plain": [
       "     Street Name Street Suffix  Estimated Cost         Existing Use  \\\n",
       "0          Ellis            St          4000.0  tourist hotel/motel   \n",
       "1          Geary            St             1.0  tourist hotel/motel   \n",
       "2        Pacific            Av         20000.0         retail sales   \n",
       "3        Pacific            Av          2000.0    1 family dwelling   \n",
       "4         Market            St        100000.0         retail sales   \n",
       "5        Indiana            St          4000.0           apartments   \n",
       "6           11th            Av         12000.0           apartments   \n",
       "7         Revere            Av             NaN                  NaN   \n",
       "8           Fell            St             NaN                  NaN   \n",
       "9         Alpine            Tr             NaN                  NaN   \n",
       "10       Sanchez            St             NaN                  NaN   \n",
       "11          Fell            St             NaN                  NaN   \n",
       "12          25th            St             NaN                  NaN   \n",
       "13          27th            St         30000.0    1 family dwelling   \n",
       "14          Pine            St             NaN                  NaN   \n",
       "15        Powell            St             NaN                  NaN   \n",
       "16    Montgomery            St             NaN                  NaN   \n",
       "17          21st            St             NaN                  NaN   \n",
       "18           Bay            St         75000.0           apartments   \n",
       "19       Corbett            Av             NaN                  NaN   \n",
       "20        Fulton            St             NaN                  NaN   \n",
       "21          26th            St        100000.0    2 family dwelling   \n",
       "22        Taylor            St        100000.0           apartments   \n",
       "23       Filbert            St             NaN                  NaN   \n",
       "24      Charlton            Ct         64650.0           apartments   \n",
       "25          29th            Av          7000.0    1 family dwelling   \n",
       "26          17th            Av             NaN                  NaN   \n",
       "27       Shrader            St             NaN                  NaN   \n",
       "28          06th            Av             NaN                  NaN   \n",
       "29        Powell            St             NaN                  NaN   \n",
       "...          ...           ...             ...                  ...   \n",
       "9853        10th            St          9000.0     artist live/work   \n",
       "9854       Geary            St        110000.0               office   \n",
       "9855       Geary            St        110000.0               office   \n",
       "9856        25th            St          1000.0    1 family dwelling   \n",
       "9857     Clement            St          5000.0    2 family dwelling   \n",
       "9858     Mission            St             NaN                  NaN   \n",
       "9859        06th            Av          6000.0           apartments   \n",
       "9860     Jackson            St         36500.0           apartments   \n",
       "9861     Mission            St          5000.0               office   \n",
       "9862        16th            St         15000.0    residential hotel   \n",
       "9863      Larkin            St             1.0           apartments   \n",
       "9864   Greenwich            St             NaN                  NaN   \n",
       "9865       Spear            St             NaN                  NaN   \n",
       "9866  Sacramento            St             1.0           apartments   \n",
       "9867       Palou            Av          5000.0    1 family dwelling   \n",
       "9868     Willard            St         25000.0           apartments   \n",
       "9869      Duncan            St         18000.0    2 family dwelling   \n",
       "9870    Broadway           NaN          4000.0    residential hotel   \n",
       "9871     Mission            St         27000.0               office   \n",
       "9872     Mission            St         38500.0               office   \n",
       "9873      Powell            St         10500.0         retail sales   \n",
       "9874       Owens            St          5950.0               office   \n",
       "9875   Jamestown            Av         25000.0           apartments   \n",
       "9876        12th            Av             NaN                  NaN   \n",
       "9877  Divisadero            St         20000.0           apartments   \n",
       "9878        22nd            Av         11000.0    1 family dwelling   \n",
       "9879    Temescal            Tr          1000.0    1 family dwelling   \n",
       "9880      Vienna            St          8700.0    1 family dwelling   \n",
       "9881        05th            Av         15000.0    2 family dwelling   \n",
       "9882        38th            Av         40000.0    1 family dwelling   \n",
       "\n",
       "     Existing Construction Type Description  \n",
       "0                             constr type 3  \n",
       "1                             constr type 3  \n",
       "2                             constr type 1  \n",
       "3                            wood frame (5)  \n",
       "4                             constr type 3  \n",
       "5                             constr type 1  \n",
       "6                            wood frame (5)  \n",
       "7                                       NaN  \n",
       "8                                       NaN  \n",
       "9                                       NaN  \n",
       "10                                      NaN  \n",
       "11                                      NaN  \n",
       "12                                      NaN  \n",
       "13                           wood frame (5)  \n",
       "14                                      NaN  \n",
       "15                                      NaN  \n",
       "16                                      NaN  \n",
       "17                                      NaN  \n",
       "18                           wood frame (5)  \n",
       "19                                      NaN  \n",
       "20                                      NaN  \n",
       "21                           wood frame (5)  \n",
       "22                           wood frame (5)  \n",
       "23                                      NaN  \n",
       "24                           wood frame (5)  \n",
       "25                           wood frame (5)  \n",
       "26                                      NaN  \n",
       "27                                      NaN  \n",
       "28                                      NaN  \n",
       "29                                      NaN  \n",
       "...                                     ...  \n",
       "9853                          constr type 3  \n",
       "9854                          constr type 3  \n",
       "9855                          constr type 3  \n",
       "9856                         wood frame (5)  \n",
       "9857                         wood frame (5)  \n",
       "9858                                    NaN  \n",
       "9859                         wood frame (5)  \n",
       "9860                         wood frame (5)  \n",
       "9861                         wood frame (5)  \n",
       "9862                         wood frame (5)  \n",
       "9863                         wood frame (5)  \n",
       "9864                                    NaN  \n",
       "9865                                    NaN  \n",
       "9866                         wood frame (5)  \n",
       "9867                         wood frame (5)  \n",
       "9868                         wood frame (5)  \n",
       "9869                         wood frame (5)  \n",
       "9870                         wood frame (5)  \n",
       "9871                          constr type 1  \n",
       "9872                          constr type 1  \n",
       "9873                          constr type 1  \n",
       "9874                          constr type 1  \n",
       "9875                         wood frame (5)  \n",
       "9876                                    NaN  \n",
       "9877                         wood frame (5)  \n",
       "9878                         wood frame (5)  \n",
       "9879                         wood frame (5)  \n",
       "9880                         wood frame (5)  \n",
       "9881                         wood frame (5)  \n",
       "9882                         wood frame (5)  \n",
       "\n",
       "[9883 rows x 5 columns]"
      ]
     },
     "execution_count": 30,
     "metadata": {},
     "output_type": "execute_result"
    }
   ],
   "source": [
    "data.drop(['Existing Construction Type'], axis = 1) "
   ]
  },
  {
   "cell_type": "markdown",
   "metadata": {},
   "source": [
    "# Подготовка данных"
   ]
  },
  {
   "cell_type": "code",
   "execution_count": 31,
   "metadata": {},
   "outputs": [
    {
     "data": {
      "text/plain": [
       "'object'"
      ]
     },
     "execution_count": 31,
     "metadata": {},
     "output_type": "execute_result"
    }
   ],
   "source": [
    "data['Street Name'].dtype.name"
   ]
  },
  {
   "cell_type": "code",
   "execution_count": 32,
   "metadata": {},
   "outputs": [
    {
     "data": {
      "text/plain": [
       "'float64'"
      ]
     },
     "execution_count": 32,
     "metadata": {},
     "output_type": "execute_result"
    }
   ],
   "source": [
    "data['Estimated Cost'].dtype.name"
   ]
  },
  {
   "cell_type": "markdown",
   "metadata": {},
   "source": [
    "Разобьем данные на категориальные и числовые характеристики.\n",
    "\n",
    "\n",
    "\n",
    "\n",
    "\n",
    "\n"
   ]
  },
  {
   "cell_type": "code",
   "execution_count": 33,
   "metadata": {},
   "outputs": [
    {
     "name": "stdout",
     "output_type": "stream",
     "text": [
      "['Street Name', 'Street Suffix', 'Existing Use', 'Existing Construction Type Description']\n",
      "['Estimated Cost', 'Existing Construction Type']\n"
     ]
    }
   ],
   "source": [
    "categorical_columns = [c for c in data.columns if data[c].dtype.name == 'object']\n",
    "numerical_columns   = [c for c in data.columns if data[c].dtype.name != 'object']\n",
    "print(categorical_columns)\n",
    "print(numerical_columns)"
   ]
  },
  {
   "cell_type": "code",
   "execution_count": 34,
   "metadata": {},
   "outputs": [
    {
     "name": "stdout",
     "output_type": "stream",
     "text": [
      "Street Name ['Ellis' 'Geary' 'Pacific' ... 'Maple' 'Colby' 'Robblee']\n",
      "Street Suffix ['St' 'Av' 'Tr' 'Ct' 'Bl' 'Wy' 'Dr' nan 'Rd' 'Cr' 'Pl' 'Ln' 'Hy' 'Pk' 'Al'\n",
      " 'Pz' '02/09/2017']\n",
      "Existing Use ['tourist hotel/motel' 'retail sales' '1 family dwelling' 'apartments' nan\n",
      " '2 family dwelling' 'church' 'storage shed' 'office' 'vacant lot'\n",
      " 'food/beverage hndlng' 'residential hotel' 'filling/service stn'\n",
      " 'workshop commercial' 'clinics-medic/dental' 'misc group residns.'\n",
      " 'hospital' 'club' 'barber/beauty salon' 'warehouse,no frnitur' 'school'\n",
      " 'artist live/work' 'manufacturing' 'garment shops' 'public assmbly other'\n",
      " 'auto repairs' 'lending institution' 'museum' 'warehouse, furniture'\n",
      " 'prkng garage/private' 'antenna' 'health studios & gym' 'massage parlor'\n",
      " 'printing plant' 'parking lot' 'workshop residential' 'power plant'\n",
      " 'tower' 'mortuary' 'animal sale or care' 'laundry/laundromat' 'nite club'\n",
      " 'paint store' 'recreation bldg' 'theater' 'prkng garage/public' 'sign'\n",
      " 'phone xchnge/equip' 'dance hall' 'sfpd or sffd station' 'storage tanks'\n",
      " 'muni carbarn' 'stadium' 'automobile sales' 'fence/retaining wall' None\n",
      " 'radio & tv stations' 'social care facility' 'amusement center'\n",
      " 'day care home gt 12' 'dry cleaners']\n",
      "Existing Construction Type Description ['constr type 3' 'constr type 1' 'wood frame (5)' nan 'constr type 2'\n",
      " 'constr type 4' None 'Inner Richmond']\n"
     ]
    }
   ],
   "source": [
    "for c in categorical_columns:\n",
    "    print(c, data[c].unique())"
   ]
  },
  {
   "cell_type": "markdown",
   "metadata": {},
   "source": [
    "## Обработка пропущенных значений\n",
    "\n",
    "\n",
    "Для категориальных признаков пропущенные значения можно заполнить самым популярным значением в столбце."
   ]
  },
  {
   "cell_type": "code",
   "execution_count": 35,
   "metadata": {},
   "outputs": [
    {
     "data": {
      "text/plain": [
       "Estimated Cost                9000.0\n",
       "Existing Construction Type       5.0\n",
       "dtype: float64"
      ]
     },
     "execution_count": 35,
     "metadata": {},
     "output_type": "execute_result"
    }
   ],
   "source": [
    "data.median(axis = 0)"
   ]
  },
  {
   "cell_type": "code",
   "execution_count": 36,
   "metadata": {},
   "outputs": [],
   "source": [
    "data = data.fillna(data.median(axis = 0), axis = 0)"
   ]
  },
  {
   "cell_type": "code",
   "execution_count": 37,
   "metadata": {},
   "outputs": [
    {
     "data": {
      "text/plain": [
       "Estimated Cost                9883\n",
       "Existing Construction Type    9883\n",
       "dtype: int64"
      ]
     },
     "execution_count": 37,
     "metadata": {},
     "output_type": "execute_result"
    }
   ],
   "source": [
    "data[numerical_columns].count(axis = 0)"
   ]
  },
  {
   "cell_type": "code",
   "execution_count": 38,
   "metadata": {},
   "outputs": [
    {
     "data": {
      "text/plain": [
       "Street Name                               9883\n",
       "Street Suffix                             9760\n",
       "Existing Use                              7824\n",
       "Existing Construction Type Description    7721\n",
       "dtype: int64"
      ]
     },
     "execution_count": 38,
     "metadata": {},
     "output_type": "execute_result"
    }
   ],
   "source": [
    "data[categorical_columns].count(axis = 0)"
   ]
  },
  {
   "cell_type": "markdown",
   "metadata": {},
   "source": [
    "В колонках есть пропущенные значения. Обработаем их.\n",
    "\n",
    "\n",
    "\n",
    "\n",
    "\n",
    "\n"
   ]
  },
  {
   "cell_type": "code",
   "execution_count": 39,
   "metadata": {},
   "outputs": [
    {
     "data": {
      "text/plain": [
       "count                  7824\n",
       "unique                   59\n",
       "top       1 family dwelling\n",
       "freq                   2489\n",
       "Name: Existing Use, dtype: object"
      ]
     },
     "execution_count": 39,
     "metadata": {},
     "output_type": "execute_result"
    }
   ],
   "source": [
    "data['Existing Use'].describe()"
   ]
  },
  {
   "cell_type": "code",
   "execution_count": 40,
   "metadata": {},
   "outputs": [
    {
     "data": {
      "text/plain": [
       "pandas.core.series.Series"
      ]
     },
     "execution_count": 40,
     "metadata": {},
     "output_type": "execute_result"
    }
   ],
   "source": [
    "type(data['Existing Use'].describe())"
   ]
  },
  {
   "cell_type": "code",
   "execution_count": 41,
   "metadata": {},
   "outputs": [
    {
     "data": {
      "text/plain": [
       "'1 family dwelling'"
      ]
     },
     "execution_count": 41,
     "metadata": {},
     "output_type": "execute_result"
    }
   ],
   "source": [
    "data['Existing Use'].describe().top"
   ]
  },
  {
   "cell_type": "code",
   "execution_count": 42,
   "metadata": {},
   "outputs": [],
   "source": [
    "data['Existing Use'] = data['Existing Use'].fillna('1 family dwelling')"
   ]
  },
  {
   "cell_type": "code",
   "execution_count": 43,
   "metadata": {},
   "outputs": [
    {
     "data": {
      "text/html": [
       "<div>\n",
       "<style scoped>\n",
       "    .dataframe tbody tr th:only-of-type {\n",
       "        vertical-align: middle;\n",
       "    }\n",
       "\n",
       "    .dataframe tbody tr th {\n",
       "        vertical-align: top;\n",
       "    }\n",
       "\n",
       "    .dataframe thead th {\n",
       "        text-align: right;\n",
       "    }\n",
       "</style>\n",
       "<table border=\"1\" class=\"dataframe\">\n",
       "  <thead>\n",
       "    <tr style=\"text-align: right;\">\n",
       "      <th></th>\n",
       "      <th>Street Name</th>\n",
       "      <th>Street Suffix</th>\n",
       "      <th>Existing Use</th>\n",
       "      <th>Existing Construction Type Description</th>\n",
       "    </tr>\n",
       "  </thead>\n",
       "  <tbody>\n",
       "    <tr>\n",
       "      <th>count</th>\n",
       "      <td>9883</td>\n",
       "      <td>9760</td>\n",
       "      <td>9883</td>\n",
       "      <td>7721</td>\n",
       "    </tr>\n",
       "    <tr>\n",
       "      <th>unique</th>\n",
       "      <td>1006</td>\n",
       "      <td>16</td>\n",
       "      <td>59</td>\n",
       "      <td>6</td>\n",
       "    </tr>\n",
       "    <tr>\n",
       "      <th>top</th>\n",
       "      <td>Market</td>\n",
       "      <td>St</td>\n",
       "      <td>1 family dwelling</td>\n",
       "      <td>wood frame (5)</td>\n",
       "    </tr>\n",
       "    <tr>\n",
       "      <th>freq</th>\n",
       "      <td>343</td>\n",
       "      <td>7052</td>\n",
       "      <td>4548</td>\n",
       "      <td>5604</td>\n",
       "    </tr>\n",
       "  </tbody>\n",
       "</table>\n",
       "</div>"
      ],
      "text/plain": [
       "       Street Name Street Suffix       Existing Use  \\\n",
       "count         9883          9760               9883   \n",
       "unique        1006            16                 59   \n",
       "top         Market            St  1 family dwelling   \n",
       "freq           343          7052               4548   \n",
       "\n",
       "       Existing Construction Type Description  \n",
       "count                                    7721  \n",
       "unique                                      6  \n",
       "top                            wood frame (5)  \n",
       "freq                                     5604  "
      ]
     },
     "execution_count": 43,
     "metadata": {},
     "output_type": "execute_result"
    }
   ],
   "source": [
    "data.describe(include = [object])"
   ]
  },
  {
   "cell_type": "code",
   "execution_count": 44,
   "metadata": {},
   "outputs": [],
   "source": [
    "data_describe = data.describe(include = [object])\n",
    "for c in categorical_columns:\n",
    "    data[c] = data[c].fillna(data_describe[c]['top'])"
   ]
  },
  {
   "cell_type": "code",
   "execution_count": 45,
   "metadata": {},
   "outputs": [
    {
     "data": {
      "text/html": [
       "<div>\n",
       "<style scoped>\n",
       "    .dataframe tbody tr th:only-of-type {\n",
       "        vertical-align: middle;\n",
       "    }\n",
       "\n",
       "    .dataframe tbody tr th {\n",
       "        vertical-align: top;\n",
       "    }\n",
       "\n",
       "    .dataframe thead th {\n",
       "        text-align: right;\n",
       "    }\n",
       "</style>\n",
       "<table border=\"1\" class=\"dataframe\">\n",
       "  <thead>\n",
       "    <tr style=\"text-align: right;\">\n",
       "      <th></th>\n",
       "      <th>Street Name</th>\n",
       "      <th>Street Suffix</th>\n",
       "      <th>Existing Use</th>\n",
       "      <th>Existing Construction Type Description</th>\n",
       "    </tr>\n",
       "  </thead>\n",
       "  <tbody>\n",
       "    <tr>\n",
       "      <th>count</th>\n",
       "      <td>9883</td>\n",
       "      <td>9883</td>\n",
       "      <td>9883</td>\n",
       "      <td>9883</td>\n",
       "    </tr>\n",
       "    <tr>\n",
       "      <th>unique</th>\n",
       "      <td>1006</td>\n",
       "      <td>16</td>\n",
       "      <td>59</td>\n",
       "      <td>6</td>\n",
       "    </tr>\n",
       "    <tr>\n",
       "      <th>top</th>\n",
       "      <td>Market</td>\n",
       "      <td>St</td>\n",
       "      <td>1 family dwelling</td>\n",
       "      <td>wood frame (5)</td>\n",
       "    </tr>\n",
       "    <tr>\n",
       "      <th>freq</th>\n",
       "      <td>343</td>\n",
       "      <td>7175</td>\n",
       "      <td>4548</td>\n",
       "      <td>7766</td>\n",
       "    </tr>\n",
       "  </tbody>\n",
       "</table>\n",
       "</div>"
      ],
      "text/plain": [
       "       Street Name Street Suffix       Existing Use  \\\n",
       "count         9883          9883               9883   \n",
       "unique        1006            16                 59   \n",
       "top         Market            St  1 family dwelling   \n",
       "freq           343          7175               4548   \n",
       "\n",
       "       Existing Construction Type Description  \n",
       "count                                    9883  \n",
       "unique                                      6  \n",
       "top                            wood frame (5)  \n",
       "freq                                     7766  "
      ]
     },
     "execution_count": 45,
     "metadata": {},
     "output_type": "execute_result"
    }
   ],
   "source": [
    "data.describe(include = [object])"
   ]
  },
  {
   "cell_type": "markdown",
   "metadata": {},
   "source": [
    "Теперь пропущенных значений нет, перейдем к **векторизации**.\n"
   ]
  },
  {
   "cell_type": "code",
   "execution_count": 46,
   "metadata": {},
   "outputs": [
    {
     "data": {
      "text/html": [
       "<div>\n",
       "<style scoped>\n",
       "    .dataframe tbody tr th:only-of-type {\n",
       "        vertical-align: middle;\n",
       "    }\n",
       "\n",
       "    .dataframe tbody tr th {\n",
       "        vertical-align: top;\n",
       "    }\n",
       "\n",
       "    .dataframe thead th {\n",
       "        text-align: right;\n",
       "    }\n",
       "</style>\n",
       "<table border=\"1\" class=\"dataframe\">\n",
       "  <thead>\n",
       "    <tr style=\"text-align: right;\">\n",
       "      <th></th>\n",
       "      <th>Street Name</th>\n",
       "      <th>Street Suffix</th>\n",
       "      <th>Estimated Cost</th>\n",
       "      <th>Existing Use</th>\n",
       "      <th>Existing Construction Type</th>\n",
       "      <th>Existing Construction Type Description</th>\n",
       "    </tr>\n",
       "  </thead>\n",
       "  <tbody>\n",
       "    <tr>\n",
       "      <th>count</th>\n",
       "      <td>9883</td>\n",
       "      <td>9883</td>\n",
       "      <td>9.883000e+03</td>\n",
       "      <td>9883</td>\n",
       "      <td>9883.000000</td>\n",
       "      <td>9883</td>\n",
       "    </tr>\n",
       "    <tr>\n",
       "      <th>unique</th>\n",
       "      <td>1006</td>\n",
       "      <td>16</td>\n",
       "      <td>NaN</td>\n",
       "      <td>59</td>\n",
       "      <td>NaN</td>\n",
       "      <td>6</td>\n",
       "    </tr>\n",
       "    <tr>\n",
       "      <th>top</th>\n",
       "      <td>Market</td>\n",
       "      <td>St</td>\n",
       "      <td>NaN</td>\n",
       "      <td>1 family dwelling</td>\n",
       "      <td>NaN</td>\n",
       "      <td>wood frame (5)</td>\n",
       "    </tr>\n",
       "    <tr>\n",
       "      <th>freq</th>\n",
       "      <td>343</td>\n",
       "      <td>7175</td>\n",
       "      <td>NaN</td>\n",
       "      <td>4548</td>\n",
       "      <td>NaN</td>\n",
       "      <td>7766</td>\n",
       "    </tr>\n",
       "    <tr>\n",
       "      <th>mean</th>\n",
       "      <td>NaN</td>\n",
       "      <td>NaN</td>\n",
       "      <td>1.079776e+05</td>\n",
       "      <td>NaN</td>\n",
       "      <td>4.279166</td>\n",
       "      <td>NaN</td>\n",
       "    </tr>\n",
       "    <tr>\n",
       "      <th>std</th>\n",
       "      <td>NaN</td>\n",
       "      <td>NaN</td>\n",
       "      <td>3.073710e+06</td>\n",
       "      <td>NaN</td>\n",
       "      <td>1.440614</td>\n",
       "      <td>NaN</td>\n",
       "    </tr>\n",
       "    <tr>\n",
       "      <th>min</th>\n",
       "      <td>NaN</td>\n",
       "      <td>NaN</td>\n",
       "      <td>1.000000e+00</td>\n",
       "      <td>NaN</td>\n",
       "      <td>1.000000</td>\n",
       "      <td>NaN</td>\n",
       "    </tr>\n",
       "    <tr>\n",
       "      <th>25%</th>\n",
       "      <td>NaN</td>\n",
       "      <td>NaN</td>\n",
       "      <td>3.887500e+03</td>\n",
       "      <td>NaN</td>\n",
       "      <td>5.000000</td>\n",
       "      <td>NaN</td>\n",
       "    </tr>\n",
       "    <tr>\n",
       "      <th>50%</th>\n",
       "      <td>NaN</td>\n",
       "      <td>NaN</td>\n",
       "      <td>9.000000e+03</td>\n",
       "      <td>NaN</td>\n",
       "      <td>5.000000</td>\n",
       "      <td>NaN</td>\n",
       "    </tr>\n",
       "    <tr>\n",
       "      <th>75%</th>\n",
       "      <td>NaN</td>\n",
       "      <td>NaN</td>\n",
       "      <td>2.000000e+04</td>\n",
       "      <td>NaN</td>\n",
       "      <td>5.000000</td>\n",
       "      <td>NaN</td>\n",
       "    </tr>\n",
       "    <tr>\n",
       "      <th>max</th>\n",
       "      <td>NaN</td>\n",
       "      <td>NaN</td>\n",
       "      <td>2.720000e+08</td>\n",
       "      <td>NaN</td>\n",
       "      <td>5.000000</td>\n",
       "      <td>NaN</td>\n",
       "    </tr>\n",
       "  </tbody>\n",
       "</table>\n",
       "</div>"
      ],
      "text/plain": [
       "       Street Name Street Suffix  Estimated Cost       Existing Use  \\\n",
       "count         9883          9883    9.883000e+03               9883   \n",
       "unique        1006            16             NaN                 59   \n",
       "top         Market            St             NaN  1 family dwelling   \n",
       "freq           343          7175             NaN               4548   \n",
       "mean           NaN           NaN    1.079776e+05                NaN   \n",
       "std            NaN           NaN    3.073710e+06                NaN   \n",
       "min            NaN           NaN    1.000000e+00                NaN   \n",
       "25%            NaN           NaN    3.887500e+03                NaN   \n",
       "50%            NaN           NaN    9.000000e+03                NaN   \n",
       "75%            NaN           NaN    2.000000e+04                NaN   \n",
       "max            NaN           NaN    2.720000e+08                NaN   \n",
       "\n",
       "        Existing Construction Type Existing Construction Type Description  \n",
       "count                  9883.000000                                   9883  \n",
       "unique                         NaN                                      6  \n",
       "top                            NaN                         wood frame (5)  \n",
       "freq                           NaN                                   7766  \n",
       "mean                      4.279166                                    NaN  \n",
       "std                       1.440614                                    NaN  \n",
       "min                       1.000000                                    NaN  \n",
       "25%                       5.000000                                    NaN  \n",
       "50%                       5.000000                                    NaN  \n",
       "75%                       5.000000                                    NaN  \n",
       "max                       5.000000                                    NaN  "
      ]
     },
     "execution_count": 46,
     "metadata": {},
     "output_type": "execute_result"
    }
   ],
   "source": [
    "data.describe(include = 'all')"
   ]
  },
  {
   "cell_type": "code",
   "execution_count": 47,
   "metadata": {},
   "outputs": [
    {
     "name": "stdout",
     "output_type": "stream",
     "text": [
      "[] ['Street Name', 'Street Suffix', 'Existing Use', 'Existing Construction Type Description']\n"
     ]
    }
   ],
   "source": [
    "binary_columns    = [c for c in categorical_columns if data_describe[c]['unique'] == 2]\n",
    "nonbinary_columns = [c for c in categorical_columns if data_describe[c]['unique'] > 2]\n",
    "print(binary_columns, nonbinary_columns)"
   ]
  },
  {
   "cell_type": "code",
   "execution_count": 48,
   "metadata": {},
   "outputs": [
    {
     "data": {
      "text/plain": [
       "array(['constr type 3', 'constr type 1', 'wood frame (5)',\n",
       "       'constr type 2', 'constr type 4', 'Inner Richmond'], dtype=object)"
      ]
     },
     "execution_count": 48,
     "metadata": {},
     "output_type": "execute_result"
    }
   ],
   "source": [
    "data['Existing Construction Type Description'].unique()"
   ]
  },
  {
   "cell_type": "code",
   "execution_count": 49,
   "metadata": {},
   "outputs": [
    {
     "data": {
      "text/plain": [
       "count    9883.000000\n",
       "mean        4.279672\n",
       "std         1.440340\n",
       "min         1.000000\n",
       "25%         5.000000\n",
       "50%         5.000000\n",
       "75%         5.000000\n",
       "max         6.000000\n",
       "Name: Existing Construction Type Description, dtype: float64"
      ]
     },
     "execution_count": 49,
     "metadata": {},
     "output_type": "execute_result"
    }
   ],
   "source": [
    "data.at[data['Existing Construction Type Description'] == 'constr type 1', 'Existing Construction Type Description'] = 1\n",
    "data.at[data['Existing Construction Type Description'] == 'constr type 2', 'Existing Construction Type Description'] = 2\n",
    "data.at[data['Existing Construction Type Description'] == 'constr type 3', 'Existing Construction Type Description'] = 3\n",
    "data.at[data['Existing Construction Type Description'] == 'constr type 4', 'Existing Construction Type Description'] = 4\n",
    "data.at[data['Existing Construction Type Description'] == 'wood frame (5)', 'Existing Construction Type Description'] = 5\n",
    "data.at[data['Existing Construction Type Description'] == 'Inner Richmond', 'Existing Construction Type Description'] = 6\n",
    "data['Existing Construction Type Description'].describe()"
   ]
  },
  {
   "cell_type": "code",
   "execution_count": 50,
   "metadata": {},
   "outputs": [
    {
     "data": {
      "text/plain": [
       "array([3, 1, 5, 2, 4, 6], dtype=int64)"
      ]
     },
     "execution_count": 50,
     "metadata": {},
     "output_type": "execute_result"
    }
   ],
   "source": [
    "data['Existing Construction Type Description'].unique()"
   ]
  },
  {
   "cell_type": "code",
   "execution_count": 51,
   "metadata": {},
   "outputs": [
    {
     "name": "stdout",
     "output_type": "stream",
     "text": [
      "Index(['Existing Construction Type Description', 'Street Name_01st',\n",
      "       'Street Name_02nd', 'Street Name_03rd', 'Street Name_04th',\n",
      "       'Street Name_05th', 'Street Name_06th', 'Street Name_07th',\n",
      "       'Street Name_08th', 'Street Name_09th',\n",
      "       ...\n",
      "       'Existing Use_storage shed', 'Existing Use_storage tanks',\n",
      "       'Existing Use_theater', 'Existing Use_tourist hotel/motel',\n",
      "       'Existing Use_tower', 'Existing Use_vacant lot',\n",
      "       'Existing Use_warehouse, furniture',\n",
      "       'Existing Use_warehouse,no frnitur', 'Existing Use_workshop commercial',\n",
      "       'Existing Use_workshop residential'],\n",
      "      dtype='object', length=1082)\n"
     ]
    }
   ],
   "source": [
    "data_nonbinary = pd.get_dummies(data[nonbinary_columns])\n",
    "print(data_nonbinary.columns)"
   ]
  },
  {
   "cell_type": "markdown",
   "metadata": {},
   "source": [
    "## Нормализация количественных признаков\n",
    "\n"
   ]
  },
  {
   "cell_type": "code",
   "execution_count": 52,
   "metadata": {},
   "outputs": [
    {
     "data": {
      "text/html": [
       "<div>\n",
       "<style scoped>\n",
       "    .dataframe tbody tr th:only-of-type {\n",
       "        vertical-align: middle;\n",
       "    }\n",
       "\n",
       "    .dataframe tbody tr th {\n",
       "        vertical-align: top;\n",
       "    }\n",
       "\n",
       "    .dataframe thead th {\n",
       "        text-align: right;\n",
       "    }\n",
       "</style>\n",
       "<table border=\"1\" class=\"dataframe\">\n",
       "  <thead>\n",
       "    <tr style=\"text-align: right;\">\n",
       "      <th></th>\n",
       "      <th>Estimated Cost</th>\n",
       "      <th>Existing Construction Type</th>\n",
       "    </tr>\n",
       "  </thead>\n",
       "  <tbody>\n",
       "    <tr>\n",
       "      <th>count</th>\n",
       "      <td>9.883000e+03</td>\n",
       "      <td>9883.000000</td>\n",
       "    </tr>\n",
       "    <tr>\n",
       "      <th>mean</th>\n",
       "      <td>1.079776e+05</td>\n",
       "      <td>4.279166</td>\n",
       "    </tr>\n",
       "    <tr>\n",
       "      <th>std</th>\n",
       "      <td>3.073710e+06</td>\n",
       "      <td>1.440614</td>\n",
       "    </tr>\n",
       "    <tr>\n",
       "      <th>min</th>\n",
       "      <td>1.000000e+00</td>\n",
       "      <td>1.000000</td>\n",
       "    </tr>\n",
       "    <tr>\n",
       "      <th>25%</th>\n",
       "      <td>3.887500e+03</td>\n",
       "      <td>5.000000</td>\n",
       "    </tr>\n",
       "    <tr>\n",
       "      <th>50%</th>\n",
       "      <td>9.000000e+03</td>\n",
       "      <td>5.000000</td>\n",
       "    </tr>\n",
       "    <tr>\n",
       "      <th>75%</th>\n",
       "      <td>2.000000e+04</td>\n",
       "      <td>5.000000</td>\n",
       "    </tr>\n",
       "    <tr>\n",
       "      <th>max</th>\n",
       "      <td>2.720000e+08</td>\n",
       "      <td>5.000000</td>\n",
       "    </tr>\n",
       "  </tbody>\n",
       "</table>\n",
       "</div>"
      ],
      "text/plain": [
       "       Estimated Cost  Existing Construction Type\n",
       "count    9.883000e+03                 9883.000000\n",
       "mean     1.079776e+05                    4.279166\n",
       "std      3.073710e+06                    1.440614\n",
       "min      1.000000e+00                    1.000000\n",
       "25%      3.887500e+03                    5.000000\n",
       "50%      9.000000e+03                    5.000000\n",
       "75%      2.000000e+04                    5.000000\n",
       "max      2.720000e+08                    5.000000"
      ]
     },
     "execution_count": 52,
     "metadata": {},
     "output_type": "execute_result"
    }
   ],
   "source": [
    "data_numerical = data[numerical_columns]\n",
    "data_numerical.describe()"
   ]
  },
  {
   "cell_type": "code",
   "execution_count": 53,
   "metadata": {},
   "outputs": [],
   "source": [
    "data_numerical = (data_numerical - data_numerical.mean(axis = 0))/data_numerical.std(axis = 0)"
   ]
  },
  {
   "cell_type": "code",
   "execution_count": 54,
   "metadata": {},
   "outputs": [
    {
     "data": {
      "text/html": [
       "<div>\n",
       "<style scoped>\n",
       "    .dataframe tbody tr th:only-of-type {\n",
       "        vertical-align: middle;\n",
       "    }\n",
       "\n",
       "    .dataframe tbody tr th {\n",
       "        vertical-align: top;\n",
       "    }\n",
       "\n",
       "    .dataframe thead th {\n",
       "        text-align: right;\n",
       "    }\n",
       "</style>\n",
       "<table border=\"1\" class=\"dataframe\">\n",
       "  <thead>\n",
       "    <tr style=\"text-align: right;\">\n",
       "      <th></th>\n",
       "      <th>Estimated Cost</th>\n",
       "      <th>Existing Construction Type</th>\n",
       "    </tr>\n",
       "  </thead>\n",
       "  <tbody>\n",
       "    <tr>\n",
       "      <th>count</th>\n",
       "      <td>9883.000000</td>\n",
       "      <td>9.883000e+03</td>\n",
       "    </tr>\n",
       "    <tr>\n",
       "      <th>mean</th>\n",
       "      <td>0.000000</td>\n",
       "      <td>-1.581700e-16</td>\n",
       "    </tr>\n",
       "    <tr>\n",
       "      <th>std</th>\n",
       "      <td>1.000000</td>\n",
       "      <td>1.000000e+00</td>\n",
       "    </tr>\n",
       "    <tr>\n",
       "      <th>min</th>\n",
       "      <td>-0.035129</td>\n",
       "      <td>-2.276229e+00</td>\n",
       "    </tr>\n",
       "    <tr>\n",
       "      <th>25%</th>\n",
       "      <td>-0.033865</td>\n",
       "      <td>5.003658e-01</td>\n",
       "    </tr>\n",
       "    <tr>\n",
       "      <th>50%</th>\n",
       "      <td>-0.032201</td>\n",
       "      <td>5.003658e-01</td>\n",
       "    </tr>\n",
       "    <tr>\n",
       "      <th>75%</th>\n",
       "      <td>-0.028623</td>\n",
       "      <td>5.003658e-01</td>\n",
       "    </tr>\n",
       "    <tr>\n",
       "      <th>max</th>\n",
       "      <td>88.457275</td>\n",
       "      <td>5.003658e-01</td>\n",
       "    </tr>\n",
       "  </tbody>\n",
       "</table>\n",
       "</div>"
      ],
      "text/plain": [
       "       Estimated Cost  Existing Construction Type\n",
       "count     9883.000000                9.883000e+03\n",
       "mean         0.000000               -1.581700e-16\n",
       "std          1.000000                1.000000e+00\n",
       "min         -0.035129               -2.276229e+00\n",
       "25%         -0.033865                5.003658e-01\n",
       "50%         -0.032201                5.003658e-01\n",
       "75%         -0.028623                5.003658e-01\n",
       "max         88.457275                5.003658e-01"
      ]
     },
     "execution_count": 54,
     "metadata": {},
     "output_type": "execute_result"
    }
   ],
   "source": [
    "data_numerical.describe()"
   ]
  },
  {
   "cell_type": "markdown",
   "metadata": {},
   "source": [
    "## Соединяем все в одну таблицу"
   ]
  },
  {
   "cell_type": "code",
   "execution_count": 55,
   "metadata": {},
   "outputs": [
    {
     "name": "stdout",
     "output_type": "stream",
     "text": [
      "(9883, 1084)\n"
     ]
    }
   ],
   "source": [
    "data = pd.concat((data_numerical, data_nonbinary), axis = 1)\n",
    "print(data.shape)\n"
   ]
  },
  {
   "cell_type": "code",
   "execution_count": 56,
   "metadata": {},
   "outputs": [
    {
     "data": {
      "text/html": [
       "<div>\n",
       "<style scoped>\n",
       "    .dataframe tbody tr th:only-of-type {\n",
       "        vertical-align: middle;\n",
       "    }\n",
       "\n",
       "    .dataframe tbody tr th {\n",
       "        vertical-align: top;\n",
       "    }\n",
       "\n",
       "    .dataframe thead th {\n",
       "        text-align: right;\n",
       "    }\n",
       "</style>\n",
       "<table border=\"1\" class=\"dataframe\">\n",
       "  <thead>\n",
       "    <tr style=\"text-align: right;\">\n",
       "      <th></th>\n",
       "      <th>Estimated Cost</th>\n",
       "      <th>Existing Construction Type</th>\n",
       "      <th>Existing Construction Type Description</th>\n",
       "      <th>Street Name_01st</th>\n",
       "      <th>Street Name_02nd</th>\n",
       "      <th>Street Name_03rd</th>\n",
       "      <th>Street Name_04th</th>\n",
       "      <th>Street Name_05th</th>\n",
       "      <th>Street Name_06th</th>\n",
       "      <th>Street Name_07th</th>\n",
       "      <th>...</th>\n",
       "      <th>Existing Use_storage shed</th>\n",
       "      <th>Existing Use_storage tanks</th>\n",
       "      <th>Existing Use_theater</th>\n",
       "      <th>Existing Use_tourist hotel/motel</th>\n",
       "      <th>Existing Use_tower</th>\n",
       "      <th>Existing Use_vacant lot</th>\n",
       "      <th>Existing Use_warehouse, furniture</th>\n",
       "      <th>Existing Use_warehouse,no frnitur</th>\n",
       "      <th>Existing Use_workshop commercial</th>\n",
       "      <th>Existing Use_workshop residential</th>\n",
       "    </tr>\n",
       "  </thead>\n",
       "  <tbody>\n",
       "    <tr>\n",
       "      <th>count</th>\n",
       "      <td>9883.000000</td>\n",
       "      <td>9.883000e+03</td>\n",
       "      <td>9883.000000</td>\n",
       "      <td>9883.000000</td>\n",
       "      <td>9883.000000</td>\n",
       "      <td>9883.000000</td>\n",
       "      <td>9883.000000</td>\n",
       "      <td>9883.000000</td>\n",
       "      <td>9883.000000</td>\n",
       "      <td>9883.000000</td>\n",
       "      <td>...</td>\n",
       "      <td>9883.000000</td>\n",
       "      <td>9883.000000</td>\n",
       "      <td>9883.000000</td>\n",
       "      <td>9883.000000</td>\n",
       "      <td>9883.000000</td>\n",
       "      <td>9883.000000</td>\n",
       "      <td>9883.000000</td>\n",
       "      <td>9883.000000</td>\n",
       "      <td>9883.000000</td>\n",
       "      <td>9883.000000</td>\n",
       "    </tr>\n",
       "    <tr>\n",
       "      <th>mean</th>\n",
       "      <td>0.000000</td>\n",
       "      <td>-1.581700e-16</td>\n",
       "      <td>4.279672</td>\n",
       "      <td>0.000708</td>\n",
       "      <td>0.004149</td>\n",
       "      <td>0.012446</td>\n",
       "      <td>0.003238</td>\n",
       "      <td>0.004654</td>\n",
       "      <td>0.003137</td>\n",
       "      <td>0.002631</td>\n",
       "      <td>...</td>\n",
       "      <td>0.001214</td>\n",
       "      <td>0.000101</td>\n",
       "      <td>0.000506</td>\n",
       "      <td>0.008297</td>\n",
       "      <td>0.000101</td>\n",
       "      <td>0.006577</td>\n",
       "      <td>0.000202</td>\n",
       "      <td>0.002833</td>\n",
       "      <td>0.000607</td>\n",
       "      <td>0.000101</td>\n",
       "    </tr>\n",
       "    <tr>\n",
       "      <th>std</th>\n",
       "      <td>1.000000</td>\n",
       "      <td>1.000000e+00</td>\n",
       "      <td>1.440340</td>\n",
       "      <td>0.026606</td>\n",
       "      <td>0.064279</td>\n",
       "      <td>0.110869</td>\n",
       "      <td>0.056813</td>\n",
       "      <td>0.068068</td>\n",
       "      <td>0.055921</td>\n",
       "      <td>0.051226</td>\n",
       "      <td>...</td>\n",
       "      <td>0.034826</td>\n",
       "      <td>0.010059</td>\n",
       "      <td>0.022488</td>\n",
       "      <td>0.090714</td>\n",
       "      <td>0.010059</td>\n",
       "      <td>0.080835</td>\n",
       "      <td>0.014225</td>\n",
       "      <td>0.053155</td>\n",
       "      <td>0.024633</td>\n",
       "      <td>0.010059</td>\n",
       "    </tr>\n",
       "    <tr>\n",
       "      <th>min</th>\n",
       "      <td>-0.035129</td>\n",
       "      <td>-2.276229e+00</td>\n",
       "      <td>1.000000</td>\n",
       "      <td>0.000000</td>\n",
       "      <td>0.000000</td>\n",
       "      <td>0.000000</td>\n",
       "      <td>0.000000</td>\n",
       "      <td>0.000000</td>\n",
       "      <td>0.000000</td>\n",
       "      <td>0.000000</td>\n",
       "      <td>...</td>\n",
       "      <td>0.000000</td>\n",
       "      <td>0.000000</td>\n",
       "      <td>0.000000</td>\n",
       "      <td>0.000000</td>\n",
       "      <td>0.000000</td>\n",
       "      <td>0.000000</td>\n",
       "      <td>0.000000</td>\n",
       "      <td>0.000000</td>\n",
       "      <td>0.000000</td>\n",
       "      <td>0.000000</td>\n",
       "    </tr>\n",
       "    <tr>\n",
       "      <th>25%</th>\n",
       "      <td>-0.033865</td>\n",
       "      <td>5.003658e-01</td>\n",
       "      <td>5.000000</td>\n",
       "      <td>0.000000</td>\n",
       "      <td>0.000000</td>\n",
       "      <td>0.000000</td>\n",
       "      <td>0.000000</td>\n",
       "      <td>0.000000</td>\n",
       "      <td>0.000000</td>\n",
       "      <td>0.000000</td>\n",
       "      <td>...</td>\n",
       "      <td>0.000000</td>\n",
       "      <td>0.000000</td>\n",
       "      <td>0.000000</td>\n",
       "      <td>0.000000</td>\n",
       "      <td>0.000000</td>\n",
       "      <td>0.000000</td>\n",
       "      <td>0.000000</td>\n",
       "      <td>0.000000</td>\n",
       "      <td>0.000000</td>\n",
       "      <td>0.000000</td>\n",
       "    </tr>\n",
       "    <tr>\n",
       "      <th>50%</th>\n",
       "      <td>-0.032201</td>\n",
       "      <td>5.003658e-01</td>\n",
       "      <td>5.000000</td>\n",
       "      <td>0.000000</td>\n",
       "      <td>0.000000</td>\n",
       "      <td>0.000000</td>\n",
       "      <td>0.000000</td>\n",
       "      <td>0.000000</td>\n",
       "      <td>0.000000</td>\n",
       "      <td>0.000000</td>\n",
       "      <td>...</td>\n",
       "      <td>0.000000</td>\n",
       "      <td>0.000000</td>\n",
       "      <td>0.000000</td>\n",
       "      <td>0.000000</td>\n",
       "      <td>0.000000</td>\n",
       "      <td>0.000000</td>\n",
       "      <td>0.000000</td>\n",
       "      <td>0.000000</td>\n",
       "      <td>0.000000</td>\n",
       "      <td>0.000000</td>\n",
       "    </tr>\n",
       "    <tr>\n",
       "      <th>75%</th>\n",
       "      <td>-0.028623</td>\n",
       "      <td>5.003658e-01</td>\n",
       "      <td>5.000000</td>\n",
       "      <td>0.000000</td>\n",
       "      <td>0.000000</td>\n",
       "      <td>0.000000</td>\n",
       "      <td>0.000000</td>\n",
       "      <td>0.000000</td>\n",
       "      <td>0.000000</td>\n",
       "      <td>0.000000</td>\n",
       "      <td>...</td>\n",
       "      <td>0.000000</td>\n",
       "      <td>0.000000</td>\n",
       "      <td>0.000000</td>\n",
       "      <td>0.000000</td>\n",
       "      <td>0.000000</td>\n",
       "      <td>0.000000</td>\n",
       "      <td>0.000000</td>\n",
       "      <td>0.000000</td>\n",
       "      <td>0.000000</td>\n",
       "      <td>0.000000</td>\n",
       "    </tr>\n",
       "    <tr>\n",
       "      <th>max</th>\n",
       "      <td>88.457275</td>\n",
       "      <td>5.003658e-01</td>\n",
       "      <td>6.000000</td>\n",
       "      <td>1.000000</td>\n",
       "      <td>1.000000</td>\n",
       "      <td>1.000000</td>\n",
       "      <td>1.000000</td>\n",
       "      <td>1.000000</td>\n",
       "      <td>1.000000</td>\n",
       "      <td>1.000000</td>\n",
       "      <td>...</td>\n",
       "      <td>1.000000</td>\n",
       "      <td>1.000000</td>\n",
       "      <td>1.000000</td>\n",
       "      <td>1.000000</td>\n",
       "      <td>1.000000</td>\n",
       "      <td>1.000000</td>\n",
       "      <td>1.000000</td>\n",
       "      <td>1.000000</td>\n",
       "      <td>1.000000</td>\n",
       "      <td>1.000000</td>\n",
       "    </tr>\n",
       "  </tbody>\n",
       "</table>\n",
       "<p>8 rows × 1084 columns</p>\n",
       "</div>"
      ],
      "text/plain": [
       "       Estimated Cost  Existing Construction Type  \\\n",
       "count     9883.000000                9.883000e+03   \n",
       "mean         0.000000               -1.581700e-16   \n",
       "std          1.000000                1.000000e+00   \n",
       "min         -0.035129               -2.276229e+00   \n",
       "25%         -0.033865                5.003658e-01   \n",
       "50%         -0.032201                5.003658e-01   \n",
       "75%         -0.028623                5.003658e-01   \n",
       "max         88.457275                5.003658e-01   \n",
       "\n",
       "       Existing Construction Type Description  Street Name_01st  \\\n",
       "count                             9883.000000       9883.000000   \n",
       "mean                                 4.279672          0.000708   \n",
       "std                                  1.440340          0.026606   \n",
       "min                                  1.000000          0.000000   \n",
       "25%                                  5.000000          0.000000   \n",
       "50%                                  5.000000          0.000000   \n",
       "75%                                  5.000000          0.000000   \n",
       "max                                  6.000000          1.000000   \n",
       "\n",
       "       Street Name_02nd  Street Name_03rd  Street Name_04th  Street Name_05th  \\\n",
       "count       9883.000000       9883.000000       9883.000000       9883.000000   \n",
       "mean           0.004149          0.012446          0.003238          0.004654   \n",
       "std            0.064279          0.110869          0.056813          0.068068   \n",
       "min            0.000000          0.000000          0.000000          0.000000   \n",
       "25%            0.000000          0.000000          0.000000          0.000000   \n",
       "50%            0.000000          0.000000          0.000000          0.000000   \n",
       "75%            0.000000          0.000000          0.000000          0.000000   \n",
       "max            1.000000          1.000000          1.000000          1.000000   \n",
       "\n",
       "       Street Name_06th  Street Name_07th                ...                  \\\n",
       "count       9883.000000       9883.000000                ...                   \n",
       "mean           0.003137          0.002631                ...                   \n",
       "std            0.055921          0.051226                ...                   \n",
       "min            0.000000          0.000000                ...                   \n",
       "25%            0.000000          0.000000                ...                   \n",
       "50%            0.000000          0.000000                ...                   \n",
       "75%            0.000000          0.000000                ...                   \n",
       "max            1.000000          1.000000                ...                   \n",
       "\n",
       "       Existing Use_storage shed  Existing Use_storage tanks  \\\n",
       "count                9883.000000                 9883.000000   \n",
       "mean                    0.001214                    0.000101   \n",
       "std                     0.034826                    0.010059   \n",
       "min                     0.000000                    0.000000   \n",
       "25%                     0.000000                    0.000000   \n",
       "50%                     0.000000                    0.000000   \n",
       "75%                     0.000000                    0.000000   \n",
       "max                     1.000000                    1.000000   \n",
       "\n",
       "       Existing Use_theater  Existing Use_tourist hotel/motel  \\\n",
       "count           9883.000000                       9883.000000   \n",
       "mean               0.000506                          0.008297   \n",
       "std                0.022488                          0.090714   \n",
       "min                0.000000                          0.000000   \n",
       "25%                0.000000                          0.000000   \n",
       "50%                0.000000                          0.000000   \n",
       "75%                0.000000                          0.000000   \n",
       "max                1.000000                          1.000000   \n",
       "\n",
       "       Existing Use_tower  Existing Use_vacant lot  \\\n",
       "count         9883.000000              9883.000000   \n",
       "mean             0.000101                 0.006577   \n",
       "std              0.010059                 0.080835   \n",
       "min              0.000000                 0.000000   \n",
       "25%              0.000000                 0.000000   \n",
       "50%              0.000000                 0.000000   \n",
       "75%              0.000000                 0.000000   \n",
       "max              1.000000                 1.000000   \n",
       "\n",
       "       Existing Use_warehouse, furniture  Existing Use_warehouse,no frnitur  \\\n",
       "count                        9883.000000                        9883.000000   \n",
       "mean                            0.000202                           0.002833   \n",
       "std                             0.014225                           0.053155   \n",
       "min                             0.000000                           0.000000   \n",
       "25%                             0.000000                           0.000000   \n",
       "50%                             0.000000                           0.000000   \n",
       "75%                             0.000000                           0.000000   \n",
       "max                             1.000000                           1.000000   \n",
       "\n",
       "       Existing Use_workshop commercial  Existing Use_workshop residential  \n",
       "count                       9883.000000                        9883.000000  \n",
       "mean                           0.000607                           0.000101  \n",
       "std                            0.024633                           0.010059  \n",
       "min                            0.000000                           0.000000  \n",
       "25%                            0.000000                           0.000000  \n",
       "50%                            0.000000                           0.000000  \n",
       "75%                            0.000000                           0.000000  \n",
       "max                            1.000000                           1.000000  \n",
       "\n",
       "[8 rows x 1084 columns]"
      ]
     },
     "execution_count": 56,
     "metadata": {},
     "output_type": "execute_result"
    }
   ],
   "source": [
    "data.describe()"
   ]
  },
  {
   "cell_type": "markdown",
   "metadata": {},
   "source": [
    "# X и y"
   ]
  },
  {
   "cell_type": "code",
   "execution_count": 57,
   "metadata": {},
   "outputs": [
    {
     "data": {
      "text/plain": [
       "Index(['Estimated Cost', 'Existing Construction Type Description',\n",
       "       'Street Name_01st', 'Street Name_02nd', 'Street Name_03rd',\n",
       "       'Street Name_04th', 'Street Name_05th', 'Street Name_06th',\n",
       "       'Street Name_07th', 'Street Name_08th',\n",
       "       ...\n",
       "       'Existing Use_storage shed', 'Existing Use_storage tanks',\n",
       "       'Existing Use_theater', 'Existing Use_tourist hotel/motel',\n",
       "       'Existing Use_tower', 'Existing Use_vacant lot',\n",
       "       'Existing Use_warehouse, furniture',\n",
       "       'Existing Use_warehouse,no frnitur', 'Existing Use_workshop commercial',\n",
       "       'Existing Use_workshop residential'],\n",
       "      dtype='object', length=1083)"
      ]
     },
     "execution_count": 57,
     "metadata": {},
     "output_type": "execute_result"
    }
   ],
   "source": [
    "X = data.drop(('Existing Construction Type'), axis = 1) # выбрасываем столбец 'Existing Construction Type'\n",
    "y = data['Existing Construction Type']\n",
    "feature_names = X.columns\n",
    "feature_names\n"
   ]
  },
  {
   "cell_type": "code",
   "execution_count": 58,
   "metadata": {},
   "outputs": [
    {
     "name": "stdout",
     "output_type": "stream",
     "text": [
      "(9883, 1083)\n",
      "(9883,)\n"
     ]
    }
   ],
   "source": [
    "print(X.shape)\n",
    "print(y.shape)\n",
    "N, d = X.shape"
   ]
  },
  {
   "cell_type": "code",
   "execution_count": 59,
   "metadata": {},
   "outputs": [
    {
     "data": {
      "text/plain": [
       "pandas.core.frame.DataFrame"
      ]
     },
     "execution_count": 59,
     "metadata": {},
     "output_type": "execute_result"
    }
   ],
   "source": [
    "type(X)"
   ]
  },
  {
   "cell_type": "code",
   "execution_count": 60,
   "metadata": {},
   "outputs": [
    {
     "data": {
      "text/plain": [
       "pandas.core.series.Series"
      ]
     },
     "execution_count": 60,
     "metadata": {},
     "output_type": "execute_result"
    }
   ],
   "source": [
    "type(y)"
   ]
  },
  {
   "cell_type": "markdown",
   "metadata": {},
   "source": [
    "Разобьем данные на 2 части: тестовую и обучающую, в соотношении 30% и 70%\n",
    "    "
   ]
  },
  {
   "cell_type": "code",
   "execution_count": 74,
   "metadata": {},
   "outputs": [
    {
     "name": "stdout",
     "output_type": "stream",
     "text": [
      "5435 4448\n"
     ]
    }
   ],
   "source": [
    "from sklearn.model_selection import train_test_split\n",
    "X_train, X_test, y_train, y_test = train_test_split(X, y, test_size = 0.45, random_state = 25)\n",
    "\n",
    "N_train, _ = X_train.shape \n",
    "N_test,  _ = X_test.shape \n",
    "\n",
    "print(N_train, N_test)"
   ]
  },
  {
   "cell_type": "code",
   "execution_count": 75,
   "metadata": {},
   "outputs": [
    {
     "name": "stdout",
     "output_type": "stream",
     "text": [
      "9883\n"
     ]
    }
   ],
   "source": [
    "print(N_train + N_test)"
   ]
  },
  {
   "cell_type": "code",
   "execution_count": 76,
   "metadata": {},
   "outputs": [],
   "source": [
    "y_train = y_train.astype('int')\n",
    "y_test = y_test.astype('int')\n"
   ]
  },
  {
   "cell_type": "markdown",
   "metadata": {},
   "source": [
    "\n",
    "\n",
    "\n",
    "# Задание №2.\n",
    "\n",
    "\n"
   ]
  },
  {
   "cell_type": "markdown",
   "metadata": {},
   "source": [
    "Обучаем классификатор.\n",
    "    "
   ]
  },
  {
   "cell_type": "code",
   "execution_count": 77,
   "metadata": {},
   "outputs": [
    {
     "data": {
      "text/plain": [
       "MLPClassifier(activation='logistic', alpha=0.0001, batch_size='auto',\n",
       "       beta_1=0.9, beta_2=0.999, early_stopping=False, epsilon=1e-08,\n",
       "       hidden_layer_sizes=(50,), learning_rate='constant',\n",
       "       learning_rate_init=0.001, max_iter=200, momentum=0.9,\n",
       "       n_iter_no_change=10, nesterovs_momentum=True, power_t=0.5,\n",
       "       random_state=15, shuffle=True, solver='lbfgs', tol=0.0001,\n",
       "       validation_fraction=0.1, verbose=False, warm_start=False)"
      ]
     },
     "execution_count": 77,
     "metadata": {},
     "output_type": "execute_result"
    }
   ],
   "source": [
    "from sklearn.neural_network import MLPClassifier\n",
    "mlp_model = MLPClassifier(hidden_layer_sizes = (50,), solver = 'lbfgs', \n",
    "                          activation = 'logistic', random_state = 15)\n",
    "mlp_model.fit(X_train, y_train)\n"
   ]
  },
  {
   "cell_type": "code",
   "execution_count": 78,
   "metadata": {},
   "outputs": [],
   "source": [
    "y_train_pred = mlp_model.predict(X_train)\n",
    "y_test_pred = mlp_model.predict(X_test)"
   ]
  },
  {
   "cell_type": "code",
   "execution_count": 79,
   "metadata": {},
   "outputs": [
    {
     "name": "stdout",
     "output_type": "stream",
     "text": [
      "0.0 0.0020233812949640288\n"
     ]
    }
   ],
   "source": [
    "print(np.mean(y_train != y_train_pred), np.mean(y_test != y_test_pred))"
   ]
  },
  {
   "cell_type": "code",
   "execution_count": 80,
   "metadata": {},
   "outputs": [
    {
     "name": "stdout",
     "output_type": "stream",
     "text": [
      "1.0 0.997976618705036\n"
     ]
    }
   ],
   "source": [
    "print(mlp_model.score(X_train, y_train), mlp_model.score(X_test, y_test))"
   ]
  },
  {
   "cell_type": "code",
   "execution_count": 81,
   "metadata": {},
   "outputs": [
    {
     "name": "stdout",
     "output_type": "stream",
     "text": [
      "0.002023381294964044\n"
     ]
    }
   ],
   "source": [
    "print(1 - mlp_model.score(X_test, y_test))"
   ]
  },
  {
   "cell_type": "code",
   "execution_count": 82,
   "metadata": {},
   "outputs": [
    {
     "name": "stdout",
     "output_type": "stream",
     "text": [
      "[0.0001     0.00021544 0.00046416 0.001      0.00215443 0.00464159\n",
      " 0.01       0.02154435 0.04641589 0.1       ]\n"
     ]
    }
   ],
   "source": [
    "alpha_arr = np.logspace(-4, -1, 10)\n",
    "print(alpha_arr)"
   ]
  },
  {
   "cell_type": "markdown",
   "metadata": {},
   "source": [
    "Подберем оптимальное значение параметра регуляризации `alpha`    "
   ]
  },
  {
   "cell_type": "code",
   "execution_count": 83,
   "metadata": {},
   "outputs": [],
   "source": [
    "alpha_arr = np.logspace(-5, 5, 30)\n",
    "test_err = []\n",
    "train_err = []\n",
    "for alpha in alpha_arr:\n",
    "    mlp_model = MLPClassifier(alpha = alpha, hidden_layer_sizes = (50,), \n",
    "                              solver = 'lbfgs', activation = 'logistic', random_state = 15)\n",
    "    mlp_model.fit(X_train, y_train)\n",
    "\n",
    "    y_train_pred = mlp_model.predict(X_train)\n",
    "    y_test_pred = mlp_model.predict(X_test)\n",
    "    train_err.append(np.mean(y_train != y_train_pred))\n",
    "    test_err.append(np.mean(y_test != y_test_pred))"
   ]
  },
  {
   "cell_type": "code",
   "execution_count": 84,
   "metadata": {},
   "outputs": [
    {
     "data": {
      "image/png": "[encoded data removed]",
      "text/plain": [
       "<Figure size 432x288 with 1 Axes>"
      ]
     },
     "metadata": {
      "needs_background": "light"
     },
     "output_type": "display_data"
    }
   ],
   "source": [
    "plt.semilogx(alpha_arr, train_err, 'b-o', label = 'train')\n",
    "plt.semilogx(alpha_arr, test_err, 'r-o', label = 'test')\n",
    "plt.xlim([np.max(alpha_arr), np.min(alpha_arr)])\n",
    "plt.title('Error vs. alpha')\n",
    "plt.xlabel('alpha')\n",
    "plt.ylabel('error')\n",
    "plt.legend()\n",
    "pass"
   ]
  },
  {
   "cell_type": "markdown",
   "metadata": {},
   "source": [
    "Минимальное значение ошибки.\n",
    "    "
   ]
  },
  {
   "cell_type": "code",
   "execution_count": 85,
   "metadata": {},
   "outputs": [
    {
     "name": "stdout",
     "output_type": "stream",
     "text": [
      "0.0 0.0\n"
     ]
    }
   ],
   "source": [
    "min_train_err = np.min(train_err)\n",
    "min_test_err = np.min(test_err)\n",
    "print(min_train_err, min_test_err)"
   ]
  },
  {
   "cell_type": "code",
   "execution_count": 86,
   "metadata": {},
   "outputs": [
    {
     "name": "stdout",
     "output_type": "stream",
     "text": [
      "[1.17210230e-03 2.59294380e-03 1.26896100e-02 6.21016942e-02\n",
      " 1.37382380e-01 3.03919538e-01 6.72335754e-01 1.48735211e+00\n",
      " 3.29034456e+00 7.27895384e+00]\n"
     ]
    }
   ],
   "source": [
    "alpha_opt = alpha_arr[test_err == min_test_err]\n",
    "print(alpha_opt)"
   ]
  },
  {
   "cell_type": "code",
   "execution_count": 87,
   "metadata": {},
   "outputs": [],
   "source": [
    "alpha_opt = alpha_opt[0]"
   ]
  },
  {
   "cell_type": "markdown",
   "metadata": {},
   "source": [
    "Повторим обучение.\n",
    "    "
   ]
  },
  {
   "cell_type": "code",
   "execution_count": 88,
   "metadata": {},
   "outputs": [
    {
     "name": "stdout",
     "output_type": "stream",
     "text": [
      "0.0\n",
      "0.0\n"
     ]
    }
   ],
   "source": [
    "mlp_model = MLPClassifier(alpha = alpha_opt, hidden_layer_sizes = (50,),\n",
    "                          solver = 'lbfgs', activation = 'logistic', random_state = 15)\n",
    "mlp_model.fit(X_train, y_train)\n",
    "\n",
    "y_train_pred = mlp_model.predict(X_train)\n",
    "y_test_pred = mlp_model.predict(X_test)\n",
    "print(np.mean(y_train != y_train_pred))\n",
    "print(np.mean(y_test != y_test_pred))"
   ]
  },
  {
   "cell_type": "markdown",
   "metadata": {},
   "source": [
    "Матрица рассогласования.\n",
    "    "
   ]
  },
  {
   "cell_type": "code",
   "execution_count": 89,
   "metadata": {},
   "outputs": [
    {
     "name": "stdout",
     "output_type": "stream",
     "text": [
      "[[ 629    0    0]\n",
      " [   0   99    0]\n",
      " [   0    0 3720]]\n"
     ]
    }
   ],
   "source": [
    "from sklearn.metrics import confusion_matrix\n",
    "print(confusion_matrix(y_test_pred, y_test))"
   ]
  },
  {
   "cell_type": "code",
   "execution_count": 90,
   "metadata": {},
   "outputs": [
    {
     "data": {
      "image/png": "[encoded data removed]",
      "text/plain": [
       "<Figure size 432x288 with 2 Axes>"
      ]
     },
     "metadata": {
      "needs_background": "light"
     },
     "output_type": "display_data"
    }
   ],
   "source": [
    "M = confusion_matrix(y_test_pred, y_test)\n",
    "M = np.sqrt(M)\n",
    "plt.imshow(M, interpolation = 'nearest')\n",
    "plt.set_cmap('binary')\n",
    "plt.xticks(range(3))\n",
    "plt.yticks(range(3))\n",
    "plt.xlabel(\"true label\")\n",
    "plt.ylabel(\"predicted label\")\n",
    "plt.colorbar()\n",
    "pass"
   ]
  },
  {
   "cell_type": "code",
   "execution_count": 91,
   "metadata": {},
   "outputs": [
    {
     "name": "stdout",
     "output_type": "stream",
     "text": [
      "              precision    recall  f1-score   support\n",
      "\n",
      "          -2       1.00      1.00      1.00       629\n",
      "          -1       1.00      1.00      1.00        99\n",
      "           0       1.00      1.00      1.00      3720\n",
      "\n",
      "   micro avg       1.00      1.00      1.00      4448\n",
      "   macro avg       1.00      1.00      1.00      4448\n",
      "weighted avg       1.00      1.00      1.00      4448\n",
      "\n"
     ]
    }
   ],
   "source": [
    "from sklearn.metrics import classification_report\n",
    "print(classification_report(y_test, y_test_pred))"
   ]
  },
  {
   "cell_type": "markdown",
   "metadata": {},
   "source": [
    "Попробуем другие параметры.    "
   ]
  },
  {
   "cell_type": "code",
   "execution_count": 92,
   "metadata": {},
   "outputs": [
    {
     "data": {
      "text/plain": [
       "MLPClassifier(activation='logistic', alpha=0.0001, batch_size='auto',\n",
       "       beta_1=0.9, beta_2=0.999, early_stopping=False, epsilon=1e-08,\n",
       "       hidden_layer_sizes=(50, 50), learning_rate='constant',\n",
       "       learning_rate_init=0.001, max_iter=200, momentum=0.9,\n",
       "       n_iter_no_change=10, nesterovs_momentum=True, power_t=0.5,\n",
       "       random_state=15, shuffle=True, solver='lbfgs', tol=0.0001,\n",
       "       validation_fraction=0.1, verbose=False, warm_start=False)"
      ]
     },
     "execution_count": 92,
     "metadata": {},
     "output_type": "execute_result"
    }
   ],
   "source": [
    "from sklearn.neural_network import MLPClassifier\n",
    "mlp_model = MLPClassifier(hidden_layer_sizes = (50,50), solver = 'lbfgs', \n",
    "                          activation = 'logistic', random_state = 15)\n",
    "mlp_model.fit(X_train, y_train)\n"
   ]
  },
  {
   "cell_type": "code",
   "execution_count": 93,
   "metadata": {},
   "outputs": [
    {
     "name": "stdout",
     "output_type": "stream",
     "text": [
      "0.0001839926402943882 0.0\n"
     ]
    }
   ],
   "source": [
    "y_train_pred = mlp_model.predict(X_train)\n",
    "y_test_pred = mlp_model.predict(X_test)\n",
    "print(np.mean(y_train != y_train_pred), np.mean(y_test != y_test_pred))"
   ]
  },
  {
   "cell_type": "code",
   "execution_count": 94,
   "metadata": {},
   "outputs": [
    {
     "name": "stdout",
     "output_type": "stream",
     "text": [
      "0.9998160073597057 1.0\n"
     ]
    }
   ],
   "source": [
    "print(mlp_model.score(X_train, y_train), mlp_model.score(X_test, y_test))"
   ]
  },
  {
   "cell_type": "code",
   "execution_count": 95,
   "metadata": {},
   "outputs": [
    {
     "name": "stdout",
     "output_type": "stream",
     "text": [
      "0.0\n"
     ]
    }
   ],
   "source": [
    "print(1 - mlp_model.score(X_test, y_test))"
   ]
  },
  {
   "cell_type": "code",
   "execution_count": 96,
   "metadata": {},
   "outputs": [],
   "source": [
    "alpha_arr = np.logspace(-5, 5, 30)\n",
    "test_err = []\n",
    "train_err = []\n",
    "for alpha in alpha_arr:\n",
    "    mlp_model = MLPClassifier(alpha = alpha, hidden_layer_sizes = (50,50), \n",
    "                              solver = 'lbfgs', activation = 'logistic', random_state = 15)\n",
    "    mlp_model.fit(X_train, y_train)\n",
    "\n",
    "    y_train_pred = mlp_model.predict(X_train)\n",
    "    y_test_pred = mlp_model.predict(X_test)\n",
    "    train_err.append(np.mean(y_train != y_train_pred))\n",
    "    test_err.append(np.mean(y_test != y_test_pred))"
   ]
  },
  {
   "cell_type": "code",
   "execution_count": 97,
   "metadata": {},
   "outputs": [
    {
     "data": {
      "image/png": "[encoded data removed]",
      "text/plain": [
       "<Figure size 432x288 with 1 Axes>"
      ]
     },
     "metadata": {
      "needs_background": "light"
     },
     "output_type": "display_data"
    }
   ],
   "source": [
    "plt.semilogx(alpha_arr, train_err, 'b-o', label = 'train')\n",
    "plt.semilogx(alpha_arr, test_err, 'r-o', label = 'test')\n",
    "plt.xlim([np.max(alpha_arr), np.min(alpha_arr)])\n",
    "plt.title('Error vs. alpha')\n",
    "plt.xlabel('alpha')\n",
    "plt.ylabel('error')\n",
    "plt.legend()\n",
    "pass"
   ]
  },
  {
   "cell_type": "code",
   "execution_count": 98,
   "metadata": {},
   "outputs": [
    {
     "name": "stdout",
     "output_type": "stream",
     "text": [
      "0.0001839926402943882 0.0\n"
     ]
    }
   ],
   "source": [
    "min_train_err = np.min(train_err)\n",
    "min_test_err = np.min(test_err)\n",
    "print(min_train_err, min_test_err)"
   ]
  },
  {
   "cell_type": "code",
   "execution_count": 99,
   "metadata": {},
   "outputs": [
    {
     "name": "stdout",
     "output_type": "stream",
     "text": [
      "[1.00000000e-05 2.21221629e-05 4.89390092e-05 1.08263673e-04\n",
      " 2.39502662e-04 5.29831691e-04 1.17210230e-03 5.73615251e-03\n",
      " 1.26896100e-02 2.80721620e-02 6.21016942e-02 1.37382380e-01\n",
      " 3.03919538e-01 6.72335754e-01 1.48735211e+00 3.29034456e+00\n",
      " 7.27895384e+00]\n"
     ]
    }
   ],
   "source": [
    "alpha_opt = alpha_arr[test_err == min_test_err]\n",
    "print(alpha_opt)\n",
    "alpha_opt = alpha_opt[0]"
   ]
  },
  {
   "cell_type": "code",
   "execution_count": 100,
   "metadata": {},
   "outputs": [
    {
     "name": "stdout",
     "output_type": "stream",
     "text": [
      "0.0001839926402943882\n",
      "0.0\n"
     ]
    }
   ],
   "source": [
    "mlp_model = MLPClassifier(alpha = alpha_opt, hidden_layer_sizes = (50,50),\n",
    "                          solver = 'lbfgs', activation = 'logistic', random_state = 15)\n",
    "mlp_model.fit(X_train, y_train)\n",
    "\n",
    "y_train_pred = mlp_model.predict(X_train)\n",
    "y_test_pred = mlp_model.predict(X_test)\n",
    "print(np.mean(y_train != y_train_pred))\n",
    "print(np.mean(y_test != y_test_pred))"
   ]
  },
  {
   "cell_type": "code",
   "execution_count": 101,
   "metadata": {},
   "outputs": [
    {
     "name": "stdout",
     "output_type": "stream",
     "text": [
      "[[ 629    0    0]\n",
      " [   0   99    0]\n",
      " [   0    0 3720]]\n"
     ]
    }
   ],
   "source": [
    "from sklearn.metrics import confusion_matrix\n",
    "print(confusion_matrix(y_test_pred, y_test))"
   ]
  },
  {
   "cell_type": "code",
   "execution_count": 102,
   "metadata": {},
   "outputs": [
    {
     "data": {
      "image/png": "[encoded data removed]",
      "text/plain": [
       "<Figure size 432x288 with 2 Axes>"
      ]
     },
     "metadata": {
      "needs_background": "light"
     },
     "output_type": "display_data"
    }
   ],
   "source": [
    "M = confusion_matrix(y_test_pred, y_test)\n",
    "M = np.sqrt(M)\n",
    "plt.imshow(M, interpolation = 'nearest')\n",
    "plt.set_cmap('binary')\n",
    "plt.xticks(range(3))\n",
    "plt.yticks(range(3))\n",
    "plt.xlabel(\"true label\")\n",
    "plt.ylabel(\"predicted label\")\n",
    "plt.colorbar()\n",
    "pass"
   ]
  },
  {
   "cell_type": "markdown",
   "metadata": {},
   "source": [
    "\n",
    "\n",
    "\n",
    "# Задание №3.\n",
    "\n",
    "\n"
   ]
  },
  {
   "cell_type": "markdown",
   "metadata": {},
   "source": [
    "# Random Forest"
   ]
  },
  {
   "cell_type": "code",
   "execution_count": 103,
   "metadata": {},
   "outputs": [
    {
     "name": "stdout",
     "output_type": "stream",
     "text": [
      "0.0 0.0035971223021582736\n"
     ]
    }
   ],
   "source": [
    "from sklearn import ensemble\n",
    "rf = ensemble.RandomForestClassifier(n_estimators = 1000)\n",
    "rf.fit(X_train, y_train)\n",
    "\n",
    "err_train = np.mean(y_train != rf.predict(X_train))\n",
    "err_test  = np.mean(y_test  != rf.predict(X_test))\n",
    "\n",
    "print(err_train, err_test)"
   ]
  },
  {
   "cell_type": "code",
   "execution_count": 104,
   "metadata": {},
   "outputs": [
    {
     "name": "stdout",
     "output_type": "stream",
     "text": [
      "[ 100  200  300  400  500  600  700  800  900 1000 1100]\n"
     ]
    }
   ],
   "source": [
    "tree_arr = np.linspace(100, 1100, 11)\n",
    "tree_arr = tree_arr.astype('int')\n",
    "print(tree_arr)\n",
    "test_err = []\n",
    "train_err = []\n",
    "for tree in tree_arr:\n",
    "    rf = ensemble.RandomForestClassifier(n_estimators = tree)\n",
    "    rf.fit(X_train, y_train)\n",
    "\n",
    "    y_train_pred = rf.predict(X_train)\n",
    "    y_test_pred = rf.predict(X_test)\n",
    "    train_err.append(np.mean(y_train != y_train_pred))\n",
    "    test_err.append(np.mean(y_test != y_test_pred))"
   ]
  },
  {
   "cell_type": "code",
   "execution_count": 105,
   "metadata": {},
   "outputs": [
    {
     "data": {
      "image/png": "[encoded data removed]",
      "text/plain": [
       "<Figure size 432x288 with 1 Axes>"
      ]
     },
     "metadata": {
      "needs_background": "light"
     },
     "output_type": "display_data"
    }
   ],
   "source": [
    "plt.semilogx(tree_arr, train_err, 'b-o', label = 'train')\n",
    "plt.semilogx(tree_arr, test_err, 'r-o', label = 'test')\n",
    "plt.xlim([np.max(tree_arr), np.min(tree_arr)])\n",
    "plt.title('Error vs. tree')\n",
    "plt.xlabel('tree')\n",
    "plt.ylabel('error')\n",
    "plt.legend()\n",
    "pass"
   ]
  },
  {
   "cell_type": "markdown",
   "metadata": {},
   "source": [
    "# Extremely Randomized Trees"
   ]
  },
  {
   "cell_type": "code",
   "execution_count": 106,
   "metadata": {},
   "outputs": [
    {
     "name": "stdout",
     "output_type": "stream",
     "text": [
      "0.0 0.008992805755395683\n"
     ]
    }
   ],
   "source": [
    "ert = ensemble.ExtraTreesClassifier(n_estimators = 100).fit(X_train, y_train)\n",
    "\n",
    "err_train = np.mean(y_train != ert.predict(X_train))\n",
    "err_test  = np.mean(y_test  != ert.predict(X_test))\n",
    "\n",
    "print(err_train, err_test)"
   ]
  },
  {
   "cell_type": "code",
   "execution_count": 107,
   "metadata": {},
   "outputs": [
    {
     "name": "stdout",
     "output_type": "stream",
     "text": [
      "[ 100  200  300  400  500  600  700  800  900 1000 1100]\n"
     ]
    }
   ],
   "source": [
    "tree_arr_ert = np.linspace(100, 1000, 10)\n",
    "tree_arr_ert = tree_arr.astype('int')\n",
    "print(tree_arr_ert)\n",
    "test_err = []\n",
    "train_err = []\n",
    "for tree in tree_arr_ert:\n",
    "    ert = ensemble.ExtraTreesClassifier(n_estimators = tree)\n",
    "    ert.fit(X_train, y_train)\n",
    "\n",
    "    y_train_pred = rf.predict(X_train)\n",
    "    y_test_pred = rf.predict(X_test)\n",
    "    train_err.append(np.mean(y_train != y_train_pred))\n",
    "    test_err.append(np.mean(y_test != y_test_pred))"
   ]
  },
  {
   "cell_type": "code",
   "execution_count": 108,
   "metadata": {},
   "outputs": [
    {
     "data": {
      "image/png": "[encoded data removed]",
      "text/plain": [
       "<Figure size 432x288 with 1 Axes>"
      ]
     },
     "metadata": {
      "needs_background": "light"
     },
     "output_type": "display_data"
    }
   ],
   "source": [
    "plt.semilogx(tree_arr_ert, train_err, 'b-o', label = 'train')\n",
    "plt.semilogx(tree_arr_ert, test_err, 'r-o', label = 'test')\n",
    "plt.xlim([np.max(tree_arr_ert), np.min(tree_arr_ert)])\n",
    "plt.title('Error vs. tree')\n",
    "plt.xlabel('tree')\n",
    "plt.ylabel('error')\n",
    "plt.legend()\n",
    "pass"
   ]
  },
  {
   "cell_type": "markdown",
   "metadata": {},
   "source": [
    "# AdaBoost"
   ]
  },
  {
   "cell_type": "code",
   "execution_count": 109,
   "metadata": {},
   "outputs": [
    {
     "name": "stdout",
     "output_type": "stream",
     "text": [
      "0.0 0.0\n"
     ]
    }
   ],
   "source": [
    "ada = ensemble.AdaBoostClassifier(n_estimators = 100)\n",
    "ada.fit(X_train, y_train)\n",
    "\n",
    "err_train = np.mean(y_train != ada.predict(X_train))\n",
    "err_test = np.mean(y_test != ada.predict(X_test))\n",
    "\n",
    "print(err_train, err_test)"
   ]
  },
  {
   "cell_type": "code",
   "execution_count": 110,
   "metadata": {},
   "outputs": [
    {
     "name": "stdout",
     "output_type": "stream",
     "text": [
      "[ 100  200  300  400  500  600  700  800  900 1000 1100]\n"
     ]
    }
   ],
   "source": [
    "tree_arr_ada = np.linspace(100, 1000, 10)\n",
    "tree_arr_ada = tree_arr.astype('int')\n",
    "print(tree_arr_ada)\n",
    "test_err = []\n",
    "train_err = []\n",
    "for tree in tree_arr_ada:\n",
    "    ert = ensemble.AdaBoostClassifier(n_estimators = tree)\n",
    "    ert.fit(X_train, y_train)\n",
    "\n",
    "    y_train_pred = rf.predict(X_train)\n",
    "    y_test_pred = rf.predict(X_test)\n",
    "    train_err.append(np.mean(y_train != y_train_pred))\n",
    "    test_err.append(np.mean(y_test != y_test_pred))"
   ]
  },
  {
   "cell_type": "code",
   "execution_count": 111,
   "metadata": {},
   "outputs": [
    {
     "data": {
      "image/png": "[encoded data removed]",
      "text/plain": [
       "<Figure size 432x288 with 1 Axes>"
      ]
     },
     "metadata": {
      "needs_background": "light"
     },
     "output_type": "display_data"
    }
   ],
   "source": [
    "plt.semilogx(tree_arr_ert, train_err, 'b-o', label = 'train')\n",
    "plt.semilogx(tree_arr_ert, test_err, 'r-o', label = 'test')\n",
    "plt.xlim([np.max(tree_arr_ada), np.min(tree_arr_ada)])\n",
    "plt.title('Error vs. tree')\n",
    "plt.xlabel('tree')\n",
    "plt.ylabel('error')\n",
    "plt.legend()\n",
    "pass"
   ]
  },
  {
   "cell_type": "markdown",
   "metadata": {},
   "source": [
    "# GBT"
   ]
  },
  {
   "cell_type": "code",
   "execution_count": 112,
   "metadata": {},
   "outputs": [
    {
     "name": "stdout",
     "output_type": "stream",
     "text": [
      "0.0 0.0\n"
     ]
    }
   ],
   "source": [
    "gbt = ensemble.GradientBoostingClassifier(n_estimators = 100)\n",
    "gbt.fit(X_train, y_train)\n",
    "\n",
    "err_train = np.mean(y_train != gbt.predict(X_train))\n",
    "err_test = np.mean(y_test != gbt.predict(X_test))\n",
    "\n",
    "print(err_train, err_test)"
   ]
  },
  {
   "cell_type": "code",
   "execution_count": 113,
   "metadata": {},
   "outputs": [
    {
     "name": "stdout",
     "output_type": "stream",
     "text": [
      "[ 100  200  300  400  500  600  700  800  900 1000 1100]\n"
     ]
    }
   ],
   "source": [
    "tree_arr_gbt = np.linspace(100, 1000, 10)\n",
    "tree_arr_gbt = tree_arr.astype('int')\n",
    "print(tree_arr_gbt)\n",
    "test_err = []\n",
    "train_err = []\n",
    "for tree in tree_arr_gbt:\n",
    "    ert = ensemble.GradientBoostingClassifier(n_estimators = tree)\n",
    "    ert.fit(X_train, y_train)\n",
    "\n",
    "    y_train_pred = rf.predict(X_train)\n",
    "    y_test_pred = rf.predict(X_test)\n",
    "    train_err.append(np.mean(y_train != y_train_pred))\n",
    "    test_err.append(np.mean(y_test != y_test_pred))"
   ]
  },
  {
   "cell_type": "code",
   "execution_count": 114,
   "metadata": {},
   "outputs": [
    {
     "data": {
      "image/png": "[encoded data removed]",
      "text/plain": [
       "<Figure size 432x288 with 1 Axes>"
      ]
     },
     "metadata": {
      "needs_background": "light"
     },
     "output_type": "display_data"
    }
   ],
   "source": [
    "plt.semilogx(tree_arr_ert, train_err, 'b-o', label = 'train')\n",
    "plt.semilogx(tree_arr_ert, test_err, 'r-o', label = 'test')\n",
    "plt.xlim([np.max(tree_arr_gbt), np.min(tree_arr_gbt)])\n",
    "plt.title('Error vs. tree')\n",
    "plt.xlabel('tree')\n",
    "plt.ylabel('error')\n",
    "plt.legend()\n",
    "pass"
   ]
  },
  {
   "cell_type": "code",
   "execution_count": null,
   "metadata": {},
   "outputs": [],
   "source": []
  }
 ],
 "metadata": {
  "kernelspec": {
   "display_name": "Python 3",
   "language": "python",
   "name": "python3"
  },
  "language_info": {
   "codemirror_mode": {
    "name": "ipython",
    "version": 3
   },
   "file_extension": ".py",
   "mimetype": "text/x-python",
   "name": "python",
   "nbconvert_exporter": "python",
   "pygments_lexer": "ipython3",
   "version": "3.6.3"
  }
 },
 "nbformat": 4,
 "nbformat_minor": 1
}
