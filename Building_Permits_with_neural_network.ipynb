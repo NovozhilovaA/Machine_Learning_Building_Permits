{
 "cells": [
  {
   "cell_type": "markdown",
   "metadata": {},
   "source": [
    "\n",
    "\n",
    "\n",
    "# Анализ списка разрешений на строительство.\n",
    "\n",
    "\n"
   ]
  },
  {
   "cell_type": "code",
   "execution_count": 2,
   "metadata": {},
   "outputs": [],
   "source": [
    "import numpy as np\n",
    "import matplotlib.pyplot as plt\n",
    "import pandas as pd\n",
    "%matplotlib inline"
   ]
  },
  {
   "cell_type": "markdown",
   "metadata": {},
   "source": [
    "**Загружаем данные из файла, взятого с** https://www.kaggle.com/aparnashastry/building-permit-applications-data/version/1 \n",
    "\n",
    "Data set представляет собой набор данных о разрешениях на строительство с 1 января 2013 года по 25 февраля 2018 года. Данные содержат сведения о номерах разрешений, надзорных округах и текущем статусе заявок. \n",
    "\n",
    "Чем интересен этот набор, так это тем, что однозначно не поставить задачу для получения информации, которую нужно извлечь из таблицы. Этот набор полезен, к примеру, для строителей, подрядчиков, агентов по недвижимости, каждый из которых будет искать ответ на свой вопрос из определенных категорий и объема данных. \n",
    "\n",
    "Мне стало интересно узнать из этого набора данных, какова стоимость построек в зависимости от их расположения, применения. \n",
    "\n",
    "\n",
    "\n",
    "\n",
    "\n",
    "\n",
    "\n"
   ]
  },
  {
   "cell_type": "code",
   "execution_count": 217,
   "metadata": {},
   "outputs": [],
   "source": [
    "data = pd.read_csv('c:/Users/Novozhilova Nastya/AnacondaProjects/Machine_learning/Building_Permits.csv', sep = ',', engine = 'python')"
   ]
  },
  {
   "cell_type": "code",
   "execution_count": 218,
   "metadata": {},
   "outputs": [
    {
     "data": {
      "text/plain": [
       "pandas.core.frame.DataFrame"
      ]
     },
     "execution_count": 218,
     "metadata": {},
     "output_type": "execute_result"
    }
   ],
   "source": [
    "type(data)"
   ]
  },
  {
   "cell_type": "markdown",
   "metadata": {},
   "source": [
    "Данных достаточно много, поэтому покажем малую часть.\n",
    "\n",
    "\n",
    "\n",
    "\n",
    "\n",
    "\n"
   ]
  },
  {
   "cell_type": "markdown",
   "metadata": {},
   "source": [
    "Текущее состояние заявки - это и будет наш целевой признак"
   ]
  },
  {
   "cell_type": "code",
   "execution_count": 219,
   "metadata": {},
   "outputs": [
    {
     "data": {
      "text/plain": [
       "complete       97077\n",
       "issued         83559\n",
       "filed          12043\n",
       "withdrawn       1754\n",
       "cancelled       1536\n",
       "expired         1370\n",
       "approved         733\n",
       "reinstated       563\n",
       "suspend          193\n",
       "revoked           50\n",
       "plancheck         16\n",
       "disapproved        2\n",
       "incomplete         2\n",
       "appeal             2\n",
       "Name: Current Status, dtype: int64"
      ]
     },
     "execution_count": 219,
     "metadata": {},
     "output_type": "execute_result"
    }
   ],
   "source": [
    "data['Current Status'].value_counts()"
   ]
  },
  {
   "cell_type": "markdown",
   "metadata": {},
   "source": [
    " - complete - исполнено (дом построен, фасад покрашен, пожарная сигнализация установлена и тд)\n",
    " - issued - разрешение выдано\n",
    " - filed - заявка подана (на рассмотрении)\n",
    " - withdrawm - заявка отозвана (сам заявитель забрал)\n",
    " - canceled - отменена департаментом\n",
    " - expired - истек срок\n",
    " - approved - заявка утверждена\n",
    " - reinstated - восстановлена в правах\n",
    " - suspend - заморожена\n",
    " - revoked - аннулирована \n",
    " - plancheck - проверка плана (плана проведения трубопровода, например)\n",
    " - disapproved - заявка не одобрена\n",
    " - incomplete - проект не завершен\n",
    " - appeal - апелляция/обращение\n",
    " \n",
    " \n",
    " Глубоко вникать в определение этих терминов можно долго (и это, будем честны, требует знаний того, как устроена работа в подобных департаментах). Но видно что они разделены на две основных группы: заявка одобрена и не одобрена.\n",
    " \n",
    " Ну а теперь время узнать, какие свойства можно будет использовать для предсказания судьб будущих заявок (**жирным**  выделены наиболее интересные для изучения, то есть те, что, возможно, будут **сильнее всего влиять на целевой признак**):\n",
    " \n",
    " - Permit Number - номер заявки\n",
    "- Permit Type - тип заявления (в виде числа)\n",
    "- **Permit Type Definition - пояснение предыдущего пунтка (соответствие описаний и чисел, рассмотрим чуть подробнее далее)**\n",
    "- Permit Creation Date - дата, в которую было выдан вердикт\n",
    "- Block - блок (адрес)\n",
    "- Lot - еще одна составляющая адреса\n",
    "- **Street Number - номер улицы**\n",
    "- Street Number Suffix - суффикс номера улицы (есть не у всех)\n",
    "- **Street Name - название улицы**\n",
    "- Street Suffix - суффикс названия улицы\n",
    "- Unit - блок здания (1, 2534, 1432)\n",
    "- Unit Suffix - суффикс блока (A, B, 4C)\n",
    "- **Description - причины подачи заявки, описание деталей (починка крыши, снос стен и тд)**\n",
    "- Current Status - статус заявки на данный момент (подробнее только что познакомились выше)\n",
    "- Current Status Date - день, в который заявка преобрела актуальный статус\n",
    "- **Filed Date - день подачи заявки**\n",
    "- **Issued Date - день публикования заявки (день когда ее рассмотрели)**\n",
    "- Completed Date - день, когда заявка исполнена (стены покрашены, проводка проведена, в общем работа сделана)\n",
    "- **First Construction Document Date - дата, на которую назначено строительство**\n",
    "- **Structural Notification - соблюдение некоторых юридических правил (значение Y - yes или NaN)**\n",
    "- **Number of Existing Stories - кол-во этажей в существующем здании**\n",
    "- **Number of Proposed Stories - кол-во предложенных в заявке этажей**\n",
    "- **Voluntary Soft-Story Retrofit - кол-во этажей, удовлетворяющее сейсмическим условиям**\n",
    "- **Fire Only Permit - предоставление противопожарной защиты (значение Y - yes или NaN)**\n",
    "- Permit Expiration Date - дата истечения срока разрешения на работы\n",
    "- **Estimated Cost - первоначальная оценка стоимости проекта**\n",
    "- **Revised Cost - пересмотренная оценка**\n",
    "- **Existing Use - назначение (использование) здания (гостиница, ресторан, жилой дом и тд)**\n",
    "- **Existing Units - кол-во составных частей объекта (один дом или кооператив из 30 домов, например)**\n",
    "- **Proposed Use - предложенное в заявке использование**\n",
    "- **Proposed Units - предложенное кол-во составных частей объекта**\n",
    "- **Plansets - кол-во планов, показывающих основную задумку проекта**\n",
    "- **TIDF Compliance - соответствие еще одному юридическому условию (значение Y - yes или NaN)**\n",
    "- Existing Construction Type - тип конструкции на момент подачи заявки в виде числа\n",
    "- **Existing Construction Type Description - описание предыдущего пункта (например, кирпич или дерево)**\n",
    "- Proposed Construction Type - предложенный тип конструкции\n",
    "- **Proposed Construction Type Description - описание предыдущего пунтка **\n",
    "- **Site Permit - разрешение на строительную площадку**\n",
    "- Supervisor District - район, к которому принадлежит объект (значение от 1 до 11)\n",
    "- **Neighborhoods - Analysis Boundaries - окрестности, к которым принадлежит объект (например, Linkoln Park, South Beach, Russian Hill...)**\n",
    "- Zipcode - индекс\n",
    "- Location - координаты (широта, долгота)\n",
    "- Record ID - ID записи в базе департамента"
   ]
  },
  {
   "cell_type": "code",
   "execution_count": 220,
   "metadata": {},
   "outputs": [
    {
     "name": "stdout",
     "output_type": "stream",
     "text": [
      "  Permit Number  Permit Type            Permit Type Definition  \\\n",
      "0  201505065519            4                      sign - erect   \n",
      "1  201604195146            4                      sign - erect   \n",
      "2  201605278609            3  additions alterations or repairs   \n",
      "3  201611072166            8            otc alterations permit   \n",
      "4  201611283529            6                       demolitions   \n",
      "5  201706149344            8            otc alterations permit   \n",
      "6  201706300814            8            otc alterations permit   \n",
      "7       M803667            8            otc alterations permit   \n",
      "8       M804227            8            otc alterations permit   \n",
      "9       M804767            8            otc alterations permit   \n",
      "\n",
      "  Permit Creation Date Block  Lot  Street Number Street Number Suffix  \\\n",
      "0           05/06/2015  0326  023            140                  NaN   \n",
      "1           04/19/2016  0306  007            440                  NaN   \n",
      "2           05/27/2016  0595  203           1647                  NaN   \n",
      "3           11/07/2016  0156  011           1230                  NaN   \n",
      "4           11/28/2016  0342  001            950                  NaN   \n",
      "5           06/14/2017  4105  009            800                  NaN   \n",
      "6           06/30/2017  1739  020           1291                  NaN   \n",
      "7           06/30/2017  4789  014           1465                  NaN   \n",
      "8           07/05/2017  1212  054           2094                  NaN   \n",
      "9           07/06/2017  1259  016             89                  NaN   \n",
      "\n",
      "  Street Name Street Suffix      ...        Existing Construction Type  \\\n",
      "0       Ellis            St      ...                               3.0   \n",
      "1       Geary            St      ...                               3.0   \n",
      "2     Pacific            Av      ...                               1.0   \n",
      "3     Pacific            Av      ...                               5.0   \n",
      "4      Market            St      ...                               3.0   \n",
      "5     Indiana            St      ...                               1.0   \n",
      "6        11th            Av      ...                               5.0   \n",
      "7      Revere            Av      ...                               NaN   \n",
      "8        Fell            St      ...                               NaN   \n",
      "9      Alpine            Tr      ...                               NaN   \n",
      "\n",
      "  Existing Construction Type Description Proposed Construction Type  \\\n",
      "0                          constr type 3                        NaN   \n",
      "1                          constr type 3                        NaN   \n",
      "2                          constr type 1                        1.0   \n",
      "3                         wood frame (5)                        5.0   \n",
      "4                          constr type 3                        NaN   \n",
      "5                          constr type 1                        1.0   \n",
      "6                         wood frame (5)                        5.0   \n",
      "7                                    NaN                        NaN   \n",
      "8                                    NaN                        NaN   \n",
      "9                                    NaN                        NaN   \n",
      "\n",
      "  Proposed Construction Type Description Site Permit Supervisor District  \\\n",
      "0                                    NaN         NaN                 3.0   \n",
      "1                                    NaN         NaN                 3.0   \n",
      "2                          constr type 1         NaN                 3.0   \n",
      "3                         wood frame (5)         NaN                 3.0   \n",
      "4                                    NaN         NaN                 6.0   \n",
      "5                          constr type 1         NaN                10.0   \n",
      "6                         wood frame (5)         NaN                 5.0   \n",
      "7                                    NaN         NaN                10.0   \n",
      "8                                    NaN         NaN                 5.0   \n",
      "9                                    NaN         NaN                 8.0   \n",
      "\n",
      "  Neighborhoods - Analysis Boundaries  Zipcode  \\\n",
      "0                          Tenderloin  94102.0   \n",
      "1                          Tenderloin  94102.0   \n",
      "2                        Russian Hill  94109.0   \n",
      "3                            Nob Hill  94109.0   \n",
      "4                          Tenderloin  94102.0   \n",
      "5                        Potrero Hill  94107.0   \n",
      "6                        Inner Sunset  94122.0   \n",
      "7               Bayview Hunters Point  94124.0   \n",
      "8                   Lone Mountain/USF  94117.0   \n",
      "9                      Haight Ashbury  94117.0   \n",
      "\n",
      "                                    Location      Record ID  \n",
      "0  (37.785719256680785, -122.40852313194863)  1380611233945  \n",
      "1   (37.78733980600732, -122.41063199757738)  1420164406718  \n",
      "2    (37.7946573324287, -122.42232562979227)  1424856504716  \n",
      "3   (37.79595867909168, -122.41557405519474)  1443574295566  \n",
      "4   (37.78315261897309, -122.40950883997789)   144548169992  \n",
      "5   (37.75922331346539, -122.39170402628598)  1466911170855  \n",
      "6  (37.764145640138565, -122.46875112470363)  1468970403692  \n",
      "7   (37.73005099023611, -122.38784938916618)  1469035175050  \n",
      "8  (37.772393498502595, -122.45231466824669)  1469198253772  \n",
      "9    (37.7691724293766, -122.43734859051908)   146932394171  \n",
      "\n",
      "[10 rows x 43 columns]\n"
     ]
    }
   ],
   "source": [
    "print(data[:10])"
   ]
  },
  {
   "cell_type": "markdown",
   "metadata": {},
   "source": [
    "Видим,что данные содержат 43 колонки - 43 различных признака. \n",
    "Некоторые признаки не будем принимать во внимание, удалим их из набора.\n",
    "\n",
    "\n",
    "\n",
    "\n",
    "\n",
    "\n"
   ]
  },
  {
   "cell_type": "code",
   "execution_count": 221,
   "metadata": {},
   "outputs": [],
   "source": [
    "data = data.drop(['Permit Number', 'Permit Type', 'Permit Creation Date',  'Block', 'Lot', 'Street Number Suffix', 'Street Suffix', 'Unit', 'Unit Suffix' , 'Current Status Date', 'Completed Date','Permit Expiration Date', 'Existing Construction Type', 'Proposed Construction Type', 'Proposed Construction Type Description', 'Supervisor District', 'Zipcode', 'Location', 'Record ID'],axis = 1)"
   ]
  },
  {
   "cell_type": "markdown",
   "metadata": {},
   "source": [
    "Вновь отобразим данные, теперь с меньшим количеством признаков.\n",
    "\n",
    "\n",
    "\n",
    "\n",
    "\n",
    "\n"
   ]
  },
  {
   "cell_type": "code",
   "execution_count": 222,
   "metadata": {},
   "outputs": [
    {
     "data": {
      "text/html": [
       "<div>\n",
       "<style scoped>\n",
       "    .dataframe tbody tr th:only-of-type {\n",
       "        vertical-align: middle;\n",
       "    }\n",
       "\n",
       "    .dataframe tbody tr th {\n",
       "        vertical-align: top;\n",
       "    }\n",
       "\n",
       "    .dataframe thead th {\n",
       "        text-align: right;\n",
       "    }\n",
       "</style>\n",
       "<table border=\"1\" class=\"dataframe\">\n",
       "  <thead>\n",
       "    <tr style=\"text-align: right;\">\n",
       "      <th></th>\n",
       "      <th>Permit Type Definition</th>\n",
       "      <th>Street Number</th>\n",
       "      <th>Street Name</th>\n",
       "      <th>Description</th>\n",
       "      <th>Current Status</th>\n",
       "      <th>Filed Date</th>\n",
       "      <th>Issued Date</th>\n",
       "      <th>First Construction Document Date</th>\n",
       "      <th>Structural Notification</th>\n",
       "      <th>Number of Existing Stories</th>\n",
       "      <th>...</th>\n",
       "      <th>Revised Cost</th>\n",
       "      <th>Existing Use</th>\n",
       "      <th>Existing Units</th>\n",
       "      <th>Proposed Use</th>\n",
       "      <th>Proposed Units</th>\n",
       "      <th>Plansets</th>\n",
       "      <th>TIDF Compliance</th>\n",
       "      <th>Existing Construction Type Description</th>\n",
       "      <th>Site Permit</th>\n",
       "      <th>Neighborhoods - Analysis Boundaries</th>\n",
       "    </tr>\n",
       "  </thead>\n",
       "  <tbody>\n",
       "    <tr>\n",
       "      <th>0</th>\n",
       "      <td>sign - erect</td>\n",
       "      <td>140</td>\n",
       "      <td>Ellis</td>\n",
       "      <td>ground fl facade: to erect illuminated, electr...</td>\n",
       "      <td>expired</td>\n",
       "      <td>05/06/2015</td>\n",
       "      <td>11/09/2015</td>\n",
       "      <td>11/09/2015</td>\n",
       "      <td>NaN</td>\n",
       "      <td>6.0</td>\n",
       "      <td>...</td>\n",
       "      <td>4000.0</td>\n",
       "      <td>tourist hotel/motel</td>\n",
       "      <td>143.0</td>\n",
       "      <td>NaN</td>\n",
       "      <td>NaN</td>\n",
       "      <td>2.0</td>\n",
       "      <td>NaN</td>\n",
       "      <td>constr type 3</td>\n",
       "      <td>NaN</td>\n",
       "      <td>Tenderloin</td>\n",
       "    </tr>\n",
       "    <tr>\n",
       "      <th>1</th>\n",
       "      <td>sign - erect</td>\n",
       "      <td>440</td>\n",
       "      <td>Geary</td>\n",
       "      <td>remove (e) awning and associated signs.</td>\n",
       "      <td>issued</td>\n",
       "      <td>04/19/2016</td>\n",
       "      <td>08/03/2017</td>\n",
       "      <td>08/03/2017</td>\n",
       "      <td>NaN</td>\n",
       "      <td>7.0</td>\n",
       "      <td>...</td>\n",
       "      <td>500.0</td>\n",
       "      <td>tourist hotel/motel</td>\n",
       "      <td>NaN</td>\n",
       "      <td>NaN</td>\n",
       "      <td>NaN</td>\n",
       "      <td>2.0</td>\n",
       "      <td>NaN</td>\n",
       "      <td>constr type 3</td>\n",
       "      <td>NaN</td>\n",
       "      <td>Tenderloin</td>\n",
       "    </tr>\n",
       "    <tr>\n",
       "      <th>2</th>\n",
       "      <td>additions alterations or repairs</td>\n",
       "      <td>1647</td>\n",
       "      <td>Pacific</td>\n",
       "      <td>installation of separating wall</td>\n",
       "      <td>withdrawn</td>\n",
       "      <td>05/27/2016</td>\n",
       "      <td>NaN</td>\n",
       "      <td>NaN</td>\n",
       "      <td>NaN</td>\n",
       "      <td>6.0</td>\n",
       "      <td>...</td>\n",
       "      <td>NaN</td>\n",
       "      <td>retail sales</td>\n",
       "      <td>39.0</td>\n",
       "      <td>retail sales</td>\n",
       "      <td>39.0</td>\n",
       "      <td>2.0</td>\n",
       "      <td>NaN</td>\n",
       "      <td>constr type 1</td>\n",
       "      <td>NaN</td>\n",
       "      <td>Russian Hill</td>\n",
       "    </tr>\n",
       "    <tr>\n",
       "      <th>3</th>\n",
       "      <td>otc alterations permit</td>\n",
       "      <td>1230</td>\n",
       "      <td>Pacific</td>\n",
       "      <td>repair dryrot &amp; stucco at front of bldg.</td>\n",
       "      <td>complete</td>\n",
       "      <td>11/07/2016</td>\n",
       "      <td>07/18/2017</td>\n",
       "      <td>07/18/2017</td>\n",
       "      <td>NaN</td>\n",
       "      <td>2.0</td>\n",
       "      <td>...</td>\n",
       "      <td>2000.0</td>\n",
       "      <td>1 family dwelling</td>\n",
       "      <td>1.0</td>\n",
       "      <td>1 family dwelling</td>\n",
       "      <td>1.0</td>\n",
       "      <td>2.0</td>\n",
       "      <td>NaN</td>\n",
       "      <td>wood frame (5)</td>\n",
       "      <td>NaN</td>\n",
       "      <td>Nob Hill</td>\n",
       "    </tr>\n",
       "    <tr>\n",
       "      <th>4</th>\n",
       "      <td>demolitions</td>\n",
       "      <td>950</td>\n",
       "      <td>Market</td>\n",
       "      <td>demolish retail/office/commercial 3-story buil...</td>\n",
       "      <td>issued</td>\n",
       "      <td>11/28/2016</td>\n",
       "      <td>12/01/2017</td>\n",
       "      <td>11/20/2017</td>\n",
       "      <td>NaN</td>\n",
       "      <td>3.0</td>\n",
       "      <td>...</td>\n",
       "      <td>100000.0</td>\n",
       "      <td>retail sales</td>\n",
       "      <td>NaN</td>\n",
       "      <td>NaN</td>\n",
       "      <td>NaN</td>\n",
       "      <td>2.0</td>\n",
       "      <td>NaN</td>\n",
       "      <td>constr type 3</td>\n",
       "      <td>NaN</td>\n",
       "      <td>Tenderloin</td>\n",
       "    </tr>\n",
       "  </tbody>\n",
       "</table>\n",
       "<p>5 rows × 24 columns</p>\n",
       "</div>"
      ],
      "text/plain": [
       "             Permit Type Definition  Street Number Street Name  \\\n",
       "0                      sign - erect            140       Ellis   \n",
       "1                      sign - erect            440       Geary   \n",
       "2  additions alterations or repairs           1647     Pacific   \n",
       "3            otc alterations permit           1230     Pacific   \n",
       "4                       demolitions            950      Market   \n",
       "\n",
       "                                         Description Current Status  \\\n",
       "0  ground fl facade: to erect illuminated, electr...        expired   \n",
       "1            remove (e) awning and associated signs.         issued   \n",
       "2                    installation of separating wall      withdrawn   \n",
       "3           repair dryrot & stucco at front of bldg.       complete   \n",
       "4  demolish retail/office/commercial 3-story buil...         issued   \n",
       "\n",
       "   Filed Date Issued Date First Construction Document Date  \\\n",
       "0  05/06/2015  11/09/2015                       11/09/2015   \n",
       "1  04/19/2016  08/03/2017                       08/03/2017   \n",
       "2  05/27/2016         NaN                              NaN   \n",
       "3  11/07/2016  07/18/2017                       07/18/2017   \n",
       "4  11/28/2016  12/01/2017                       11/20/2017   \n",
       "\n",
       "  Structural Notification  Number of Existing Stories  \\\n",
       "0                     NaN                         6.0   \n",
       "1                     NaN                         7.0   \n",
       "2                     NaN                         6.0   \n",
       "3                     NaN                         2.0   \n",
       "4                     NaN                         3.0   \n",
       "\n",
       "                  ...                   Revised Cost         Existing Use  \\\n",
       "0                 ...                         4000.0  tourist hotel/motel   \n",
       "1                 ...                          500.0  tourist hotel/motel   \n",
       "2                 ...                            NaN         retail sales   \n",
       "3                 ...                         2000.0    1 family dwelling   \n",
       "4                 ...                       100000.0         retail sales   \n",
       "\n",
       "  Existing Units       Proposed Use  Proposed Units Plansets  TIDF Compliance  \\\n",
       "0          143.0                NaN             NaN      2.0              NaN   \n",
       "1            NaN                NaN             NaN      2.0              NaN   \n",
       "2           39.0       retail sales            39.0      2.0              NaN   \n",
       "3            1.0  1 family dwelling             1.0      2.0              NaN   \n",
       "4            NaN                NaN             NaN      2.0              NaN   \n",
       "\n",
       "  Existing Construction Type Description  Site Permit  \\\n",
       "0                          constr type 3          NaN   \n",
       "1                          constr type 3          NaN   \n",
       "2                          constr type 1          NaN   \n",
       "3                         wood frame (5)          NaN   \n",
       "4                          constr type 3          NaN   \n",
       "\n",
       "   Neighborhoods - Analysis Boundaries  \n",
       "0                           Tenderloin  \n",
       "1                           Tenderloin  \n",
       "2                         Russian Hill  \n",
       "3                             Nob Hill  \n",
       "4                           Tenderloin  \n",
       "\n",
       "[5 rows x 24 columns]"
      ]
     },
     "execution_count": 222,
     "metadata": {},
     "output_type": "execute_result"
    }
   ],
   "source": [
    "data.head()"
   ]
  },
  {
   "cell_type": "code",
   "execution_count": 223,
   "metadata": {},
   "outputs": [
    {
     "name": "stdout",
     "output_type": "stream",
     "text": [
      "(198900, 24)\n",
      "Index(['Permit Type Definition', 'Street Number', 'Street Name', 'Description',\n",
      "       'Current Status', 'Filed Date', 'Issued Date',\n",
      "       'First Construction Document Date', 'Structural Notification',\n",
      "       'Number of Existing Stories', 'Number of Proposed Stories',\n",
      "       'Voluntary Soft-Story Retrofit', 'Fire Only Permit', 'Estimated Cost',\n",
      "       'Revised Cost', 'Existing Use', 'Existing Units', 'Proposed Use',\n",
      "       'Proposed Units', 'Plansets', 'TIDF Compliance',\n",
      "       'Existing Construction Type Description', 'Site Permit',\n",
      "       'Neighborhoods - Analysis Boundaries'],\n",
      "      dtype='object')\n"
     ]
    }
   ],
   "source": [
    "print(data.shape)\n",
    "print(data.columns)"
   ]
  },
  {
   "cell_type": "code",
   "execution_count": 224,
   "metadata": {},
   "outputs": [
    {
     "data": {
      "text/plain": [
       "RangeIndex(start=0, stop=198900, step=1)"
      ]
     },
     "execution_count": 224,
     "metadata": {},
     "output_type": "execute_result"
    }
   ],
   "source": [
    "data.index"
   ]
  },
  {
   "cell_type": "code",
   "execution_count": 226,
   "metadata": {},
   "outputs": [
    {
     "data": {
      "text/plain": [
       "str"
      ]
     },
     "execution_count": 226,
     "metadata": {},
     "output_type": "execute_result"
    }
   ],
   "source": [
    "type(data['Street Name'][3])"
   ]
  },
  {
   "cell_type": "code",
   "execution_count": 225,
   "metadata": {},
   "outputs": [
    {
     "data": {
      "text/plain": [
       "8"
      ]
     },
     "execution_count": 225,
     "metadata": {},
     "output_type": "execute_result"
    }
   ],
   "source": [
    "len(data['Permit Type Definition'].unique())"
   ]
  },
  {
   "cell_type": "code",
   "execution_count": 227,
   "metadata": {},
   "outputs": [
    {
     "data": {
      "text/plain": [
       "array(['Tenderloin', 'Russian Hill', 'Nob Hill', 'Potrero Hill',\n",
       "       'Inner Sunset', 'Bayview Hunters Point', 'Lone Mountain/USF',\n",
       "       'Haight Ashbury', 'Castro/Upper Market', 'Hayes Valley',\n",
       "       'Noe Valley', 'Pacific Heights', 'Chinatown',\n",
       "       'Financial District/South Beach', 'Marina', 'Mission',\n",
       "       'Sunset/Parkside', 'Outer Richmond', 'Western Addition',\n",
       "       'Bernal Heights', 'Inner Richmond', 'Oceanview/Merced/Ingleside',\n",
       "       'Outer Mission', 'Portola', 'Mission Bay', 'Visitacion Valley',\n",
       "       'Presidio Heights', 'West of Twin Peaks', 'South of Market',\n",
       "       'Excelsior', 'North Beach', 'Glen Park', 'Treasure Island',\n",
       "       'Twin Peaks', 'Lincoln Park', nan, 'Japantown', 'Lakeshore',\n",
       "       'Seacliff', 'Golden Gate Park', 'Presidio', 'McLaren Park'],\n",
       "      dtype=object)"
      ]
     },
     "execution_count": 227,
     "metadata": {},
     "output_type": "execute_result"
    }
   ],
   "source": [
    "data['Neighborhoods - Analysis Boundaries'].unique()"
   ]
  },
  {
   "cell_type": "code",
   "execution_count": 228,
   "metadata": {},
   "outputs": [],
   "source": [
    "data = data.drop(['Street Name', 'Description', 'Filed Date', 'First Construction Document Date', 'Voluntary Soft-Story Retrofit', 'Existing Use', 'Proposed Use', 'Plansets', 'Neighborhoods - Analysis Boundaries'  ],axis = 1)"
   ]
  },
  {
   "cell_type": "code",
   "execution_count": 229,
   "metadata": {},
   "outputs": [
    {
     "data": {
      "text/plain": [
       "Permit Type Definition                     object\n",
       "Street Number                               int64\n",
       "Current Status                             object\n",
       "Issued Date                                object\n",
       "Structural Notification                    object\n",
       "Number of Existing Stories                float64\n",
       "Number of Proposed Stories                float64\n",
       "Fire Only Permit                           object\n",
       "Estimated Cost                            float64\n",
       "Revised Cost                              float64\n",
       "Existing Units                            float64\n",
       "Proposed Units                            float64\n",
       "TIDF Compliance                            object\n",
       "Existing Construction Type Description     object\n",
       "Site Permit                                object\n",
       "dtype: object"
      ]
     },
     "execution_count": 229,
     "metadata": {},
     "output_type": "execute_result"
    }
   ],
   "source": [
    "data.dtypes"
   ]
  },
  {
   "cell_type": "markdown",
   "metadata": {},
   "source": [
    "Сократили датасет до некоторых важных признаков, с которыми будем работать. Начнем с `Current Status`. \n",
    "\n",
    "Заявки, которые на момент работы с данными находятся в обработке, ничем не помогут нашей модели, которая будет определять: разрешать ли стройку или нет. Также, например, если заявитель отозвал свою заявку, то никакой информации о решении департамента мы не имеем. Следовательно, подобные записи можно удалить (помечены ниже красным). \n",
    "\n",
    " - complete - исполнено (дом построен, фасад покрашен, пожарная сигнализация установлена и тд)\n",
    " - issued - разрешение выдано\n",
    " - <font color='red'>filed - заявка подана </font> <font color='blue'> *(т.к. на рассмотрении)*</font>\n",
    " - <font color='red'>withdrawm - заявка отозвана </font> <font color='blue'> *(сам заявитель забрал)*</font>\n",
    " - canceled - отменена департаментом\n",
    " - <font color='red'>expired - истек срок </font> <font color='blue'> *(департамент не успел принять решение)*</font> \n",
    " - approved - заявка утверждена\n",
    " - reinstated - восстановлена в правах\n",
    " - suspend - заморожена\n",
    " - revoked - аннулирована \n",
    " - <font color='red'>plancheck - проверка плана (плана проведения трубопровода, например) </font> <font color='blue'> *(решение еще не принято)*</font> \n",
    " - <font color='red'>disapproved - заявка не одобрена</font> <font color='blue'> *(заявка неправильно оформлена)*</font> \n",
    " - incomplete - проект не завершен <font color='green'> (но, зато, одобрен)</font>\n",
    " - <font color='red'>appeal - апелляция/обращение </font> <font color='blue'> *(в принципе не имеет отношения к задаче)*</font> \n"
   ]
  },
  {
   "cell_type": "code",
   "execution_count": 230,
   "metadata": {},
   "outputs": [
    {
     "data": {
      "text/plain": [
       "array(['expired', 'issued', 'withdrawn', 'complete', 'filed', 'approved',\n",
       "       'reinstated', 'cancelled', 'appeal', 'suspend', 'revoked',\n",
       "       'plancheck', 'disapproved', 'incomplete'], dtype=object)"
      ]
     },
     "execution_count": 230,
     "metadata": {},
     "output_type": "execute_result"
    }
   ],
   "source": [
    "data['Current Status'].unique()"
   ]
  },
  {
   "cell_type": "code",
   "execution_count": 231,
   "metadata": {},
   "outputs": [],
   "source": [
    "data = data[(data['Current Status'] != 'filed') &\n",
    "       (data['Current Status'] != 'withdrawn') &\n",
    "       (data['Current Status'] != 'expired') &\n",
    "       (data['Current Status'] != 'plancheck') &\n",
    "       (data['Current Status'] != 'disapproved') &\n",
    "       (data['Current Status'] != 'appeal') ]"
   ]
  },
  {
   "cell_type": "code",
   "execution_count": 234,
   "metadata": {},
   "outputs": [
    {
     "data": {
      "text/plain": [
       "(183713, 15)"
      ]
     },
     "execution_count": 234,
     "metadata": {},
     "output_type": "execute_result"
    }
   ],
   "source": [
    "data.shape"
   ]
  },
  {
   "cell_type": "markdown",
   "metadata": {},
   "source": [
    "Посмотрим на процентное соотношение классов между собой:"
   ]
  },
  {
   "cell_type": "code",
   "execution_count": 233,
   "metadata": {},
   "outputs": [
    {
     "data": {
      "text/plain": [
       "1    99.031642\n",
       "0     0.968358\n",
       "Name: Current Status, dtype: float64"
      ]
     },
     "execution_count": 233,
     "metadata": {},
     "output_type": "execute_result"
    }
   ],
   "source": [
    "data['Current Status'].value_counts()/data.shape[0]*100 "
   ]
  },
  {
   "cell_type": "markdown",
   "metadata": {},
   "source": [
    "Так как мы поставили перед собой задачу создать модель, которая принимает решение о выдаче разрешения на строительные работы, то **отобразим множество упомянутых выше классов на множество {0, 1}** где 0 - отказать в запросе, 1 - одобрить проект.\n",
    "<br>\n",
    "Определим следующие классы как отказ в выдаче разрешения: <font color='red'>cancelled, suspend, revoked.</font>\n",
    "<br>\n",
    "Определим следующие классы как одобрение проекта: <font color='green'>complete, issued, approved, reinstated, incomplete.</font>"
   ]
  },
  {
   "cell_type": "code",
   "execution_count": 232,
   "metadata": {},
   "outputs": [],
   "source": [
    "data['Current Status'] = data['Current Status'].map({'cancelled': 0, 'suspend': 0, 'revoked': 0,\n",
    "                                                 'complete': 1, 'issued': 1, 'approved': 1, \n",
    "                                                 'reinstated': 1, 'incomplete': 1})"
   ]
  },
  {
   "cell_type": "code",
   "execution_count": 237,
   "metadata": {},
   "outputs": [],
   "source": [
    "data['Current Status'] = data['Current Status'].astype('int64')"
   ]
  },
  {
   "cell_type": "code",
   "execution_count": 239,
   "metadata": {},
   "outputs": [
    {
     "name": "stdout",
     "output_type": "stream",
     "text": [
      "Распределение классов в процентах:\n"
     ]
    },
    {
     "data": {
      "text/plain": [
       "1    99.031642\n",
       "0     0.968358\n",
       "Name: Current Status, dtype: float64"
      ]
     },
     "execution_count": 239,
     "metadata": {},
     "output_type": "execute_result"
    }
   ],
   "source": [
    "print('Распределение классов в процентах:')\n",
    "data['Current Status'].value_counts() /data.shape[0] * 100"
   ]
  },
  {
   "cell_type": "markdown",
   "metadata": {},
   "source": [
    "Видно, что распределение классов крайне не равномерное. В дальнейшем будет учтено."
   ]
  },
  {
   "cell_type": "code",
   "execution_count": 236,
   "metadata": {},
   "outputs": [
    {
     "data": {
      "text/plain": [
       "array([6, 8, 4, 7, 3, 1, 2, 5], dtype=int64)"
      ]
     },
     "execution_count": 236,
     "metadata": {},
     "output_type": "execute_result"
    }
   ],
   "source": [
    "data['Permit Type Definition'].unique()"
   ]
  },
  {
   "cell_type": "code",
   "execution_count": 238,
   "metadata": {},
   "outputs": [
    {
     "data": {
      "text/plain": [
       "8    169284\n",
       "7     10241\n",
       "6      2474\n",
       "5       631\n",
       "4       422\n",
       "3       383\n",
       "2       194\n",
       "1        84\n",
       "Name: Permit Type Definition, dtype: int64"
      ]
     },
     "execution_count": 238,
     "metadata": {},
     "output_type": "execute_result"
    }
   ],
   "source": [
    "data['Permit Type Definition'].value_counts() "
   ]
  },
  {
   "cell_type": "markdown",
   "metadata": {},
   "source": [
    "- otc alterations permit - *other-the-counter*, то есть внебиржевый, частный запрос (дядя Antony захотел провести электричество)\n",
    "- additions alterations or repairs - дополнения или ремонт\n",
    "- sign - erect - возведение постройки\n",
    "- new construction wood frame - новая конструкция с деревянной рамой (буду честен, что именно это значит - загадка. Перевел и понял как смог)\n",
    "- demolitions - снос\n",
    "- wall or painted sign - изменение внешнего вида стен (реклама, покраска фасада)\n",
    "- new construction - новое строительство\n",
    "- grade or quarry or fill or excavate - другое (оценка, копка карьера с целью добычи, насыпь/заполнение ямы, создание ямы)"
   ]
  },
  {
   "cell_type": "code",
   "execution_count": 235,
   "metadata": {},
   "outputs": [
    {
     "data": {
      "text/plain": [
       "array([6, 8, 4, 7, 3, 1, 2, 5], dtype=int64)"
      ]
     },
     "execution_count": 235,
     "metadata": {},
     "output_type": "execute_result"
    }
   ],
   "source": [
    "data['Permit Type Definition'] = data['Permit Type Definition'].map({'grade or quarry or fill or excavate': 1, 'new construction': 2, 'wall or painted sign': 3, 'demolitions': 4, 'new construction wood frame': 5, 'sign - erect': 6, 'additions alterations or repairs': 7, 'otc alterations permit': 8})\n",
    "data['Permit Type Definition'] = data['Permit Type Definition'].fillna(0)\n",
    "data['Permit Type Definition'].unique()"
   ]
  },
  {
   "cell_type": "markdown",
   "metadata": {},
   "source": [
    "Следующий обрабатываемый признаки: `Issued Date`. Выделим год и месяц из этого признака как характеризующие признака."
   ]
  },
  {
   "cell_type": "code",
   "execution_count": 240,
   "metadata": {},
   "outputs": [],
   "source": [
    "date = pd.to_datetime(data['Issued Date'])"
   ]
  },
  {
   "cell_type": "code",
   "execution_count": 241,
   "metadata": {},
   "outputs": [],
   "source": [
    "year = date.dt.year\n",
    "month = date.dt.month"
   ]
  },
  {
   "cell_type": "markdown",
   "metadata": {},
   "source": [
    "Убираем столбец `Issued Date`, вместо него добавляем два новых `year`, `month`."
   ]
  },
  {
   "cell_type": "code",
   "execution_count": 242,
   "metadata": {},
   "outputs": [],
   "source": [
    "data = data.drop('Issued Date', axis = 1)\n",
    "data['year'] = year\n",
    "data['month'] = month\n",
    "data['year'] = data['year'].fillna(data['year'].max())\n",
    "data['month'] = data['month'].fillna(data['month'].max())"
   ]
  },
  {
   "cell_type": "code",
   "execution_count": 243,
   "metadata": {},
   "outputs": [
    {
     "data": {
      "text/plain": [
       "array([2017., 2018., 2015., 2014., 2016., 2013.])"
      ]
     },
     "execution_count": 243,
     "metadata": {},
     "output_type": "execute_result"
    }
   ],
   "source": [
    "data['year'].unique()"
   ]
  },
  {
   "cell_type": "code",
   "execution_count": 245,
   "metadata": {},
   "outputs": [
    {
     "data": {
      "text/html": [
       "<div>\n",
       "<style scoped>\n",
       "    .dataframe tbody tr th:only-of-type {\n",
       "        vertical-align: middle;\n",
       "    }\n",
       "\n",
       "    .dataframe tbody tr th {\n",
       "        vertical-align: top;\n",
       "    }\n",
       "\n",
       "    .dataframe thead th {\n",
       "        text-align: right;\n",
       "    }\n",
       "</style>\n",
       "<table border=\"1\" class=\"dataframe\">\n",
       "  <thead>\n",
       "    <tr style=\"text-align: right;\">\n",
       "      <th></th>\n",
       "      <th>Permit Type Definition</th>\n",
       "      <th>Street Number</th>\n",
       "      <th>Current Status</th>\n",
       "      <th>Structural Notification</th>\n",
       "      <th>Number of Existing Stories</th>\n",
       "      <th>Number of Proposed Stories</th>\n",
       "      <th>Fire Only Permit</th>\n",
       "      <th>Estimated Cost</th>\n",
       "      <th>Revised Cost</th>\n",
       "      <th>Existing Units</th>\n",
       "      <th>Proposed Units</th>\n",
       "      <th>TIDF Compliance</th>\n",
       "      <th>Existing Construction Type Description</th>\n",
       "      <th>Site Permit</th>\n",
       "      <th>year</th>\n",
       "      <th>month</th>\n",
       "    </tr>\n",
       "  </thead>\n",
       "  <tbody>\n",
       "    <tr>\n",
       "      <th>1</th>\n",
       "      <td>6</td>\n",
       "      <td>440</td>\n",
       "      <td>1</td>\n",
       "      <td>NaN</td>\n",
       "      <td>7.0</td>\n",
       "      <td>NaN</td>\n",
       "      <td>NaN</td>\n",
       "      <td>1.0</td>\n",
       "      <td>500.0</td>\n",
       "      <td>NaN</td>\n",
       "      <td>NaN</td>\n",
       "      <td>NaN</td>\n",
       "      <td>constr type 3</td>\n",
       "      <td>NaN</td>\n",
       "      <td>2017.0</td>\n",
       "      <td>8.0</td>\n",
       "    </tr>\n",
       "    <tr>\n",
       "      <th>3</th>\n",
       "      <td>8</td>\n",
       "      <td>1230</td>\n",
       "      <td>1</td>\n",
       "      <td>NaN</td>\n",
       "      <td>2.0</td>\n",
       "      <td>2.0</td>\n",
       "      <td>NaN</td>\n",
       "      <td>2000.0</td>\n",
       "      <td>2000.0</td>\n",
       "      <td>1.0</td>\n",
       "      <td>1.0</td>\n",
       "      <td>NaN</td>\n",
       "      <td>wood frame (5)</td>\n",
       "      <td>NaN</td>\n",
       "      <td>2017.0</td>\n",
       "      <td>7.0</td>\n",
       "    </tr>\n",
       "    <tr>\n",
       "      <th>4</th>\n",
       "      <td>4</td>\n",
       "      <td>950</td>\n",
       "      <td>1</td>\n",
       "      <td>NaN</td>\n",
       "      <td>3.0</td>\n",
       "      <td>NaN</td>\n",
       "      <td>NaN</td>\n",
       "      <td>100000.0</td>\n",
       "      <td>100000.0</td>\n",
       "      <td>NaN</td>\n",
       "      <td>NaN</td>\n",
       "      <td>NaN</td>\n",
       "      <td>constr type 3</td>\n",
       "      <td>NaN</td>\n",
       "      <td>2017.0</td>\n",
       "      <td>12.0</td>\n",
       "    </tr>\n",
       "    <tr>\n",
       "      <th>5</th>\n",
       "      <td>8</td>\n",
       "      <td>800</td>\n",
       "      <td>1</td>\n",
       "      <td>NaN</td>\n",
       "      <td>5.0</td>\n",
       "      <td>5.0</td>\n",
       "      <td>Y</td>\n",
       "      <td>4000.0</td>\n",
       "      <td>4000.0</td>\n",
       "      <td>326.0</td>\n",
       "      <td>326.0</td>\n",
       "      <td>NaN</td>\n",
       "      <td>constr type 1</td>\n",
       "      <td>NaN</td>\n",
       "      <td>2017.0</td>\n",
       "      <td>7.0</td>\n",
       "    </tr>\n",
       "    <tr>\n",
       "      <th>6</th>\n",
       "      <td>8</td>\n",
       "      <td>1291</td>\n",
       "      <td>1</td>\n",
       "      <td>NaN</td>\n",
       "      <td>3.0</td>\n",
       "      <td>3.0</td>\n",
       "      <td>NaN</td>\n",
       "      <td>12000.0</td>\n",
       "      <td>12000.0</td>\n",
       "      <td>5.0</td>\n",
       "      <td>5.0</td>\n",
       "      <td>NaN</td>\n",
       "      <td>wood frame (5)</td>\n",
       "      <td>NaN</td>\n",
       "      <td>2017.0</td>\n",
       "      <td>6.0</td>\n",
       "    </tr>\n",
       "  </tbody>\n",
       "</table>\n",
       "</div>"
      ],
      "text/plain": [
       "   Permit Type Definition  Street Number  Current Status  \\\n",
       "1                       6            440               1   \n",
       "3                       8           1230               1   \n",
       "4                       4            950               1   \n",
       "5                       8            800               1   \n",
       "6                       8           1291               1   \n",
       "\n",
       "  Structural Notification  Number of Existing Stories  \\\n",
       "1                     NaN                         7.0   \n",
       "3                     NaN                         2.0   \n",
       "4                     NaN                         3.0   \n",
       "5                     NaN                         5.0   \n",
       "6                     NaN                         3.0   \n",
       "\n",
       "   Number of Proposed Stories Fire Only Permit  Estimated Cost  Revised Cost  \\\n",
       "1                         NaN              NaN             1.0         500.0   \n",
       "3                         2.0              NaN          2000.0        2000.0   \n",
       "4                         NaN              NaN        100000.0      100000.0   \n",
       "5                         5.0                Y          4000.0        4000.0   \n",
       "6                         3.0              NaN         12000.0       12000.0   \n",
       "\n",
       "   Existing Units  Proposed Units TIDF Compliance  \\\n",
       "1             NaN             NaN             NaN   \n",
       "3             1.0             1.0             NaN   \n",
       "4             NaN             NaN             NaN   \n",
       "5           326.0           326.0             NaN   \n",
       "6             5.0             5.0             NaN   \n",
       "\n",
       "  Existing Construction Type Description Site Permit    year  month  \n",
       "1                          constr type 3         NaN  2017.0    8.0  \n",
       "3                         wood frame (5)         NaN  2017.0    7.0  \n",
       "4                          constr type 3         NaN  2017.0   12.0  \n",
       "5                          constr type 1         NaN  2017.0    7.0  \n",
       "6                         wood frame (5)         NaN  2017.0    6.0  "
      ]
     },
     "execution_count": 245,
     "metadata": {},
     "output_type": "execute_result"
    }
   ],
   "source": [
    "data.head()"
   ]
  },
  {
   "cell_type": "code",
   "execution_count": 244,
   "metadata": {},
   "outputs": [
    {
     "data": {
      "text/plain": [
       "array([nan, 'Y'], dtype=object)"
      ]
     },
     "execution_count": 244,
     "metadata": {},
     "output_type": "execute_result"
    }
   ],
   "source": [
    "data['Structural Notification'].unique()"
   ]
  },
  {
   "cell_type": "code",
   "execution_count": 249,
   "metadata": {},
   "outputs": [
    {
     "data": {
      "text/plain": [
       "array([0., 1.])"
      ]
     },
     "execution_count": 249,
     "metadata": {},
     "output_type": "execute_result"
    }
   ],
   "source": [
    "data['Structural Notification'] = data['Structural Notification'].map({'Y': 1})\n",
    "data['Structural Notification'] = data['Structural Notification'].fillna(0)\n",
    "data['Structural Notification'].unique()"
   ]
  },
  {
   "cell_type": "code",
   "execution_count": 248,
   "metadata": {},
   "outputs": [
    {
     "data": {
      "text/plain": [
       "array([0., 1.])"
      ]
     },
     "execution_count": 248,
     "metadata": {},
     "output_type": "execute_result"
    }
   ],
   "source": [
    "data['Fire Only Permit'] = data['Fire Only Permit'].map({'Y': 1})\n",
    "data['Fire Only Permit'] = data['Fire Only Permit'].fillna(0)\n",
    "data['Fire Only Permit'].unique()"
   ]
  },
  {
   "cell_type": "code",
   "execution_count": 247,
   "metadata": {},
   "outputs": [
    {
     "data": {
      "text/plain": [
       "array([0., 1.])"
      ]
     },
     "execution_count": 247,
     "metadata": {},
     "output_type": "execute_result"
    }
   ],
   "source": [
    "data['TIDF Compliance'].unique()"
   ]
  },
  {
   "cell_type": "code",
   "execution_count": 246,
   "metadata": {},
   "outputs": [
    {
     "data": {
      "text/plain": [
       "array([0., 1.])"
      ]
     },
     "execution_count": 246,
     "metadata": {},
     "output_type": "execute_result"
    }
   ],
   "source": [
    "data['TIDF Compliance'] = data['TIDF Compliance'].map({'Y': 1, 'P': 0})\n",
    "data['TIDF Compliance'] = data['TIDF Compliance'].fillna(0)\n",
    "data['TIDF Compliance'].unique()"
   ]
  },
  {
   "cell_type": "code",
   "execution_count": 250,
   "metadata": {},
   "outputs": [
    {
     "data": {
      "text/plain": [
       "array(['constr type 3', 'wood frame (5)', 'constr type 1', nan,\n",
       "       'constr type 4', 'constr type 2'], dtype=object)"
      ]
     },
     "execution_count": 250,
     "metadata": {},
     "output_type": "execute_result"
    }
   ],
   "source": [
    "data['Existing Construction Type Description'].unique()"
   ]
  },
  {
   "cell_type": "code",
   "execution_count": 251,
   "metadata": {},
   "outputs": [
    {
     "name": "stdout",
     "output_type": "stream",
     "text": [
      "[3. 0. 4. 1.]\n",
      "(138669, 16)\n"
     ]
    }
   ],
   "source": [
    "data['Existing Construction Type Description'] = data['Existing Construction Type Description'].map({'wood frame (5)': 0, 'constr type 4': 1, 'constr type 3': 2, 'constr type 3': 3, 'constr type 1': 4,})\n",
    "data = data[pd.notna(data['Existing Construction Type Description'])]\n",
    "print(data['Existing Construction Type Description'].unique())\n",
    "print(data.shape)"
   ]
  },
  {
   "cell_type": "code",
   "execution_count": 252,
   "metadata": {},
   "outputs": [
    {
     "data": {
      "text/plain": [
       "0.0024590932364118873"
      ]
     },
     "execution_count": 252,
     "metadata": {},
     "output_type": "execute_result"
    }
   ],
   "source": [
    "np.mean(data['Existing Construction Type Description'] == 1)"
   ]
  },
  {
   "cell_type": "code",
   "execution_count": 253,
   "metadata": {},
   "outputs": [
    {
     "data": {
      "text/plain": [
       "array([0., 1.])"
      ]
     },
     "execution_count": 253,
     "metadata": {},
     "output_type": "execute_result"
    }
   ],
   "source": [
    "data['Site Permit'] = data['Site Permit'].map({'Y': 1})\n",
    "data['Site Permit'] = data['Site Permit'].fillna(0)\n",
    "data['Site Permit'].unique()"
   ]
  },
  {
   "cell_type": "code",
   "execution_count": 254,
   "metadata": {},
   "outputs": [
    {
     "data": {
      "text/plain": [
       "Permit Type Definition                      int64\n",
       "Street Number                               int64\n",
       "Current Status                              int64\n",
       "Structural Notification                   float64\n",
       "Number of Existing Stories                float64\n",
       "Number of Proposed Stories                float64\n",
       "Fire Only Permit                          float64\n",
       "Estimated Cost                            float64\n",
       "Revised Cost                              float64\n",
       "Existing Units                            float64\n",
       "Proposed Units                            float64\n",
       "TIDF Compliance                           float64\n",
       "Existing Construction Type Description    float64\n",
       "Site Permit                               float64\n",
       "year                                      float64\n",
       "month                                     float64\n",
       "dtype: object"
      ]
     },
     "execution_count": 254,
     "metadata": {},
     "output_type": "execute_result"
    }
   ],
   "source": [
    "data.dtypes"
   ]
  },
  {
   "cell_type": "code",
   "execution_count": 255,
   "metadata": {},
   "outputs": [],
   "source": [
    "y = data['Current Status'].values\n",
    "data = data.drop(('Current Status'), axis = 1) # выбрасываем столбец 'Current Status'"
   ]
  },
  {
   "cell_type": "code",
   "execution_count": 256,
   "metadata": {},
   "outputs": [
    {
     "data": {
      "text/html": [
       "<div>\n",
       "<style scoped>\n",
       "    .dataframe tbody tr th:only-of-type {\n",
       "        vertical-align: middle;\n",
       "    }\n",
       "\n",
       "    .dataframe tbody tr th {\n",
       "        vertical-align: top;\n",
       "    }\n",
       "\n",
       "    .dataframe thead th {\n",
       "        text-align: right;\n",
       "    }\n",
       "</style>\n",
       "<table border=\"1\" class=\"dataframe\">\n",
       "  <thead>\n",
       "    <tr style=\"text-align: right;\">\n",
       "      <th></th>\n",
       "      <th>Permit Type Definition</th>\n",
       "      <th>Street Number</th>\n",
       "      <th>Structural Notification</th>\n",
       "      <th>Number of Existing Stories</th>\n",
       "      <th>Number of Proposed Stories</th>\n",
       "      <th>Fire Only Permit</th>\n",
       "      <th>Estimated Cost</th>\n",
       "      <th>Revised Cost</th>\n",
       "      <th>Existing Units</th>\n",
       "      <th>Proposed Units</th>\n",
       "      <th>TIDF Compliance</th>\n",
       "      <th>Existing Construction Type Description</th>\n",
       "      <th>Site Permit</th>\n",
       "      <th>year</th>\n",
       "      <th>month</th>\n",
       "    </tr>\n",
       "  </thead>\n",
       "  <tbody>\n",
       "    <tr>\n",
       "      <th>count</th>\n",
       "      <td>138669.000000</td>\n",
       "      <td>138669.000000</td>\n",
       "      <td>138669.000000</td>\n",
       "      <td>138650.000000</td>\n",
       "      <td>136095.000000</td>\n",
       "      <td>138669.000000</td>\n",
       "      <td>1.385440e+05</td>\n",
       "      <td>1.383430e+05</td>\n",
       "      <td>131043.000000</td>\n",
       "      <td>129322.000000</td>\n",
       "      <td>138669.000000</td>\n",
       "      <td>138669.000000</td>\n",
       "      <td>138669.000000</td>\n",
       "      <td>138669.000000</td>\n",
       "      <td>138669.000000</td>\n",
       "    </tr>\n",
       "    <tr>\n",
       "      <th>mean</th>\n",
       "      <td>7.890019</td>\n",
       "      <td>1087.313423</td>\n",
       "      <td>0.038386</td>\n",
       "      <td>5.818561</td>\n",
       "      <td>5.823406</td>\n",
       "      <td>0.117849</td>\n",
       "      <td>7.146028e+04</td>\n",
       "      <td>8.165321e+04</td>\n",
       "      <td>15.136499</td>\n",
       "      <td>15.078935</td>\n",
       "      <td>0.000007</td>\n",
       "      <td>0.955881</td>\n",
       "      <td>0.020098</td>\n",
       "      <td>2015.183610</td>\n",
       "      <td>6.459641</td>\n",
       "    </tr>\n",
       "    <tr>\n",
       "      <th>std</th>\n",
       "      <td>0.405041</td>\n",
       "      <td>1128.317727</td>\n",
       "      <td>0.192128</td>\n",
       "      <td>8.814995</td>\n",
       "      <td>8.802473</td>\n",
       "      <td>0.322430</td>\n",
       "      <td>1.168272e+06</td>\n",
       "      <td>1.023876e+06</td>\n",
       "      <td>73.699773</td>\n",
       "      <td>73.262376</td>\n",
       "      <td>0.002685</td>\n",
       "      <td>1.646956</td>\n",
       "      <td>0.140337</td>\n",
       "      <td>1.479312</td>\n",
       "      <td>3.429674</td>\n",
       "    </tr>\n",
       "    <tr>\n",
       "      <th>min</th>\n",
       "      <td>3.000000</td>\n",
       "      <td>1.000000</td>\n",
       "      <td>0.000000</td>\n",
       "      <td>0.000000</td>\n",
       "      <td>0.000000</td>\n",
       "      <td>0.000000</td>\n",
       "      <td>1.000000e+00</td>\n",
       "      <td>0.000000e+00</td>\n",
       "      <td>0.000000</td>\n",
       "      <td>0.000000</td>\n",
       "      <td>0.000000</td>\n",
       "      <td>0.000000</td>\n",
       "      <td>0.000000</td>\n",
       "      <td>2013.000000</td>\n",
       "      <td>1.000000</td>\n",
       "    </tr>\n",
       "    <tr>\n",
       "      <th>25%</th>\n",
       "      <td>8.000000</td>\n",
       "      <td>222.000000</td>\n",
       "      <td>0.000000</td>\n",
       "      <td>2.000000</td>\n",
       "      <td>2.000000</td>\n",
       "      <td>0.000000</td>\n",
       "      <td>3.200000e+03</td>\n",
       "      <td>4.000000e+03</td>\n",
       "      <td>1.000000</td>\n",
       "      <td>1.000000</td>\n",
       "      <td>0.000000</td>\n",
       "      <td>0.000000</td>\n",
       "      <td>0.000000</td>\n",
       "      <td>2014.000000</td>\n",
       "      <td>3.000000</td>\n",
       "    </tr>\n",
       "    <tr>\n",
       "      <th>50%</th>\n",
       "      <td>8.000000</td>\n",
       "      <td>657.000000</td>\n",
       "      <td>0.000000</td>\n",
       "      <td>3.000000</td>\n",
       "      <td>3.000000</td>\n",
       "      <td>0.000000</td>\n",
       "      <td>1.000000e+04</td>\n",
       "      <td>1.200000e+04</td>\n",
       "      <td>1.000000</td>\n",
       "      <td>1.000000</td>\n",
       "      <td>0.000000</td>\n",
       "      <td>0.000000</td>\n",
       "      <td>0.000000</td>\n",
       "      <td>2015.000000</td>\n",
       "      <td>6.000000</td>\n",
       "    </tr>\n",
       "    <tr>\n",
       "      <th>75%</th>\n",
       "      <td>8.000000</td>\n",
       "      <td>1634.000000</td>\n",
       "      <td>0.000000</td>\n",
       "      <td>4.000000</td>\n",
       "      <td>4.000000</td>\n",
       "      <td>0.000000</td>\n",
       "      <td>3.000000e+04</td>\n",
       "      <td>4.000000e+04</td>\n",
       "      <td>4.000000</td>\n",
       "      <td>4.000000</td>\n",
       "      <td>0.000000</td>\n",
       "      <td>3.000000</td>\n",
       "      <td>0.000000</td>\n",
       "      <td>2016.000000</td>\n",
       "      <td>9.000000</td>\n",
       "    </tr>\n",
       "    <tr>\n",
       "      <th>max</th>\n",
       "      <td>8.000000</td>\n",
       "      <td>8400.000000</td>\n",
       "      <td>1.000000</td>\n",
       "      <td>78.000000</td>\n",
       "      <td>78.000000</td>\n",
       "      <td>1.000000</td>\n",
       "      <td>3.400000e+08</td>\n",
       "      <td>2.660615e+08</td>\n",
       "      <td>1907.000000</td>\n",
       "      <td>1911.000000</td>\n",
       "      <td>1.000000</td>\n",
       "      <td>4.000000</td>\n",
       "      <td>1.000000</td>\n",
       "      <td>2018.000000</td>\n",
       "      <td>12.000000</td>\n",
       "    </tr>\n",
       "  </tbody>\n",
       "</table>\n",
       "</div>"
      ],
      "text/plain": [
       "       Permit Type Definition  Street Number  Structural Notification  \\\n",
       "count           138669.000000  138669.000000            138669.000000   \n",
       "mean                 7.890019    1087.313423                 0.038386   \n",
       "std                  0.405041    1128.317727                 0.192128   \n",
       "min                  3.000000       1.000000                 0.000000   \n",
       "25%                  8.000000     222.000000                 0.000000   \n",
       "50%                  8.000000     657.000000                 0.000000   \n",
       "75%                  8.000000    1634.000000                 0.000000   \n",
       "max                  8.000000    8400.000000                 1.000000   \n",
       "\n",
       "       Number of Existing Stories  Number of Proposed Stories  \\\n",
       "count               138650.000000               136095.000000   \n",
       "mean                     5.818561                    5.823406   \n",
       "std                      8.814995                    8.802473   \n",
       "min                      0.000000                    0.000000   \n",
       "25%                      2.000000                    2.000000   \n",
       "50%                      3.000000                    3.000000   \n",
       "75%                      4.000000                    4.000000   \n",
       "max                     78.000000                   78.000000   \n",
       "\n",
       "       Fire Only Permit  Estimated Cost  Revised Cost  Existing Units  \\\n",
       "count     138669.000000    1.385440e+05  1.383430e+05   131043.000000   \n",
       "mean           0.117849    7.146028e+04  8.165321e+04       15.136499   \n",
       "std            0.322430    1.168272e+06  1.023876e+06       73.699773   \n",
       "min            0.000000    1.000000e+00  0.000000e+00        0.000000   \n",
       "25%            0.000000    3.200000e+03  4.000000e+03        1.000000   \n",
       "50%            0.000000    1.000000e+04  1.200000e+04        1.000000   \n",
       "75%            0.000000    3.000000e+04  4.000000e+04        4.000000   \n",
       "max            1.000000    3.400000e+08  2.660615e+08     1907.000000   \n",
       "\n",
       "       Proposed Units  TIDF Compliance  \\\n",
       "count   129322.000000    138669.000000   \n",
       "mean        15.078935         0.000007   \n",
       "std         73.262376         0.002685   \n",
       "min          0.000000         0.000000   \n",
       "25%          1.000000         0.000000   \n",
       "50%          1.000000         0.000000   \n",
       "75%          4.000000         0.000000   \n",
       "max       1911.000000         1.000000   \n",
       "\n",
       "       Existing Construction Type Description    Site Permit           year  \\\n",
       "count                           138669.000000  138669.000000  138669.000000   \n",
       "mean                                 0.955881       0.020098    2015.183610   \n",
       "std                                  1.646956       0.140337       1.479312   \n",
       "min                                  0.000000       0.000000    2013.000000   \n",
       "25%                                  0.000000       0.000000    2014.000000   \n",
       "50%                                  0.000000       0.000000    2015.000000   \n",
       "75%                                  3.000000       0.000000    2016.000000   \n",
       "max                                  4.000000       1.000000    2018.000000   \n",
       "\n",
       "               month  \n",
       "count  138669.000000  \n",
       "mean        6.459641  \n",
       "std         3.429674  \n",
       "min         1.000000  \n",
       "25%         3.000000  \n",
       "50%         6.000000  \n",
       "75%         9.000000  \n",
       "max        12.000000  "
      ]
     },
     "execution_count": 256,
     "metadata": {},
     "output_type": "execute_result"
    }
   ],
   "source": [
    "data.describe()"
   ]
  },
  {
   "cell_type": "code",
   "execution_count": 257,
   "metadata": {},
   "outputs": [],
   "source": [
    "data = data.fillna(data.min(axis = 0), axis = 0)"
   ]
  },
  {
   "cell_type": "markdown",
   "metadata": {},
   "source": [
    "Выведем таблицу, содержащую статистическую информацию.\n",
    "\n",
    "\n",
    "\n",
    "\n",
    "\n",
    "\n"
   ]
  },
  {
   "cell_type": "code",
   "execution_count": 258,
   "metadata": {},
   "outputs": [
    {
     "data": {
      "text/html": [
       "<div>\n",
       "<style scoped>\n",
       "    .dataframe tbody tr th:only-of-type {\n",
       "        vertical-align: middle;\n",
       "    }\n",
       "\n",
       "    .dataframe tbody tr th {\n",
       "        vertical-align: top;\n",
       "    }\n",
       "\n",
       "    .dataframe thead th {\n",
       "        text-align: right;\n",
       "    }\n",
       "</style>\n",
       "<table border=\"1\" class=\"dataframe\">\n",
       "  <thead>\n",
       "    <tr style=\"text-align: right;\">\n",
       "      <th></th>\n",
       "      <th>Permit Type Definition</th>\n",
       "      <th>Street Number</th>\n",
       "      <th>Structural Notification</th>\n",
       "      <th>Number of Existing Stories</th>\n",
       "      <th>Number of Proposed Stories</th>\n",
       "      <th>Fire Only Permit</th>\n",
       "      <th>Estimated Cost</th>\n",
       "      <th>Revised Cost</th>\n",
       "      <th>Existing Units</th>\n",
       "      <th>Proposed Units</th>\n",
       "      <th>TIDF Compliance</th>\n",
       "      <th>Existing Construction Type Description</th>\n",
       "      <th>Site Permit</th>\n",
       "      <th>year</th>\n",
       "      <th>month</th>\n",
       "    </tr>\n",
       "  </thead>\n",
       "  <tbody>\n",
       "    <tr>\n",
       "      <th>count</th>\n",
       "      <td>138669.000000</td>\n",
       "      <td>138669.000000</td>\n",
       "      <td>138669.000000</td>\n",
       "      <td>138669.000000</td>\n",
       "      <td>138669.000000</td>\n",
       "      <td>138669.000000</td>\n",
       "      <td>1.386690e+05</td>\n",
       "      <td>1.386690e+05</td>\n",
       "      <td>138669.000000</td>\n",
       "      <td>138669.000000</td>\n",
       "      <td>138669.000000</td>\n",
       "      <td>138669.000000</td>\n",
       "      <td>138669.000000</td>\n",
       "      <td>138669.000000</td>\n",
       "      <td>138669.000000</td>\n",
       "    </tr>\n",
       "    <tr>\n",
       "      <th>mean</th>\n",
       "      <td>7.890019</td>\n",
       "      <td>1087.313423</td>\n",
       "      <td>0.038386</td>\n",
       "      <td>5.817764</td>\n",
       "      <td>5.715311</td>\n",
       "      <td>0.117849</td>\n",
       "      <td>7.139587e+04</td>\n",
       "      <td>8.146125e+04</td>\n",
       "      <td>14.304079</td>\n",
       "      <td>14.062537</td>\n",
       "      <td>0.000007</td>\n",
       "      <td>0.955881</td>\n",
       "      <td>0.020098</td>\n",
       "      <td>2015.183610</td>\n",
       "      <td>6.459641</td>\n",
       "    </tr>\n",
       "    <tr>\n",
       "      <th>std</th>\n",
       "      <td>0.405041</td>\n",
       "      <td>1128.317727</td>\n",
       "      <td>0.192128</td>\n",
       "      <td>8.814654</td>\n",
       "      <td>8.755745</td>\n",
       "      <td>0.322430</td>\n",
       "      <td>1.167747e+06</td>\n",
       "      <td>1.022679e+06</td>\n",
       "      <td>71.727620</td>\n",
       "      <td>70.851096</td>\n",
       "      <td>0.002685</td>\n",
       "      <td>1.646956</td>\n",
       "      <td>0.140337</td>\n",
       "      <td>1.479312</td>\n",
       "      <td>3.429674</td>\n",
       "    </tr>\n",
       "    <tr>\n",
       "      <th>min</th>\n",
       "      <td>3.000000</td>\n",
       "      <td>1.000000</td>\n",
       "      <td>0.000000</td>\n",
       "      <td>0.000000</td>\n",
       "      <td>0.000000</td>\n",
       "      <td>0.000000</td>\n",
       "      <td>1.000000e+00</td>\n",
       "      <td>0.000000e+00</td>\n",
       "      <td>0.000000</td>\n",
       "      <td>0.000000</td>\n",
       "      <td>0.000000</td>\n",
       "      <td>0.000000</td>\n",
       "      <td>0.000000</td>\n",
       "      <td>2013.000000</td>\n",
       "      <td>1.000000</td>\n",
       "    </tr>\n",
       "    <tr>\n",
       "      <th>25%</th>\n",
       "      <td>8.000000</td>\n",
       "      <td>222.000000</td>\n",
       "      <td>0.000000</td>\n",
       "      <td>2.000000</td>\n",
       "      <td>2.000000</td>\n",
       "      <td>0.000000</td>\n",
       "      <td>3.200000e+03</td>\n",
       "      <td>4.000000e+03</td>\n",
       "      <td>1.000000</td>\n",
       "      <td>1.000000</td>\n",
       "      <td>0.000000</td>\n",
       "      <td>0.000000</td>\n",
       "      <td>0.000000</td>\n",
       "      <td>2014.000000</td>\n",
       "      <td>3.000000</td>\n",
       "    </tr>\n",
       "    <tr>\n",
       "      <th>50%</th>\n",
       "      <td>8.000000</td>\n",
       "      <td>657.000000</td>\n",
       "      <td>0.000000</td>\n",
       "      <td>3.000000</td>\n",
       "      <td>3.000000</td>\n",
       "      <td>0.000000</td>\n",
       "      <td>1.000000e+04</td>\n",
       "      <td>1.200000e+04</td>\n",
       "      <td>1.000000</td>\n",
       "      <td>1.000000</td>\n",
       "      <td>0.000000</td>\n",
       "      <td>0.000000</td>\n",
       "      <td>0.000000</td>\n",
       "      <td>2015.000000</td>\n",
       "      <td>6.000000</td>\n",
       "    </tr>\n",
       "    <tr>\n",
       "      <th>75%</th>\n",
       "      <td>8.000000</td>\n",
       "      <td>1634.000000</td>\n",
       "      <td>0.000000</td>\n",
       "      <td>4.000000</td>\n",
       "      <td>4.000000</td>\n",
       "      <td>0.000000</td>\n",
       "      <td>3.000000e+04</td>\n",
       "      <td>4.000000e+04</td>\n",
       "      <td>4.000000</td>\n",
       "      <td>4.000000</td>\n",
       "      <td>0.000000</td>\n",
       "      <td>3.000000</td>\n",
       "      <td>0.000000</td>\n",
       "      <td>2016.000000</td>\n",
       "      <td>9.000000</td>\n",
       "    </tr>\n",
       "    <tr>\n",
       "      <th>max</th>\n",
       "      <td>8.000000</td>\n",
       "      <td>8400.000000</td>\n",
       "      <td>1.000000</td>\n",
       "      <td>78.000000</td>\n",
       "      <td>78.000000</td>\n",
       "      <td>1.000000</td>\n",
       "      <td>3.400000e+08</td>\n",
       "      <td>2.660615e+08</td>\n",
       "      <td>1907.000000</td>\n",
       "      <td>1911.000000</td>\n",
       "      <td>1.000000</td>\n",
       "      <td>4.000000</td>\n",
       "      <td>1.000000</td>\n",
       "      <td>2018.000000</td>\n",
       "      <td>12.000000</td>\n",
       "    </tr>\n",
       "  </tbody>\n",
       "</table>\n",
       "</div>"
      ],
      "text/plain": [
       "       Permit Type Definition  Street Number  Structural Notification  \\\n",
       "count           138669.000000  138669.000000            138669.000000   \n",
       "mean                 7.890019    1087.313423                 0.038386   \n",
       "std                  0.405041    1128.317727                 0.192128   \n",
       "min                  3.000000       1.000000                 0.000000   \n",
       "25%                  8.000000     222.000000                 0.000000   \n",
       "50%                  8.000000     657.000000                 0.000000   \n",
       "75%                  8.000000    1634.000000                 0.000000   \n",
       "max                  8.000000    8400.000000                 1.000000   \n",
       "\n",
       "       Number of Existing Stories  Number of Proposed Stories  \\\n",
       "count               138669.000000               138669.000000   \n",
       "mean                     5.817764                    5.715311   \n",
       "std                      8.814654                    8.755745   \n",
       "min                      0.000000                    0.000000   \n",
       "25%                      2.000000                    2.000000   \n",
       "50%                      3.000000                    3.000000   \n",
       "75%                      4.000000                    4.000000   \n",
       "max                     78.000000                   78.000000   \n",
       "\n",
       "       Fire Only Permit  Estimated Cost  Revised Cost  Existing Units  \\\n",
       "count     138669.000000    1.386690e+05  1.386690e+05   138669.000000   \n",
       "mean           0.117849    7.139587e+04  8.146125e+04       14.304079   \n",
       "std            0.322430    1.167747e+06  1.022679e+06       71.727620   \n",
       "min            0.000000    1.000000e+00  0.000000e+00        0.000000   \n",
       "25%            0.000000    3.200000e+03  4.000000e+03        1.000000   \n",
       "50%            0.000000    1.000000e+04  1.200000e+04        1.000000   \n",
       "75%            0.000000    3.000000e+04  4.000000e+04        4.000000   \n",
       "max            1.000000    3.400000e+08  2.660615e+08     1907.000000   \n",
       "\n",
       "       Proposed Units  TIDF Compliance  \\\n",
       "count   138669.000000    138669.000000   \n",
       "mean        14.062537         0.000007   \n",
       "std         70.851096         0.002685   \n",
       "min          0.000000         0.000000   \n",
       "25%          1.000000         0.000000   \n",
       "50%          1.000000         0.000000   \n",
       "75%          4.000000         0.000000   \n",
       "max       1911.000000         1.000000   \n",
       "\n",
       "       Existing Construction Type Description    Site Permit           year  \\\n",
       "count                           138669.000000  138669.000000  138669.000000   \n",
       "mean                                 0.955881       0.020098    2015.183610   \n",
       "std                                  1.646956       0.140337       1.479312   \n",
       "min                                  0.000000       0.000000    2013.000000   \n",
       "25%                                  0.000000       0.000000    2014.000000   \n",
       "50%                                  0.000000       0.000000    2015.000000   \n",
       "75%                                  3.000000       0.000000    2016.000000   \n",
       "max                                  4.000000       1.000000    2018.000000   \n",
       "\n",
       "               month  \n",
       "count  138669.000000  \n",
       "mean        6.459641  \n",
       "std         3.429674  \n",
       "min         1.000000  \n",
       "25%         3.000000  \n",
       "50%         6.000000  \n",
       "75%         9.000000  \n",
       "max        12.000000  "
      ]
     },
     "execution_count": 258,
     "metadata": {},
     "output_type": "execute_result"
    }
   ],
   "source": [
    "data.describe()"
   ]
  },
  {
   "cell_type": "code",
   "execution_count": 259,
   "metadata": {},
   "outputs": [],
   "source": [
    "data = (data - data.mean())/data.std()"
   ]
  },
  {
   "cell_type": "code",
   "execution_count": 260,
   "metadata": {},
   "outputs": [
    {
     "data": {
      "text/html": [
       "<div>\n",
       "<style scoped>\n",
       "    .dataframe tbody tr th:only-of-type {\n",
       "        vertical-align: middle;\n",
       "    }\n",
       "\n",
       "    .dataframe tbody tr th {\n",
       "        vertical-align: top;\n",
       "    }\n",
       "\n",
       "    .dataframe thead th {\n",
       "        text-align: right;\n",
       "    }\n",
       "</style>\n",
       "<table border=\"1\" class=\"dataframe\">\n",
       "  <thead>\n",
       "    <tr style=\"text-align: right;\">\n",
       "      <th></th>\n",
       "      <th>Permit Type Definition</th>\n",
       "      <th>Street Number</th>\n",
       "      <th>Structural Notification</th>\n",
       "      <th>Number of Existing Stories</th>\n",
       "      <th>Number of Proposed Stories</th>\n",
       "      <th>Fire Only Permit</th>\n",
       "      <th>Estimated Cost</th>\n",
       "      <th>Revised Cost</th>\n",
       "      <th>Existing Units</th>\n",
       "      <th>Proposed Units</th>\n",
       "      <th>TIDF Compliance</th>\n",
       "      <th>Existing Construction Type Description</th>\n",
       "      <th>Site Permit</th>\n",
       "      <th>year</th>\n",
       "      <th>month</th>\n",
       "    </tr>\n",
       "  </thead>\n",
       "  <tbody>\n",
       "    <tr>\n",
       "      <th>count</th>\n",
       "      <td>1.386690e+05</td>\n",
       "      <td>1.386690e+05</td>\n",
       "      <td>1.386690e+05</td>\n",
       "      <td>1.386690e+05</td>\n",
       "      <td>1.386690e+05</td>\n",
       "      <td>1.386690e+05</td>\n",
       "      <td>1.386690e+05</td>\n",
       "      <td>1.386690e+05</td>\n",
       "      <td>1.386690e+05</td>\n",
       "      <td>1.386690e+05</td>\n",
       "      <td>1.386690e+05</td>\n",
       "      <td>1.386690e+05</td>\n",
       "      <td>1.386690e+05</td>\n",
       "      <td>1.386690e+05</td>\n",
       "      <td>1.386690e+05</td>\n",
       "    </tr>\n",
       "    <tr>\n",
       "      <th>mean</th>\n",
       "      <td>4.771487e-16</td>\n",
       "      <td>1.204145e-17</td>\n",
       "      <td>1.885639e-17</td>\n",
       "      <td>-1.393733e-17</td>\n",
       "      <td>2.541514e-17</td>\n",
       "      <td>7.050652e-17</td>\n",
       "      <td>-8.505873e-18</td>\n",
       "      <td>-5.656918e-17</td>\n",
       "      <td>-7.583550e-18</td>\n",
       "      <td>9.018275e-18</td>\n",
       "      <td>-7.942231e-19</td>\n",
       "      <td>1.744729e-17</td>\n",
       "      <td>5.738902e-18</td>\n",
       "      <td>2.062070e-14</td>\n",
       "      <td>-9.182244e-17</td>\n",
       "    </tr>\n",
       "    <tr>\n",
       "      <th>std</th>\n",
       "      <td>1.000000e+00</td>\n",
       "      <td>1.000000e+00</td>\n",
       "      <td>1.000000e+00</td>\n",
       "      <td>1.000000e+00</td>\n",
       "      <td>1.000000e+00</td>\n",
       "      <td>1.000000e+00</td>\n",
       "      <td>1.000000e+00</td>\n",
       "      <td>1.000000e+00</td>\n",
       "      <td>1.000000e+00</td>\n",
       "      <td>1.000000e+00</td>\n",
       "      <td>1.000000e+00</td>\n",
       "      <td>1.000000e+00</td>\n",
       "      <td>1.000000e+00</td>\n",
       "      <td>1.000000e+00</td>\n",
       "      <td>1.000000e+00</td>\n",
       "    </tr>\n",
       "    <tr>\n",
       "      <th>min</th>\n",
       "      <td>-1.207288e+01</td>\n",
       "      <td>-9.627726e-01</td>\n",
       "      <td>-1.997959e-01</td>\n",
       "      <td>-6.600104e-01</td>\n",
       "      <td>-6.527499e-01</td>\n",
       "      <td>-3.655021e-01</td>\n",
       "      <td>-6.113896e-02</td>\n",
       "      <td>-7.965472e-02</td>\n",
       "      <td>-1.994222e-01</td>\n",
       "      <td>-1.984802e-01</td>\n",
       "      <td>-2.685408e-03</td>\n",
       "      <td>-5.803922e-01</td>\n",
       "      <td>-1.432142e-01</td>\n",
       "      <td>-1.476098e+00</td>\n",
       "      <td>-1.591883e+00</td>\n",
       "    </tr>\n",
       "    <tr>\n",
       "      <th>25%</th>\n",
       "      <td>2.715310e-01</td>\n",
       "      <td>-7.669058e-01</td>\n",
       "      <td>-1.997959e-01</td>\n",
       "      <td>-4.331156e-01</td>\n",
       "      <td>-4.243284e-01</td>\n",
       "      <td>-3.655021e-01</td>\n",
       "      <td>-5.839950e-02</td>\n",
       "      <td>-7.574343e-02</td>\n",
       "      <td>-1.854806e-01</td>\n",
       "      <td>-1.843661e-01</td>\n",
       "      <td>-2.685408e-03</td>\n",
       "      <td>-5.803922e-01</td>\n",
       "      <td>-1.432142e-01</td>\n",
       "      <td>-8.001083e-01</td>\n",
       "      <td>-1.008738e+00</td>\n",
       "    </tr>\n",
       "    <tr>\n",
       "      <th>50%</th>\n",
       "      <td>2.715310e-01</td>\n",
       "      <td>-3.813761e-01</td>\n",
       "      <td>-1.997959e-01</td>\n",
       "      <td>-3.196681e-01</td>\n",
       "      <td>-3.101177e-01</td>\n",
       "      <td>-3.655021e-01</td>\n",
       "      <td>-5.257632e-02</td>\n",
       "      <td>-6.792084e-02</td>\n",
       "      <td>-1.854806e-01</td>\n",
       "      <td>-1.843661e-01</td>\n",
       "      <td>-2.685408e-03</td>\n",
       "      <td>-5.803922e-01</td>\n",
       "      <td>-1.432142e-01</td>\n",
       "      <td>-1.241184e-01</td>\n",
       "      <td>-1.340189e-01</td>\n",
       "    </tr>\n",
       "    <tr>\n",
       "      <th>75%</th>\n",
       "      <td>2.715310e-01</td>\n",
       "      <td>4.845147e-01</td>\n",
       "      <td>-1.997959e-01</td>\n",
       "      <td>-2.062207e-01</td>\n",
       "      <td>-1.959070e-01</td>\n",
       "      <td>-3.655021e-01</td>\n",
       "      <td>-3.544933e-02</td>\n",
       "      <td>-4.054178e-02</td>\n",
       "      <td>-1.436557e-01</td>\n",
       "      <td>-1.420237e-01</td>\n",
       "      <td>-2.685408e-03</td>\n",
       "      <td>1.241150e+00</td>\n",
       "      <td>-1.432142e-01</td>\n",
       "      <td>5.518714e-01</td>\n",
       "      <td>7.406997e-01</td>\n",
       "    </tr>\n",
       "    <tr>\n",
       "      <th>max</th>\n",
       "      <td>2.715310e-01</td>\n",
       "      <td>6.481053e+00</td>\n",
       "      <td>5.005070e+00</td>\n",
       "      <td>8.188890e+00</td>\n",
       "      <td>8.255687e+00</td>\n",
       "      <td>2.735943e+00</td>\n",
       "      <td>2.910977e+02</td>\n",
       "      <td>2.600815e+02</td>\n",
       "      <td>2.638727e+01</td>\n",
       "      <td>2.677358e+01</td>\n",
       "      <td>3.723802e+02</td>\n",
       "      <td>1.848330e+00</td>\n",
       "      <td>6.982500e+00</td>\n",
       "      <td>1.903851e+00</td>\n",
       "      <td>1.615418e+00</td>\n",
       "    </tr>\n",
       "  </tbody>\n",
       "</table>\n",
       "</div>"
      ],
      "text/plain": [
       "       Permit Type Definition  Street Number  Structural Notification  \\\n",
       "count            1.386690e+05   1.386690e+05             1.386690e+05   \n",
       "mean             4.771487e-16   1.204145e-17             1.885639e-17   \n",
       "std              1.000000e+00   1.000000e+00             1.000000e+00   \n",
       "min             -1.207288e+01  -9.627726e-01            -1.997959e-01   \n",
       "25%              2.715310e-01  -7.669058e-01            -1.997959e-01   \n",
       "50%              2.715310e-01  -3.813761e-01            -1.997959e-01   \n",
       "75%              2.715310e-01   4.845147e-01            -1.997959e-01   \n",
       "max              2.715310e-01   6.481053e+00             5.005070e+00   \n",
       "\n",
       "       Number of Existing Stories  Number of Proposed Stories  \\\n",
       "count                1.386690e+05                1.386690e+05   \n",
       "mean                -1.393733e-17                2.541514e-17   \n",
       "std                  1.000000e+00                1.000000e+00   \n",
       "min                 -6.600104e-01               -6.527499e-01   \n",
       "25%                 -4.331156e-01               -4.243284e-01   \n",
       "50%                 -3.196681e-01               -3.101177e-01   \n",
       "75%                 -2.062207e-01               -1.959070e-01   \n",
       "max                  8.188890e+00                8.255687e+00   \n",
       "\n",
       "       Fire Only Permit  Estimated Cost  Revised Cost  Existing Units  \\\n",
       "count      1.386690e+05    1.386690e+05  1.386690e+05    1.386690e+05   \n",
       "mean       7.050652e-17   -8.505873e-18 -5.656918e-17   -7.583550e-18   \n",
       "std        1.000000e+00    1.000000e+00  1.000000e+00    1.000000e+00   \n",
       "min       -3.655021e-01   -6.113896e-02 -7.965472e-02   -1.994222e-01   \n",
       "25%       -3.655021e-01   -5.839950e-02 -7.574343e-02   -1.854806e-01   \n",
       "50%       -3.655021e-01   -5.257632e-02 -6.792084e-02   -1.854806e-01   \n",
       "75%       -3.655021e-01   -3.544933e-02 -4.054178e-02   -1.436557e-01   \n",
       "max        2.735943e+00    2.910977e+02  2.600815e+02    2.638727e+01   \n",
       "\n",
       "       Proposed Units  TIDF Compliance  \\\n",
       "count    1.386690e+05     1.386690e+05   \n",
       "mean     9.018275e-18    -7.942231e-19   \n",
       "std      1.000000e+00     1.000000e+00   \n",
       "min     -1.984802e-01    -2.685408e-03   \n",
       "25%     -1.843661e-01    -2.685408e-03   \n",
       "50%     -1.843661e-01    -2.685408e-03   \n",
       "75%     -1.420237e-01    -2.685408e-03   \n",
       "max      2.677358e+01     3.723802e+02   \n",
       "\n",
       "       Existing Construction Type Description   Site Permit          year  \\\n",
       "count                            1.386690e+05  1.386690e+05  1.386690e+05   \n",
       "mean                             1.744729e-17  5.738902e-18  2.062070e-14   \n",
       "std                              1.000000e+00  1.000000e+00  1.000000e+00   \n",
       "min                             -5.803922e-01 -1.432142e-01 -1.476098e+00   \n",
       "25%                             -5.803922e-01 -1.432142e-01 -8.001083e-01   \n",
       "50%                             -5.803922e-01 -1.432142e-01 -1.241184e-01   \n",
       "75%                              1.241150e+00 -1.432142e-01  5.518714e-01   \n",
       "max                              1.848330e+00  6.982500e+00  1.903851e+00   \n",
       "\n",
       "              month  \n",
       "count  1.386690e+05  \n",
       "mean  -9.182244e-17  \n",
       "std    1.000000e+00  \n",
       "min   -1.591883e+00  \n",
       "25%   -1.008738e+00  \n",
       "50%   -1.340189e-01  \n",
       "75%    7.406997e-01  \n",
       "max    1.615418e+00  "
      ]
     },
     "execution_count": 260,
     "metadata": {},
     "output_type": "execute_result"
    }
   ],
   "source": [
    "data.describe()"
   ]
  },
  {
   "cell_type": "code",
   "execution_count": 261,
   "metadata": {},
   "outputs": [
    {
     "data": {
      "text/html": [
       "<div>\n",
       "<style scoped>\n",
       "    .dataframe tbody tr th:only-of-type {\n",
       "        vertical-align: middle;\n",
       "    }\n",
       "\n",
       "    .dataframe tbody tr th {\n",
       "        vertical-align: top;\n",
       "    }\n",
       "\n",
       "    .dataframe thead th {\n",
       "        text-align: right;\n",
       "    }\n",
       "</style>\n",
       "<table border=\"1\" class=\"dataframe\">\n",
       "  <thead>\n",
       "    <tr style=\"text-align: right;\">\n",
       "      <th></th>\n",
       "      <th>Permit Type Definition</th>\n",
       "      <th>Street Number</th>\n",
       "      <th>Structural Notification</th>\n",
       "      <th>Number of Existing Stories</th>\n",
       "      <th>Number of Proposed Stories</th>\n",
       "      <th>Fire Only Permit</th>\n",
       "      <th>Estimated Cost</th>\n",
       "      <th>Revised Cost</th>\n",
       "      <th>Existing Units</th>\n",
       "      <th>Proposed Units</th>\n",
       "      <th>TIDF Compliance</th>\n",
       "      <th>Existing Construction Type Description</th>\n",
       "      <th>Site Permit</th>\n",
       "      <th>year</th>\n",
       "      <th>month</th>\n",
       "    </tr>\n",
       "  </thead>\n",
       "  <tbody>\n",
       "    <tr>\n",
       "      <th>1</th>\n",
       "      <td>-4.666235</td>\n",
       "      <td>-0.573698</td>\n",
       "      <td>-0.199796</td>\n",
       "      <td>0.134122</td>\n",
       "      <td>-0.652750</td>\n",
       "      <td>-0.365502</td>\n",
       "      <td>-0.061139</td>\n",
       "      <td>-0.079166</td>\n",
       "      <td>-0.199422</td>\n",
       "      <td>-0.198480</td>\n",
       "      <td>-0.002685</td>\n",
       "      <td>1.241150</td>\n",
       "      <td>-0.143214</td>\n",
       "      <td>1.227861</td>\n",
       "      <td>0.449127</td>\n",
       "    </tr>\n",
       "    <tr>\n",
       "      <th>3</th>\n",
       "      <td>0.271531</td>\n",
       "      <td>0.126460</td>\n",
       "      <td>-0.199796</td>\n",
       "      <td>-0.433116</td>\n",
       "      <td>-0.424328</td>\n",
       "      <td>-0.365502</td>\n",
       "      <td>-0.059427</td>\n",
       "      <td>-0.077699</td>\n",
       "      <td>-0.185481</td>\n",
       "      <td>-0.184366</td>\n",
       "      <td>-0.002685</td>\n",
       "      <td>-0.580392</td>\n",
       "      <td>-0.143214</td>\n",
       "      <td>1.227861</td>\n",
       "      <td>0.157554</td>\n",
       "    </tr>\n",
       "    <tr>\n",
       "      <th>4</th>\n",
       "      <td>-9.604001</td>\n",
       "      <td>-0.121697</td>\n",
       "      <td>-0.199796</td>\n",
       "      <td>-0.319668</td>\n",
       "      <td>-0.652750</td>\n",
       "      <td>-0.365502</td>\n",
       "      <td>0.024495</td>\n",
       "      <td>0.018128</td>\n",
       "      <td>-0.199422</td>\n",
       "      <td>-0.198480</td>\n",
       "      <td>-0.002685</td>\n",
       "      <td>1.241150</td>\n",
       "      <td>-0.143214</td>\n",
       "      <td>1.227861</td>\n",
       "      <td>1.615418</td>\n",
       "    </tr>\n",
       "    <tr>\n",
       "      <th>5</th>\n",
       "      <td>0.271531</td>\n",
       "      <td>-0.254639</td>\n",
       "      <td>-0.199796</td>\n",
       "      <td>-0.092773</td>\n",
       "      <td>-0.081696</td>\n",
       "      <td>2.735943</td>\n",
       "      <td>-0.057714</td>\n",
       "      <td>-0.075743</td>\n",
       "      <td>4.345549</td>\n",
       "      <td>4.402719</td>\n",
       "      <td>-0.002685</td>\n",
       "      <td>1.848330</td>\n",
       "      <td>-0.143214</td>\n",
       "      <td>1.227861</td>\n",
       "      <td>0.157554</td>\n",
       "    </tr>\n",
       "    <tr>\n",
       "      <th>6</th>\n",
       "      <td>0.271531</td>\n",
       "      <td>0.180522</td>\n",
       "      <td>-0.199796</td>\n",
       "      <td>-0.319668</td>\n",
       "      <td>-0.310118</td>\n",
       "      <td>-0.365502</td>\n",
       "      <td>-0.050864</td>\n",
       "      <td>-0.067921</td>\n",
       "      <td>-0.129714</td>\n",
       "      <td>-0.127910</td>\n",
       "      <td>-0.002685</td>\n",
       "      <td>-0.580392</td>\n",
       "      <td>-0.143214</td>\n",
       "      <td>1.227861</td>\n",
       "      <td>-0.134019</td>\n",
       "    </tr>\n",
       "  </tbody>\n",
       "</table>\n",
       "</div>"
      ],
      "text/plain": [
       "   Permit Type Definition  Street Number  Structural Notification  \\\n",
       "1               -4.666235      -0.573698                -0.199796   \n",
       "3                0.271531       0.126460                -0.199796   \n",
       "4               -9.604001      -0.121697                -0.199796   \n",
       "5                0.271531      -0.254639                -0.199796   \n",
       "6                0.271531       0.180522                -0.199796   \n",
       "\n",
       "   Number of Existing Stories  Number of Proposed Stories  Fire Only Permit  \\\n",
       "1                    0.134122                   -0.652750         -0.365502   \n",
       "3                   -0.433116                   -0.424328         -0.365502   \n",
       "4                   -0.319668                   -0.652750         -0.365502   \n",
       "5                   -0.092773                   -0.081696          2.735943   \n",
       "6                   -0.319668                   -0.310118         -0.365502   \n",
       "\n",
       "   Estimated Cost  Revised Cost  Existing Units  Proposed Units  \\\n",
       "1       -0.061139     -0.079166       -0.199422       -0.198480   \n",
       "3       -0.059427     -0.077699       -0.185481       -0.184366   \n",
       "4        0.024495      0.018128       -0.199422       -0.198480   \n",
       "5       -0.057714     -0.075743        4.345549        4.402719   \n",
       "6       -0.050864     -0.067921       -0.129714       -0.127910   \n",
       "\n",
       "   TIDF Compliance  Existing Construction Type Description  Site Permit  \\\n",
       "1        -0.002685                                1.241150    -0.143214   \n",
       "3        -0.002685                               -0.580392    -0.143214   \n",
       "4        -0.002685                                1.241150    -0.143214   \n",
       "5        -0.002685                                1.848330    -0.143214   \n",
       "6        -0.002685                               -0.580392    -0.143214   \n",
       "\n",
       "       year     month  \n",
       "1  1.227861  0.449127  \n",
       "3  1.227861  0.157554  \n",
       "4  1.227861  1.615418  \n",
       "5  1.227861  0.157554  \n",
       "6  1.227861 -0.134019  "
      ]
     },
     "execution_count": 261,
     "metadata": {},
     "output_type": "execute_result"
    }
   ],
   "source": [
    "data.head()"
   ]
  },
  {
   "cell_type": "markdown",
   "metadata": {},
   "source": [
    "Диаграмма матрицы рассеивания примет следующий вид:\n",
    "\n",
    "\n",
    "\n",
    "\n",
    "\n",
    "\n"
   ]
  },
  {
   "cell_type": "markdown",
   "metadata": {},
   "source": [
    "# X и y"
   ]
  },
  {
   "cell_type": "code",
   "execution_count": 262,
   "metadata": {},
   "outputs": [
    {
     "name": "stdout",
     "output_type": "stream",
     "text": [
      "(138669, 15)\n",
      "(138669,)\n"
     ]
    }
   ],
   "source": [
    "X = data.values\n",
    "print(X.shape)\n",
    "print(y.shape)"
   ]
  },
  {
   "cell_type": "markdown",
   "metadata": {},
   "source": [
    "Разобьем данные на 2 части: тестовую и обучающую, в соотношении 30% и 70%\n",
    "    "
   ]
  },
  {
   "cell_type": "code",
   "execution_count": 274,
   "metadata": {},
   "outputs": [
    {
     "name": "stdout",
     "output_type": "stream",
     "text": [
      "(13866, 15)\n",
      "(6934, 15)\n"
     ]
    }
   ],
   "source": [
    "from sklearn.model_selection import train_test_split\n",
    "X_train, X_test, y_train, y_test = train_test_split(X, y, train_size = 0.1, test_size = 0.05, random_state = 25)\n",
    "\n",
    "\n",
    "print(X_train.shape)\n",
    "print(X_test.shape)"
   ]
  },
  {
   "cell_type": "code",
   "execution_count": 275,
   "metadata": {},
   "outputs": [
    {
     "name": "stdout",
     "output_type": "stream",
     "text": [
      "Wall time: 99.9 ms\n"
     ]
    }
   ],
   "source": [
    "%%time\n",
    "from sklearn.neighbors import KNeighborsClassifier\n",
    "\n",
    "knn = KNeighborsClassifier(n_neighbors = 1, algorithm='kd_tree')\n",
    "knn.fit(X_train, y_train)"
   ]
  },
  {
   "cell_type": "code",
   "execution_count": 276,
   "metadata": {},
   "outputs": [
    {
     "name": "stdout",
     "output_type": "stream",
     "text": [
      "0.0 0.022497836746466687\n",
      "Wall time: 2.6 s\n"
     ]
    }
   ],
   "source": [
    "%%time\n",
    "y_train_predict = knn.predict(X_train)\n",
    "y_test_predict = knn.predict(X_test)\n",
    "\n",
    "err_train = np.mean(y_train != y_train_predict)\n",
    "err_test  = np.mean(y_test  != y_test_predict)\n",
    "\n",
    "print(err_train, err_test)"
   ]
  },
  {
   "cell_type": "code",
   "execution_count": 279,
   "metadata": {},
   "outputs": [
    {
     "name": "stdout",
     "output_type": "stream",
     "text": [
      "Ошибка  0.010529352372710243 Количество соседей:  5\n",
      "Wall time: 54.9 s\n"
     ]
    }
   ],
   "source": [
    "%%time\n",
    "from sklearn.model_selection import GridSearchCV\n",
    "nnb = [1, 2, 5, 10]\n",
    "knn = KNeighborsClassifier()\n",
    "grid = GridSearchCV(knn, param_grid = {'n_neighbors': nnb}, cv=5)\n",
    "grid.fit(X_train, y_train)\n",
    "\n",
    "best_cv_err = 1 - grid.best_score_\n",
    "best_n_neighbors = grid.best_estimator_.n_neighbors\n",
    "print(\"Ошибка \", best_cv_err, \"Количество соседей: \", best_n_neighbors)"
   ]
  },
  {
   "cell_type": "code",
   "execution_count": 280,
   "metadata": {},
   "outputs": [
    {
     "name": "stdout",
     "output_type": "stream",
     "text": [
      "0.009808163854031444 0.013844822613210269\n",
      "Wall time: 6.02 s\n"
     ]
    }
   ],
   "source": [
    "%%time\n",
    "knn = KNeighborsClassifier(n_neighbors = best_n_neighbors).fit(X_train, y_train)\n",
    "\n",
    "y_train_predict = knn.predict(X_train)\n",
    "y_test_predict = knn.predict(X_test)\n",
    "\n",
    "err_train = np.mean(y_train != y_train_predict)\n",
    "err_test  = np.mean(y_test  != y_test_predict)\n",
    "\n",
    "print(err_train, err_test)"
   ]
  },
  {
   "cell_type": "markdown",
   "metadata": {},
   "source": [
    "\n",
    "\n",
    "\n",
    "# Задание №2.\n",
    "\n",
    "\n"
   ]
  },
  {
   "cell_type": "markdown",
   "metadata": {},
   "source": [
    "Обучаем классификатор.\n",
    "    "
   ]
  },
  {
   "cell_type": "code",
   "execution_count": 281,
   "metadata": {},
   "outputs": [
    {
     "data": {
      "text/plain": [
       "MLPClassifier(activation='logistic', alpha=0.0001, batch_size='auto',\n",
       "       beta_1=0.9, beta_2=0.999, early_stopping=False, epsilon=1e-08,\n",
       "       hidden_layer_sizes=(50,), learning_rate='constant',\n",
       "       learning_rate_init=0.001, max_iter=200, momentum=0.9,\n",
       "       n_iter_no_change=10, nesterovs_momentum=True, power_t=0.5,\n",
       "       random_state=15, shuffle=True, solver='lbfgs', tol=0.0001,\n",
       "       validation_fraction=0.1, verbose=False, warm_start=False)"
      ]
     },
     "execution_count": 281,
     "metadata": {},
     "output_type": "execute_result"
    }
   ],
   "source": [
    "from sklearn.neural_network import MLPClassifier\n",
    "mlp_model = MLPClassifier(hidden_layer_sizes = (50,), solver = 'lbfgs', \n",
    "                          activation = 'logistic', random_state = 15)\n",
    "mlp_model.fit(X_train, y_train)\n"
   ]
  },
  {
   "cell_type": "code",
   "execution_count": 282,
   "metadata": {},
   "outputs": [],
   "source": [
    "y_train_pred = mlp_model.predict(X_train)\n",
    "y_test_pred = mlp_model.predict(X_test)"
   ]
  },
  {
   "cell_type": "code",
   "execution_count": 283,
   "metadata": {},
   "outputs": [
    {
     "name": "stdout",
     "output_type": "stream",
     "text": [
      "0.006346458964373287 0.015719642342082493\n"
     ]
    }
   ],
   "source": [
    "print(np.mean(y_train != y_train_pred), np.mean(y_test != y_test_pred))"
   ]
  },
  {
   "cell_type": "code",
   "execution_count": 285,
   "metadata": {},
   "outputs": [
    {
     "name": "stdout",
     "output_type": "stream",
     "text": [
      "[0.0001     0.00021544 0.00046416 0.001      0.00215443 0.00464159\n",
      " 0.01       0.02154435 0.04641589 0.1       ]\n"
     ]
    }
   ],
   "source": [
    "alpha_arr = np.logspace(-4, -1, 10)\n",
    "print(alpha_arr)"
   ]
  },
  {
   "cell_type": "markdown",
   "metadata": {},
   "source": [
    "Подберем оптимальное значение параметра регуляризации `alpha`    "
   ]
  },
  {
   "cell_type": "code",
   "execution_count": 289,
   "metadata": {},
   "outputs": [
    {
     "name": "stdout",
     "output_type": "stream",
     "text": [
      "Wall time: 1min\n"
     ]
    }
   ],
   "source": [
    "%%time\n",
    "alpha_arr = np.logspace(-5, 5, 10)\n",
    "test_err = []\n",
    "train_err = []\n",
    "for alpha in alpha_arr:\n",
    "    mlp_model = MLPClassifier(alpha = alpha, hidden_layer_sizes = (50,), \n",
    "                              solver = 'lbfgs', activation = 'logistic', random_state = 15)\n",
    "    mlp_model.fit(X_train, y_train)\n",
    "\n",
    "    y_train_pred = mlp_model.predict(X_train)\n",
    "    y_test_pred = mlp_model.predict(X_test)\n",
    "    train_err.append(np.mean(y_train != y_train_pred))\n",
    "    test_err.append(np.mean(y_test != y_test_pred))"
   ]
  },
  {
   "cell_type": "code",
   "execution_count": 290,
   "metadata": {},
   "outputs": [
    {
     "data": {
      "image/png": "[encoded data removed]",
      "text/plain": [
       "<Figure size 432x288 with 1 Axes>"
      ]
     },
     "metadata": {
      "needs_background": "light"
     },
     "output_type": "display_data"
    }
   ],
   "source": [
    "plt.semilogx(alpha_arr, train_err, 'b-o', label = 'train')\n",
    "plt.semilogx(alpha_arr, test_err, 'r-o', label = 'test')\n",
    "plt.xlim([np.max(alpha_arr), np.min(alpha_arr)])\n",
    "plt.title('Error vs. alpha')\n",
    "plt.xlabel('alpha')\n",
    "plt.ylabel('error')\n",
    "plt.legend()\n",
    "pass"
   ]
  },
  {
   "cell_type": "markdown",
   "metadata": {},
   "source": [
    "Минимальное значение ошибки.\n",
    "    "
   ]
  },
  {
   "cell_type": "code",
   "execution_count": 291,
   "metadata": {},
   "outputs": [
    {
     "name": "stdout",
     "output_type": "stream",
     "text": [
      "0.006418577816241166 0.013267955004326508\n"
     ]
    }
   ],
   "source": [
    "min_train_err = np.min(train_err)\n",
    "min_test_err = np.min(test_err)\n",
    "print(min_train_err, min_test_err)"
   ]
  },
  {
   "cell_type": "code",
   "execution_count": 292,
   "metadata": {},
   "outputs": [
    {
     "name": "stdout",
     "output_type": "stream",
     "text": [
      "[3.59381366e+00 4.64158883e+01 5.99484250e+02 7.74263683e+03\n",
      " 1.00000000e+05]\n"
     ]
    }
   ],
   "source": [
    "alpha_opt = alpha_arr[test_err == min_test_err]\n",
    "print(alpha_opt)"
   ]
  },
  {
   "cell_type": "code",
   "execution_count": 293,
   "metadata": {},
   "outputs": [],
   "source": [
    "alpha_opt = alpha_opt[0]"
   ]
  },
  {
   "cell_type": "markdown",
   "metadata": {},
   "source": [
    "Повторим обучение.\n",
    "    "
   ]
  },
  {
   "cell_type": "code",
   "execution_count": 294,
   "metadata": {},
   "outputs": [
    {
     "name": "stdout",
     "output_type": "stream",
     "text": [
      "0.010745708928313861\n",
      "0.013267955004326508\n"
     ]
    }
   ],
   "source": [
    "mlp_model = MLPClassifier(alpha = alpha_opt, hidden_layer_sizes = (50,),\n",
    "                          solver = 'lbfgs', activation = 'logistic', random_state = 15)\n",
    "mlp_model.fit(X_train, y_train)\n",
    "\n",
    "y_train_pred = mlp_model.predict(X_train)\n",
    "y_test_pred = mlp_model.predict(X_test)\n",
    "print(np.mean(y_train != y_train_pred))\n",
    "print(np.mean(y_test != y_test_pred))"
   ]
  },
  {
   "cell_type": "markdown",
   "metadata": {},
   "source": [
    "Матрица рассогласования.\n",
    "    "
   ]
  },
  {
   "cell_type": "code",
   "execution_count": 295,
   "metadata": {},
   "outputs": [
    {
     "name": "stdout",
     "output_type": "stream",
     "text": [
      "[[   0    0]\n",
      " [  92 6842]]\n"
     ]
    }
   ],
   "source": [
    "from sklearn.metrics import confusion_matrix\n",
    "print(confusion_matrix(y_test_pred, y_test))"
   ]
  },
  {
   "cell_type": "code",
   "execution_count": 297,
   "metadata": {},
   "outputs": [
    {
     "data": {
      "image/png": "[encoded data removed]",
      "text/plain": [
       "<Figure size 432x288 with 2 Axes>"
      ]
     },
     "metadata": {
      "needs_background": "light"
     },
     "output_type": "display_data"
    }
   ],
   "source": [
    "M = confusion_matrix(y_test_pred, y_test)\n",
    "M = np.sqrt(M)\n",
    "plt.imshow(M, interpolation = 'nearest')\n",
    "plt.set_cmap('binary')\n",
    "plt.xticks(range(2))\n",
    "plt.yticks(range(2))\n",
    "plt.xlabel(\"true label\")\n",
    "plt.ylabel(\"predicted label\")\n",
    "plt.colorbar()\n",
    "pass"
   ]
  },
  {
   "cell_type": "markdown",
   "metadata": {},
   "source": [
    "Попробуем другие параметры.    "
   ]
  },
  {
   "cell_type": "code",
   "execution_count": 299,
   "metadata": {},
   "outputs": [
    {
     "data": {
      "text/plain": [
       "MLPClassifier(activation='logistic', alpha=0.0001, batch_size='auto',\n",
       "       beta_1=0.9, beta_2=0.999, early_stopping=False, epsilon=1e-08,\n",
       "       hidden_layer_sizes=(50, 50), learning_rate='constant',\n",
       "       learning_rate_init=0.001, max_iter=200, momentum=0.9,\n",
       "       n_iter_no_change=10, nesterovs_momentum=True, power_t=0.5,\n",
       "       random_state=15, shuffle=True, solver='lbfgs', tol=0.0001,\n",
       "       validation_fraction=0.1, verbose=False, warm_start=False)"
      ]
     },
     "execution_count": 299,
     "metadata": {},
     "output_type": "execute_result"
    }
   ],
   "source": [
    "from sklearn.neural_network import MLPClassifier\n",
    "mlp_model = MLPClassifier(hidden_layer_sizes = (50,50), solver = 'lbfgs', \n",
    "                          activation = 'logistic', random_state = 15)\n",
    "mlp_model.fit(X_train, y_train)\n"
   ]
  },
  {
   "cell_type": "code",
   "execution_count": 300,
   "metadata": {},
   "outputs": [
    {
     "name": "stdout",
     "output_type": "stream",
     "text": [
      "0.007428241742391461 0.01456590712431497\n"
     ]
    }
   ],
   "source": [
    "y_train_pred = mlp_model.predict(X_train)\n",
    "y_test_pred = mlp_model.predict(X_test)\n",
    "print(np.mean(y_train != y_train_pred), np.mean(y_test != y_test_pred))"
   ]
  },
  {
   "cell_type": "code",
   "execution_count": 302,
   "metadata": {},
   "outputs": [],
   "source": [
    "alpha_arr = np.logspace(-5, 5, 10)\n",
    "test_err = []\n",
    "train_err = []\n",
    "for alpha in alpha_arr:\n",
    "    mlp_model = MLPClassifier(alpha = alpha, hidden_layer_sizes = (50,50), \n",
    "                              solver = 'lbfgs', activation = 'logistic', random_state = 15)\n",
    "    mlp_model.fit(X_train, y_train)\n",
    "\n",
    "    y_train_pred = mlp_model.predict(X_train)\n",
    "    y_test_pred = mlp_model.predict(X_test)\n",
    "    train_err.append(np.mean(y_train != y_train_pred))\n",
    "    test_err.append(np.mean(y_test != y_test_pred))"
   ]
  },
  {
   "cell_type": "code",
   "execution_count": 303,
   "metadata": {},
   "outputs": [
    {
     "data": {
      "image/png": "[encoded data removed]",
      "text/plain": [
       "<Figure size 432x288 with 1 Axes>"
      ]
     },
     "metadata": {
      "needs_background": "light"
     },
     "output_type": "display_data"
    }
   ],
   "source": [
    "plt.semilogx(alpha_arr, train_err, 'b-o', label = 'train')\n",
    "plt.semilogx(alpha_arr, test_err, 'r-o', label = 'test')\n",
    "plt.xlim([np.max(alpha_arr), np.min(alpha_arr)])\n",
    "plt.title('Error vs. alpha')\n",
    "plt.xlabel('alpha')\n",
    "plt.ylabel('error')\n",
    "plt.legend()\n",
    "pass"
   ]
  },
  {
   "cell_type": "code",
   "execution_count": 304,
   "metadata": {},
   "outputs": [
    {
     "name": "stdout",
     "output_type": "stream",
     "text": [
      "0.007788836001730853 0.013267955004326508\n"
     ]
    }
   ],
   "source": [
    "min_train_err = np.min(train_err)\n",
    "min_test_err = np.min(test_err)\n",
    "print(min_train_err, min_test_err)"
   ]
  },
  {
   "cell_type": "code",
   "execution_count": 305,
   "metadata": {},
   "outputs": [
    {
     "name": "stdout",
     "output_type": "stream",
     "text": [
      "[2.78255940e-01 3.59381366e+00 4.64158883e+01 5.99484250e+02\n",
      " 7.74263683e+03 1.00000000e+05]\n"
     ]
    }
   ],
   "source": [
    "alpha_opt = alpha_arr[test_err == min_test_err]\n",
    "print(alpha_opt)\n",
    "alpha_opt = alpha_opt[0]"
   ]
  },
  {
   "cell_type": "code",
   "execution_count": 306,
   "metadata": {},
   "outputs": [
    {
     "name": "stdout",
     "output_type": "stream",
     "text": [
      "0.010745708928313861\n",
      "0.013267955004326508\n"
     ]
    }
   ],
   "source": [
    "mlp_model = MLPClassifier(alpha = alpha_opt, hidden_layer_sizes = (50,50),\n",
    "                          solver = 'lbfgs', activation = 'logistic', random_state = 15)\n",
    "mlp_model.fit(X_train, y_train)\n",
    "\n",
    "y_train_pred = mlp_model.predict(X_train)\n",
    "y_test_pred = mlp_model.predict(X_test)\n",
    "print(np.mean(y_train != y_train_pred))\n",
    "print(np.mean(y_test != y_test_pred))"
   ]
  },
  {
   "cell_type": "code",
   "execution_count": 307,
   "metadata": {},
   "outputs": [
    {
     "name": "stdout",
     "output_type": "stream",
     "text": [
      "[[   0    0]\n",
      " [  92 6842]]\n"
     ]
    }
   ],
   "source": [
    "from sklearn.metrics import confusion_matrix\n",
    "print(confusion_matrix(y_test_pred, y_test))"
   ]
  },
  {
   "cell_type": "code",
   "execution_count": 308,
   "metadata": {},
   "outputs": [
    {
     "data": {
      "image/png": "[encoded data removed]",
      "text/plain": [
       "<Figure size 432x288 with 2 Axes>"
      ]
     },
     "metadata": {
      "needs_background": "light"
     },
     "output_type": "display_data"
    }
   ],
   "source": [
    "M = confusion_matrix(y_test_pred, y_test)\n",
    "M = np.sqrt(M)\n",
    "plt.imshow(M, interpolation = 'nearest')\n",
    "plt.set_cmap('binary')\n",
    "plt.xticks(range(2))\n",
    "plt.yticks(range(2))\n",
    "plt.xlabel(\"true label\")\n",
    "plt.ylabel(\"predicted label\")\n",
    "plt.colorbar()\n",
    "pass"
   ]
  },
  {
   "cell_type": "markdown",
   "metadata": {},
   "source": [
    "\n",
    "\n",
    "\n",
    "# Задание №3.\n",
    "\n",
    "\n"
   ]
  },
  {
   "cell_type": "markdown",
   "metadata": {},
   "source": [
    "# Random Forest"
   ]
  },
  {
   "cell_type": "code",
   "execution_count": 324,
   "metadata": {},
   "outputs": [
    {
     "name": "stdout",
     "output_type": "stream",
     "text": [
      "0.0 0.011393135275454283\n"
     ]
    }
   ],
   "source": [
    "from sklearn import ensemble\n",
    "rf = ensemble.RandomForestClassifier(n_estimators = 1000)\n",
    "rf.fit(X_train, y_train)\n",
    "\n",
    "err_train = np.mean(y_train != rf.predict(X_train))\n",
    "err_test  = np.mean(y_test  != rf.predict(X_test))\n",
    "\n",
    "print(err_train, err_test)"
   ]
  },
  {
   "cell_type": "code",
   "execution_count": 326,
   "metadata": {},
   "outputs": [
    {
     "name": "stdout",
     "output_type": "stream",
     "text": [
      "[ 1  4  7 10 13 16 19 22 25 28 32 35 38 41 44 47 50 53 56 60]\n"
     ]
    }
   ],
   "source": [
    "tree_arr = np.linspace(1, 60, 20, dtype=int)\n",
    "print(tree_arr)\n",
    "test_err = []\n",
    "train_err = []\n",
    "for tree in tree_arr:\n",
    "    rf = ensemble.RandomForestClassifier(n_estimators = tree)\n",
    "    rf.fit(X_train, y_train)\n",
    "\n",
    "    y_train_pred = rf.predict(X_train)\n",
    "    y_test_pred = rf.predict(X_test)\n",
    "    train_err.append(np.mean(y_train != y_train_pred))\n",
    "    test_err.append(np.mean(y_test != y_test_pred))"
   ]
  },
  {
   "cell_type": "code",
   "execution_count": 327,
   "metadata": {},
   "outputs": [
    {
     "data": {
      "image/png": "[encoded data removed]",
      "text/plain": [
       "<Figure size 432x288 with 1 Axes>"
      ]
     },
     "metadata": {
      "needs_background": "light"
     },
     "output_type": "display_data"
    }
   ],
   "source": [
    "plt.plot(tree_arr, train_err, 'b-o', label = 'train')\n",
    "plt.plot(tree_arr, test_err, 'r-o', label = 'test')\n",
    "plt.xlim([np.max(tree_arr), np.min(tree_arr)])\n",
    "plt.title('Error vs. tree')\n",
    "plt.xlabel('tree')\n",
    "plt.ylabel('error')\n",
    "plt.xlim([np.min(tree_arr), np.max(tree_arr)])\n",
    "plt.legend()\n",
    "pass"
   ]
  },
  {
   "cell_type": "markdown",
   "metadata": {},
   "source": [
    "# Extremely Randomized Trees"
   ]
  },
  {
   "cell_type": "code",
   "execution_count": 328,
   "metadata": {},
   "outputs": [
    {
     "name": "stdout",
     "output_type": "stream",
     "text": [
      "0.0 0.012979521199884627\n"
     ]
    }
   ],
   "source": [
    "ert = ensemble.ExtraTreesClassifier(n_estimators = 30).fit(X_train, y_train)\n",
    "\n",
    "err_train = np.mean(y_train != ert.predict(X_train))\n",
    "err_test  = np.mean(y_test  != ert.predict(X_test))\n",
    "\n",
    "print(err_train, err_test)"
   ]
  },
  {
   "cell_type": "code",
   "execution_count": 330,
   "metadata": {},
   "outputs": [
    {
     "name": "stdout",
     "output_type": "stream",
     "text": [
      "[ 1  4  7 10 13 16 19 22 25 28 32 35 38 41 44 47 50 53 56 60]\n"
     ]
    }
   ],
   "source": [
    "tree_arr_ert = np.linspace(1, 60, 20, dtype=int)\n",
    "print(tree_arr_ert)\n",
    "test_err = []\n",
    "train_err = []\n",
    "for tree in tree_arr_ert:\n",
    "    ert = ensemble.ExtraTreesClassifier(n_estimators = tree)\n",
    "    ert.fit(X_train, y_train)\n",
    "\n",
    "    y_train_pred = ert.predict(X_train)\n",
    "    y_test_pred = ert.predict(X_test)\n",
    "    train_err.append(np.mean(y_train != y_train_pred))\n",
    "    test_err.append(np.mean(y_test != y_test_pred))"
   ]
  },
  {
   "cell_type": "code",
   "execution_count": 331,
   "metadata": {},
   "outputs": [
    {
     "data": {
      "image/png": "[encoded data removed]",
      "text/plain": [
       "<Figure size 432x288 with 1 Axes>"
      ]
     },
     "metadata": {
      "needs_background": "light"
     },
     "output_type": "display_data"
    }
   ],
   "source": [
    "plt.plot(tree_arr_ert, train_err, 'b-o', label = 'train')\n",
    "plt.plot(tree_arr_ert, test_err, 'r-o', label = 'test')\n",
    "plt.title('Error vs. tree')\n",
    "plt.xlabel('tree')\n",
    "plt.ylabel('error')\n",
    "plt.xlim([np.min(tree_arr), np.max(tree_arr)])\n",
    "plt.legend()\n",
    "pass"
   ]
  },
  {
   "cell_type": "markdown",
   "metadata": {},
   "source": [
    "# AdaBoost"
   ]
  },
  {
   "cell_type": "code",
   "execution_count": 332,
   "metadata": {},
   "outputs": [
    {
     "name": "stdout",
     "output_type": "stream",
     "text": [
      "0.008437905668541757 0.012546870493221805\n"
     ]
    }
   ],
   "source": [
    "ada = ensemble.AdaBoostClassifier(n_estimators = 100)\n",
    "ada.fit(X_train, y_train)\n",
    "\n",
    "err_train = np.mean(y_train != ada.predict(X_train))\n",
    "err_test = np.mean(y_test != ada.predict(X_test))\n",
    "\n",
    "print(err_train, err_test)"
   ]
  },
  {
   "cell_type": "code",
   "execution_count": 357,
   "metadata": {},
   "outputs": [
    {
     "name": "stdout",
     "output_type": "stream",
     "text": [
      "[ 1  2  3  4  5  6  7  8  9 10 11 12 13 14 15 16 17 18 19 20]\n"
     ]
    }
   ],
   "source": [
    "import sklearn.linear_model as lm\n",
    "tree_arr_ada = np.linspace(1, 20, 20, dtype='int')\n",
    "print(tree_arr_ada)\n",
    "test_err = []\n",
    "train_err = []\n",
    "log_reg = lm.LogisticRegression(solver='lbfgs')\n",
    "\n",
    "for tree in tree_arr_ada:\n",
    "    ada = ensemble.AdaBoostClassifier(n_estimators = tree, learning_rate=0.3)\n",
    "    ada.fit(X_train, y_train)\n",
    "\n",
    "    y_train_pred = ada.predict(X_train)\n",
    "    y_test_pred = ada.predict(X_test)\n",
    "    train_err.append(np.mean(y_train != y_train_pred))\n",
    "    test_err.append(np.mean(y_test != y_test_pred))"
   ]
  },
  {
   "cell_type": "code",
   "execution_count": 358,
   "metadata": {},
   "outputs": [
    {
     "data": {
      "image/png": "[encoded data removed]",
      "text/plain": [
       "<Figure size 432x288 with 1 Axes>"
      ]
     },
     "metadata": {
      "needs_background": "light"
     },
     "output_type": "display_data"
    }
   ],
   "source": [
    "plt.plot(tree_arr_ada, train_err, 'b-o', label = 'train')\n",
    "plt.plot(tree_arr_ada, test_err, 'r-o', label = 'test')\n",
    "plt.title('Error vs. tree')\n",
    "plt.xlabel('tree')\n",
    "plt.ylabel('error')\n",
    "plt.xlim([np.min(tree_arr_ada), np.max(tree_arr_ada)])\n",
    "plt.legend()\n",
    "pass"
   ]
  },
  {
   "cell_type": "markdown",
   "metadata": {},
   "source": [
    "# GBT"
   ]
  },
  {
   "cell_type": "code",
   "execution_count": 359,
   "metadata": {},
   "outputs": [
    {
     "name": "stdout",
     "output_type": "stream",
     "text": [
      "0.006130102408769653 0.01485434092875685\n"
     ]
    }
   ],
   "source": [
    "gbt = ensemble.GradientBoostingClassifier(n_estimators = 100)\n",
    "gbt.fit(X_train, y_train)\n",
    "\n",
    "err_train = np.mean(y_train != gbt.predict(X_train))\n",
    "err_test = np.mean(y_test != gbt.predict(X_test))\n",
    "\n",
    "print(err_train, err_test)"
   ]
  },
  {
   "cell_type": "code",
   "execution_count": 360,
   "metadata": {},
   "outputs": [
    {
     "name": "stdout",
     "output_type": "stream",
     "text": [
      "[ 1  2  3  4  5  6  7  8  9 10 11 12 13 14 15 16 17 18 19 20]\n"
     ]
    }
   ],
   "source": [
    "tree_arr_gbt = np.linspace(1, 20, 20, dtype='int')\n",
    "print(tree_arr_gbt)\n",
    "test_err = []\n",
    "train_err = []\n",
    "for tree in tree_arr_gbt:\n",
    "    gbt = ensemble.GradientBoostingClassifier(n_estimators = tree)\n",
    "    gbt.fit(X_train, y_train)\n",
    "\n",
    "    y_train_pred = gbt.predict(X_train)\n",
    "    y_test_pred = gbt.predict(X_test)\n",
    "    train_err.append(np.mean(y_train != y_train_pred))\n",
    "    test_err.append(np.mean(y_test != y_test_pred))"
   ]
  },
  {
   "cell_type": "code",
   "execution_count": 361,
   "metadata": {},
   "outputs": [
    {
     "data": {
      "image/png": "[encoded data removed]",
      "text/plain": [
       "<Figure size 432x288 with 1 Axes>"
      ]
     },
     "metadata": {
      "needs_background": "light"
     },
     "output_type": "display_data"
    }
   ],
   "source": [
    "plt.plot(tree_arr_ert, train_err, 'b-o', label = 'train')\n",
    "plt.plot(tree_arr_ert, test_err, 'r-o', label = 'test')\n",
    "plt.xlim([np.min(tree_arr_gbt), np.max(tree_arr_gbt)])\n",
    "plt.title('Error vs. tree')\n",
    "plt.xlabel('tree')\n",
    "plt.ylabel('error')\n",
    "plt.legend()\n",
    "pass"
   ]
  },
  {
   "cell_type": "markdown",
   "metadata": {},
   "source": [
    "\n",
    "\n",
    "\n",
    "# Задание №4.\n",
    "\n",
    "\n"
   ]
  },
  {
   "cell_type": "code",
   "execution_count": 362,
   "metadata": {},
   "outputs": [
    {
     "data": {
      "text/plain": [
       "(138669, 15)"
      ]
     },
     "execution_count": 362,
     "metadata": {},
     "output_type": "execute_result"
    }
   ],
   "source": [
    "X.shape"
   ]
  },
  {
   "cell_type": "code",
   "execution_count": 363,
   "metadata": {},
   "outputs": [],
   "source": [
    "from sklearn import decomposition \n",
    "pca = decomposition.PCA(n_components = 10)\n",
    "X_train_cut = pca.fit_transform(X_train)\n",
    "X_test_cut = pca.transform(X_test)"
   ]
  },
  {
   "cell_type": "code",
   "execution_count": 364,
   "metadata": {},
   "outputs": [
    {
     "data": {
      "text/plain": [
       "RandomForestClassifier(bootstrap=True, class_weight=None, criterion='gini',\n",
       "            max_depth=None, max_features='auto', max_leaf_nodes=None,\n",
       "            min_impurity_decrease=0.0, min_impurity_split=None,\n",
       "            min_samples_leaf=1, min_samples_split=2,\n",
       "            min_weight_fraction_leaf=0.0, n_estimators=60, n_jobs=None,\n",
       "            oob_score=False, random_state=None, verbose=0,\n",
       "            warm_start=False)"
      ]
     },
     "execution_count": 364,
     "metadata": {},
     "output_type": "execute_result"
    }
   ],
   "source": [
    "from sklearn import ensemble\n",
    "rf = ensemble.RandomForestClassifier(n_estimators = 60)\n",
    "rf.fit(X_train_cut, y_train)"
   ]
  },
  {
   "cell_type": "code",
   "execution_count": 365,
   "metadata": {},
   "outputs": [
    {
     "name": "stdout",
     "output_type": "stream",
     "text": [
      "Error train: 0.00014423770373575654\n",
      "Error test: 0.012546870493221805\n"
     ]
    }
   ],
   "source": [
    "err_train = np.mean(y_train != rf.predict(X_train_cut))\n",
    "err_test  = np.mean(y_test  != rf.predict(X_test_cut))\n",
    "\n",
    "\n",
    "print ('Error train:', err_train)\n",
    "print ('Error test:', err_test)"
   ]
  },
  {
   "cell_type": "code",
   "execution_count": 370,
   "metadata": {},
   "outputs": [
    {
     "name": "stderr",
     "output_type": "stream",
     "text": [
      "c:\\users\\novozhilova nastya\\appdata\\local\\programs\\python\\python36-32\\lib\\site-packages\\sklearn\\ensemble\\forest.py:460: UserWarning: Some inputs do not have OOB scores. This probably means too few trees were used to compute any reliable oob estimates.\n",
      "  warn(\"Some inputs do not have OOB scores. \"\n",
      "c:\\users\\novozhilova nastya\\appdata\\local\\programs\\python\\python36-32\\lib\\site-packages\\sklearn\\ensemble\\forest.py:465: RuntimeWarning: invalid value encountered in true_divide\n",
      "  predictions[k].sum(axis=1)[:, np.newaxis])\n"
     ]
    }
   ],
   "source": [
    "from sklearn.decomposition import PCA\n",
    "component_array = np.arange(1, 16, dtype=int)\n",
    "test_err = []\n",
    "train_err = []\n",
    "oob_err = []\n",
    "for components in component_array:\n",
    "    pca = PCA(n_components = components)\n",
    "    X_PCA_train = pca.fit_transform(X_train)\n",
    "    X_PCA_test = pca.transform(X_test)\n",
    "    rf = ensemble.RandomForestClassifier(n_estimators = 30, oob_score=True, bootstrap=True)\n",
    "    rf.fit(X_PCA_train, y_train)\n",
    "    train_err.append(np.mean(y_train != rf.predict(X_PCA_train)))\n",
    "    test_err.append(np.mean(y_test  != rf.predict(X_PCA_test)))\n",
    "    oob_err.append(1 - rf.oob_score_)\n"
   ]
  },
  {
   "cell_type": "code",
   "execution_count": 373,
   "metadata": {},
   "outputs": [
    {
     "data": {
      "image/png": "[encoded data removed]",
      "text/plain": [
       "<Figure size 432x288 with 1 Axes>"
      ]
     },
     "metadata": {
      "needs_background": "light"
     },
     "output_type": "display_data"
    }
   ],
   "source": [
    "plt.plot(component_array, train_err, 'b-o', label = 'train')\n",
    "plt.plot(component_array, test_err, 'r-o', label = 'test')\n",
    "plt.plot(component_array, oob_err, 'g-o', label = 'oob_err')\n",
    "plt.xlim([np.min(component_array), np.max(component_array)])\n",
    "plt.title('Error vs Components')\n",
    "plt.xlabel('Components')\n",
    "plt.ylabel('Error')\n",
    "plt.legend()\n",
    "pass"
   ]
  },
  {
   "cell_type": "code",
   "execution_count": 374,
   "metadata": {},
   "outputs": [
    {
     "name": "stdout",
     "output_type": "stream",
     "text": [
      "Min error train: 0.00014423770373575654\n",
      "Min error test: 0.012258436688779925\n"
     ]
    }
   ],
   "source": [
    "min_train_err = np.min(train_err)\n",
    "min_test_err = np.min(test_err)\n",
    "\n",
    "print ('Min error train:', min_train_err)\n",
    "print ('Min error test:', min_test_err)"
   ]
  },
  {
   "cell_type": "code",
   "execution_count": 375,
   "metadata": {},
   "outputs": [
    {
     "name": "stdout",
     "output_type": "stream",
     "text": [
      "11\n"
     ]
    }
   ],
   "source": [
    "component_opt = component_array[test_err == min_test_err]\n",
    "component_opt = component_opt[0]\n",
    "print(component_opt)"
   ]
  },
  {
   "cell_type": "code",
   "execution_count": null,
   "metadata": {},
   "outputs": [],
   "source": []
  }
 ],
 "metadata": {
  "kernelspec": {
   "display_name": "Python 3",
   "language": "python",
   "name": "python3"
  },
  "language_info": {
   "codemirror_mode": {
    "name": "ipython",
    "version": 3
   },
   "file_extension": ".py",
   "mimetype": "text/x-python",
   "name": "python",
   "nbconvert_exporter": "python",
   "pygments_lexer": "ipython3",
   "version": "3.6.3"
  }
 },
 "nbformat": 4,
 "nbformat_minor": 1
}
